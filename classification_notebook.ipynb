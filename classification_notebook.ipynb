{
 "cells": [
  {
   "cell_type": "markdown",
   "id": "cd41ca97",
   "metadata": {},
   "source": [
    "# Classification for the Spotify dataset\n",
    "In the following, we will perform classification for the given dataset. Goal is _create a model classificator for labelling tracks by `genre`_.  \n",
    "We will perform 3 attempts for this classification:\n",
    "- multiclass classification with n_class = n_genra;\n",
    "- multiclass classification with n_class < n_genra, and in particular we want to regroup consider some sort of 'basic' genra criterion;\n",
    "- binary classification, not musical tracks vs musical tracks. "
   ]
  },
  {
   "cell_type": "code",
   "execution_count": 2,
   "id": "cdfdb611",
   "metadata": {},
   "outputs": [],
   "source": [
    "import numpy as np\n",
    "import matplotlib.pyplot as plt\n",
    "import seaborn as sns\n",
    "import pandas as pd"
   ]
  },
  {
   "cell_type": "markdown",
   "id": "71bc386c",
   "metadata": {},
   "source": [
    "## Evaluation metrics\n",
    "Importing the metrics for evaluating performances.  \n",
    "Here reporting some formulas in order to recap everything:  \n",
    "$$Acc = \\frac{TP + TN}{TP + TN + FP + FN} $$  \n",
    "The F1 score can be interpreted as a harmonic mean (harmonic mean is the reciprocal of the aritmetic mean of the reciprocals. It is sometimes appropriate for situations when the average rate is desired) of the precision and recall, where an F1 score reaches its best value at 1 and worst score at 0. The relative contribution of precision and recall to the F1 score are equal. The formula for the F1 score is F1 = 2 * (precision * recall) / (precision + recall):\n",
    "\n",
    "$$F1_{\\text{score}} = \\frac{2TP}{2TP + FN + FP} $$  \n",
    "$$Recall = \\frac{TP}{TP + FN} $$"
   ]
  },
  {
   "cell_type": "code",
   "execution_count": 3,
   "id": "3d88310f",
   "metadata": {},
   "outputs": [],
   "source": [
    "#Importing the performance metrics\n",
    "from sklearn.metrics import (\n",
    "    accuracy_score,\n",
    "    f1_score,\n",
    "    classification_report,\n",
    "    confusion_matrix,\n",
    "    roc_auc_score,\n",
    ")\n",
    "from scikitplot.metrics import plot_roc\n",
    "from scikitplot.metrics import plot_precision_recall"
   ]
  },
  {
   "cell_type": "code",
   "execution_count": 4,
   "id": "6f3a92f2",
   "metadata": {},
   "outputs": [],
   "source": [
    "# importing datasets - one will be used for training, one for testing.\n",
    "df_original_copy_training = pd.read_csv(\"dataset (missing + split)/train.csv\", skipinitialspace=True)\n",
    "df_train = pd.read_csv(\"dataset (missing + split)/train.csv\", skipinitialspace=True) #this will be modified\n",
    "\n",
    "df_test = pd.read_csv(\"dataset (missing + split)/test.csv\", skipinitialspace=True)"
   ]
  },
  {
   "cell_type": "markdown",
   "id": "cec2c3de",
   "metadata": {},
   "source": [
    "# Data preparation: transformation and preprocessing\n",
    "This has to be done on both training set and test set. "
   ]
  },
  {
   "cell_type": "markdown",
   "id": "1c1aafd6",
   "metadata": {},
   "source": [
    "### Data transformation"
   ]
  },
  {
   "cell_type": "code",
   "execution_count": 5,
   "id": "43cd25e1",
   "metadata": {},
   "outputs": [],
   "source": [
    "#Changing udm to duration_ms and features_duration_ms from ms to min - train\n",
    "df_train['duration_ms'] *= 1/6e4\n",
    "#Changing udm to duration_ms and features_duration_ms from ms to min - test\n",
    "df_test['duration_ms'] *= 1/6e4\n",
    "#Setting popularity as a % - train\n",
    "df_train['popularity'] /= 100\n",
    "df_train.rename(columns = {'duration_ms':'duration_min'}, inplace = True)\n",
    "df_train.rename(columns = {'popularity':'popularity_percent'}, inplace = True)\n",
    "#Setting popularity as a % - test\n",
    "df_test['popularity'] /= 100\n",
    "df_test.rename(columns = {'duration_ms':'duration_min'}, inplace = True)\n",
    "df_test.rename(columns = {'popularity':'popularity_percent'}, inplace = True)"
   ]
  },
  {
   "cell_type": "markdown",
   "id": "ae02d915",
   "metadata": {},
   "source": [
    "### Filling of NaN values"
   ]
  },
  {
   "cell_type": "code",
   "execution_count": 6,
   "id": "13366d7b",
   "metadata": {},
   "outputs": [],
   "source": [
    "#Dealing with mode attribute missing values - train\n",
    "#Computing p0 and p1 and filling missing values of mode attribute by sampling\n",
    "\n",
    "p0=df_train['mode'].value_counts()[0]/(len(df_train)-df_train['mode'].isnull().sum())\n",
    "p1=df_train['mode'].value_counts()[1]/(len(df_train)-df_train['mode'].isnull().sum())\n",
    "list_of_nan_indexes_train=df_train[df_train['mode'].isnull()].index.tolist()\n",
    "for i in list_of_nan_indexes_train:\n",
    "    if np.random.random() < p1:\n",
    "        df_train.loc[i,'mode'] = 1.0\n",
    "    else:\n",
    "        df_train.loc[i,'mode'] = 0.0\n",
    "        \n",
    "#Dealing with mode attribute missing values - test\n",
    "#Computing p0 and p1 and filling missing values of mode attribute by sampling\n",
    "\n",
    "p0=df_test['mode'].value_counts()[0]/(len(df_test)-df_test['mode'].isnull().sum())\n",
    "p1=df_test['mode'].value_counts()[1]/(len(df_test)-df_test['mode'].isnull().sum())\n",
    "list_of_nan_indexes_test=df_test[df_test['mode'].isnull()].index.tolist()\n",
    "for i in list_of_nan_indexes_test:\n",
    "    if np.random.random() < p1:\n",
    "        df_test.loc[i,'mode'] = 1.0\n",
    "    else:\n",
    "        df_test.loc[i,'mode'] = 0.0"
   ]
  },
  {
   "cell_type": "code",
   "execution_count": 7,
   "id": "7c43b452",
   "metadata": {},
   "outputs": [],
   "source": [
    "#Dealing with time_signature attribute missing values - train\n",
    "#Computing the array containing the probabilities of every outcome for time_signature\n",
    "outcomes_of_time_signature = len(df_train['time_signature'].value_counts())\n",
    "p_array=np.array(df_train['time_signature'].value_counts().sort_index(ascending=True)/(len(df_train)-df_train['time_signature'].isnull().sum()))\n",
    "#creating a dictionary containing the correspondance between value and sorted index\n",
    "dict_ts = {0: 0.0, 1: 1.0, 2: 3.0, 3 : 4.0, 4 : 5.0}\n",
    "list_of_nan_indexes_ts=df_train[df_train['time_signature'].isnull()].index.tolist()\n",
    "from scipy.stats import multinomial \n",
    "#please forgive the dunb programming here, no real deal of time, only ~3000 points to be evaluated\n",
    "for i in list_of_nan_indexes_ts:\n",
    "    tmp = multinomial.rvs(1, p_array, size=1, random_state=None)\n",
    "    array_tmp=np.where(tmp[0][:]==1)\n",
    "    index=array_tmp[0][0] #implement a dict for the substitution\n",
    "    df_train.loc[i,'time_signature'] = dict_ts[index]\n",
    "    \n",
    "#Dealing with time_signature attribute missing values - test\n",
    "#Computing the array containing the probabilities of every outcome for time_signature\n",
    "outcomes_of_time_signature = len(df_test['time_signature'].value_counts())\n",
    "p_array=np.array(df_test['time_signature'].value_counts().sort_index(ascending=True)/(len(df_test)-df_test['time_signature'].isnull().sum()))\n",
    "#creating a dictionary containing the correspondance between value and sorted index\n",
    "dict_ts = {0: 0.0, 1: 1.0, 2: 3.0, 3 : 4.0, 4 : 5.0}\n",
    "list_of_nan_indexes_ts=df_test[df_test['time_signature'].isnull()].index.tolist()\n",
    "from scipy.stats import multinomial \n",
    "#please forgive the dunb programming here, no real deal of time, only ~3000 points to be evaluated\n",
    "for i in list_of_nan_indexes_ts:\n",
    "    tmp = multinomial.rvs(1, p_array, size=1, random_state=None)\n",
    "    array_tmp=np.where(tmp[0][:]==1)\n",
    "    index=array_tmp[0][0] #implement a dict for the substitution\n",
    "    df_test.loc[i,'time_signature'] = dict_ts[index]"
   ]
  },
  {
   "cell_type": "code",
   "execution_count": 8,
   "id": "8d248668",
   "metadata": {},
   "outputs": [
    {
     "data": {
      "text/plain": [
       "genre\n",
       "j-dance          750\n",
       "iranian          750\n",
       "brazil           750\n",
       "chicago-house    750\n",
       "forro            750\n",
       "idm              750\n",
       "indian           750\n",
       "study            750\n",
       "disney           750\n",
       "afrobeat         750\n",
       "mandopop         750\n",
       "techno           750\n",
       "sleep            750\n",
       "spanish          750\n",
       "j-idol           750\n",
       "industrial       750\n",
       "happy            750\n",
       "bluegrass        750\n",
       "black-metal      750\n",
       "breakbeat        750\n",
       "Name: count, dtype: int64"
      ]
     },
     "execution_count": 8,
     "metadata": {},
     "output_type": "execute_result"
    }
   ],
   "source": [
    "df_train['genre'].value_counts()"
   ]
  },
  {
   "cell_type": "code",
   "execution_count": 9,
   "id": "674ea16b",
   "metadata": {},
   "outputs": [
    {
     "data": {
      "text/plain": [
       "genre\n",
       "industrial       250\n",
       "breakbeat        250\n",
       "happy            250\n",
       "afrobeat         250\n",
       "study            250\n",
       "black-metal      250\n",
       "sleep            250\n",
       "bluegrass        250\n",
       "techno           250\n",
       "brazil           250\n",
       "j-dance          250\n",
       "chicago-house    250\n",
       "disney           250\n",
       "iranian          250\n",
       "mandopop         250\n",
       "idm              250\n",
       "spanish          250\n",
       "j-idol           250\n",
       "indian           250\n",
       "forro            250\n",
       "Name: count, dtype: int64"
      ]
     },
     "execution_count": 9,
     "metadata": {},
     "output_type": "execute_result"
    }
   ],
   "source": [
    "df_test['genre'].value_counts()"
   ]
  },
  {
   "cell_type": "markdown",
   "id": "d9f05cb8",
   "metadata": {},
   "source": [
    "Pay attention, in train and test sets, genra does not have same order, it is necessary to use a dictionary map for BOTH. "
   ]
  },
  {
   "cell_type": "markdown",
   "id": "7e922dbb",
   "metadata": {},
   "source": [
    "### Outlier criteria\n",
    "For now, we do not consider any point as outlier because none of them miss the classification label and considering that this time one of our tasks is to distinguish between musical genra and not-musical genra. "
   ]
  },
  {
   "cell_type": "markdown",
   "id": "c9fd9c8b",
   "metadata": {},
   "source": [
    "### Eliminating redundant features"
   ]
  },
  {
   "cell_type": "code",
   "execution_count": 8,
   "id": "92aea14c",
   "metadata": {},
   "outputs": [
    {
     "data": {
      "text/plain": [
       "name                      object\n",
       "duration_min             float64\n",
       "explicit                    bool\n",
       "popularity_percent       float64\n",
       "artists                   object\n",
       "album_name                object\n",
       "danceability             float64\n",
       "energy                   float64\n",
       "key                        int64\n",
       "loudness                 float64\n",
       "mode                     float64\n",
       "speechiness              float64\n",
       "acousticness             float64\n",
       "instrumentalness         float64\n",
       "liveness                 float64\n",
       "valence                  float64\n",
       "tempo                    float64\n",
       "features_duration_ms       int64\n",
       "time_signature           float64\n",
       "n_beats                  float64\n",
       "n_bars                   float64\n",
       "popularity_confidence    float64\n",
       "processing               float64\n",
       "genre                     object\n",
       "dtype: object"
      ]
     },
     "execution_count": 8,
     "metadata": {},
     "output_type": "execute_result"
    }
   ],
   "source": [
    "df_train.dtypes"
   ]
  },
  {
   "cell_type": "code",
   "execution_count": 9,
   "id": "cc1984a9",
   "metadata": {},
   "outputs": [],
   "source": [
    "column2drop = ['features_duration_ms', 'popularity_confidence', 'processing', 'name', 'artists','album_name'] #cols that gives max complexity\n",
    "df_train.drop(column2drop, axis=1, inplace=True)\n",
    "df_test.drop(column2drop, axis=1, inplace=True)\n"
   ]
  },
  {
   "cell_type": "code",
   "execution_count": 10,
   "id": "e6f1aeac",
   "metadata": {},
   "outputs": [],
   "source": [
    "attributes = [col for col in df_train.columns if col != 'genre']"
   ]
  },
  {
   "cell_type": "markdown",
   "id": "bc021617",
   "metadata": {},
   "source": [
    "### Encoding `str` values"
   ]
  },
  {
   "cell_type": "code",
   "execution_count": 11,
   "id": "7c42c0be",
   "metadata": {},
   "outputs": [],
   "source": [
    "#from sklearn.preprocessing import LabelEncoder"
   ]
  },
  {
   "cell_type": "code",
   "execution_count": 12,
   "id": "5fe8b792",
   "metadata": {},
   "outputs": [],
   "source": [
    "# label encoding genre feature\n",
    "#le = LabelEncoder()\n",
    "#df_train['genre'] = le.fit_transform(df_train['genre'])\n",
    "#df_test['genre'] = le.fit_transform(df_test['genre'])"
   ]
  },
  {
   "cell_type": "code",
   "execution_count": 13,
   "id": "92473db4",
   "metadata": {},
   "outputs": [
    {
     "data": {
      "text/html": [
       "<div>\n",
       "<style scoped>\n",
       "    .dataframe tbody tr th:only-of-type {\n",
       "        vertical-align: middle;\n",
       "    }\n",
       "\n",
       "    .dataframe tbody tr th {\n",
       "        vertical-align: top;\n",
       "    }\n",
       "\n",
       "    .dataframe thead th {\n",
       "        text-align: right;\n",
       "    }\n",
       "</style>\n",
       "<table border=\"1\" class=\"dataframe\">\n",
       "  <thead>\n",
       "    <tr style=\"text-align: right;\">\n",
       "      <th></th>\n",
       "      <th>duration_min</th>\n",
       "      <th>explicit</th>\n",
       "      <th>popularity_percent</th>\n",
       "      <th>danceability</th>\n",
       "      <th>energy</th>\n",
       "      <th>key</th>\n",
       "      <th>loudness</th>\n",
       "      <th>mode</th>\n",
       "      <th>speechiness</th>\n",
       "      <th>acousticness</th>\n",
       "      <th>instrumentalness</th>\n",
       "      <th>liveness</th>\n",
       "      <th>valence</th>\n",
       "      <th>tempo</th>\n",
       "      <th>time_signature</th>\n",
       "      <th>n_beats</th>\n",
       "      <th>n_bars</th>\n",
       "      <th>genre</th>\n",
       "    </tr>\n",
       "  </thead>\n",
       "  <tbody>\n",
       "    <tr>\n",
       "      <th>0</th>\n",
       "      <td>3.447100</td>\n",
       "      <td>False</td>\n",
       "      <td>0.32</td>\n",
       "      <td>0.383</td>\n",
       "      <td>0.9510</td>\n",
       "      <td>0</td>\n",
       "      <td>-3.743</td>\n",
       "      <td>1.0</td>\n",
       "      <td>0.1040</td>\n",
       "      <td>0.006070</td>\n",
       "      <td>0.000000</td>\n",
       "      <td>0.2610</td>\n",
       "      <td>0.668</td>\n",
       "      <td>110.584</td>\n",
       "      <td>4.0</td>\n",
       "      <td>385.0</td>\n",
       "      <td>96.0</td>\n",
       "      <td>15</td>\n",
       "    </tr>\n",
       "    <tr>\n",
       "      <th>1</th>\n",
       "      <td>5.495550</td>\n",
       "      <td>False</td>\n",
       "      <td>0.41</td>\n",
       "      <td>0.464</td>\n",
       "      <td>0.5790</td>\n",
       "      <td>5</td>\n",
       "      <td>-9.136</td>\n",
       "      <td>1.0</td>\n",
       "      <td>0.0596</td>\n",
       "      <td>0.281000</td>\n",
       "      <td>0.827000</td>\n",
       "      <td>0.0992</td>\n",
       "      <td>0.140</td>\n",
       "      <td>171.752</td>\n",
       "      <td>4.0</td>\n",
       "      <td>935.0</td>\n",
       "      <td>235.0</td>\n",
       "      <td>19</td>\n",
       "    </tr>\n",
       "    <tr>\n",
       "      <th>2</th>\n",
       "      <td>2.266667</td>\n",
       "      <td>False</td>\n",
       "      <td>0.40</td>\n",
       "      <td>0.611</td>\n",
       "      <td>0.7780</td>\n",
       "      <td>9</td>\n",
       "      <td>-4.803</td>\n",
       "      <td>1.0</td>\n",
       "      <td>0.0326</td>\n",
       "      <td>0.094600</td>\n",
       "      <td>0.000005</td>\n",
       "      <td>0.1390</td>\n",
       "      <td>0.285</td>\n",
       "      <td>90.024</td>\n",
       "      <td>4.0</td>\n",
       "      <td>200.0</td>\n",
       "      <td>49.0</td>\n",
       "      <td>6</td>\n",
       "    </tr>\n",
       "    <tr>\n",
       "      <th>3</th>\n",
       "      <td>4.117333</td>\n",
       "      <td>False</td>\n",
       "      <td>0.25</td>\n",
       "      <td>0.500</td>\n",
       "      <td>0.9580</td>\n",
       "      <td>0</td>\n",
       "      <td>-1.695</td>\n",
       "      <td>0.0</td>\n",
       "      <td>0.0350</td>\n",
       "      <td>0.008170</td>\n",
       "      <td>0.318000</td>\n",
       "      <td>0.7320</td>\n",
       "      <td>0.955</td>\n",
       "      <td>130.059</td>\n",
       "      <td>4.0</td>\n",
       "      <td>526.0</td>\n",
       "      <td>132.0</td>\n",
       "      <td>14</td>\n",
       "    </tr>\n",
       "    <tr>\n",
       "      <th>4</th>\n",
       "      <td>3.468667</td>\n",
       "      <td>False</td>\n",
       "      <td>0.00</td>\n",
       "      <td>0.802</td>\n",
       "      <td>0.6840</td>\n",
       "      <td>1</td>\n",
       "      <td>-8.839</td>\n",
       "      <td>1.0</td>\n",
       "      <td>0.1230</td>\n",
       "      <td>0.001810</td>\n",
       "      <td>0.010200</td>\n",
       "      <td>0.2360</td>\n",
       "      <td>0.637</td>\n",
       "      <td>130.022</td>\n",
       "      <td>4.0</td>\n",
       "      <td>440.0</td>\n",
       "      <td>110.0</td>\n",
       "      <td>19</td>\n",
       "    </tr>\n",
       "    <tr>\n",
       "      <th>...</th>\n",
       "      <td>...</td>\n",
       "      <td>...</td>\n",
       "      <td>...</td>\n",
       "      <td>...</td>\n",
       "      <td>...</td>\n",
       "      <td>...</td>\n",
       "      <td>...</td>\n",
       "      <td>...</td>\n",
       "      <td>...</td>\n",
       "      <td>...</td>\n",
       "      <td>...</td>\n",
       "      <td>...</td>\n",
       "      <td>...</td>\n",
       "      <td>...</td>\n",
       "      <td>...</td>\n",
       "      <td>...</td>\n",
       "      <td>...</td>\n",
       "      <td>...</td>\n",
       "    </tr>\n",
       "    <tr>\n",
       "      <th>4995</th>\n",
       "      <td>1.346883</td>\n",
       "      <td>False</td>\n",
       "      <td>0.17</td>\n",
       "      <td>0.217</td>\n",
       "      <td>0.0754</td>\n",
       "      <td>11</td>\n",
       "      <td>-16.629</td>\n",
       "      <td>0.0</td>\n",
       "      <td>0.0327</td>\n",
       "      <td>0.901000</td>\n",
       "      <td>0.914000</td>\n",
       "      <td>0.1350</td>\n",
       "      <td>0.201</td>\n",
       "      <td>142.026</td>\n",
       "      <td>5.0</td>\n",
       "      <td>175.0</td>\n",
       "      <td>44.0</td>\n",
       "      <td>8</td>\n",
       "    </tr>\n",
       "    <tr>\n",
       "      <th>4996</th>\n",
       "      <td>4.358333</td>\n",
       "      <td>False</td>\n",
       "      <td>0.02</td>\n",
       "      <td>0.467</td>\n",
       "      <td>0.7820</td>\n",
       "      <td>10</td>\n",
       "      <td>-8.136</td>\n",
       "      <td>1.0</td>\n",
       "      <td>0.0599</td>\n",
       "      <td>0.001810</td>\n",
       "      <td>0.000057</td>\n",
       "      <td>0.0971</td>\n",
       "      <td>0.203</td>\n",
       "      <td>145.059</td>\n",
       "      <td>4.0</td>\n",
       "      <td>621.0</td>\n",
       "      <td>158.0</td>\n",
       "      <td>1</td>\n",
       "    </tr>\n",
       "    <tr>\n",
       "      <th>4997</th>\n",
       "      <td>4.300000</td>\n",
       "      <td>False</td>\n",
       "      <td>0.19</td>\n",
       "      <td>0.524</td>\n",
       "      <td>0.9730</td>\n",
       "      <td>0</td>\n",
       "      <td>-5.214</td>\n",
       "      <td>0.0</td>\n",
       "      <td>0.0469</td>\n",
       "      <td>0.000057</td>\n",
       "      <td>0.005170</td>\n",
       "      <td>0.1070</td>\n",
       "      <td>0.840</td>\n",
       "      <td>140.029</td>\n",
       "      <td>4.0</td>\n",
       "      <td>594.0</td>\n",
       "      <td>149.0</td>\n",
       "      <td>15</td>\n",
       "    </tr>\n",
       "    <tr>\n",
       "      <th>4998</th>\n",
       "      <td>6.741767</td>\n",
       "      <td>False</td>\n",
       "      <td>0.19</td>\n",
       "      <td>0.166</td>\n",
       "      <td>0.9750</td>\n",
       "      <td>2</td>\n",
       "      <td>-3.585</td>\n",
       "      <td>0.0</td>\n",
       "      <td>0.1100</td>\n",
       "      <td>0.000032</td>\n",
       "      <td>0.005520</td>\n",
       "      <td>0.0656</td>\n",
       "      <td>0.233</td>\n",
       "      <td>75.005</td>\n",
       "      <td>4.0</td>\n",
       "      <td>550.0</td>\n",
       "      <td>138.0</td>\n",
       "      <td>18</td>\n",
       "    </tr>\n",
       "    <tr>\n",
       "      <th>4999</th>\n",
       "      <td>4.440500</td>\n",
       "      <td>False</td>\n",
       "      <td>0.13</td>\n",
       "      <td>0.450</td>\n",
       "      <td>0.9680</td>\n",
       "      <td>11</td>\n",
       "      <td>-2.248</td>\n",
       "      <td>0.0</td>\n",
       "      <td>0.1330</td>\n",
       "      <td>0.000100</td>\n",
       "      <td>0.518000</td>\n",
       "      <td>0.2490</td>\n",
       "      <td>0.498</td>\n",
       "      <td>175.083</td>\n",
       "      <td>4.0</td>\n",
       "      <td>770.0</td>\n",
       "      <td>191.0</td>\n",
       "      <td>15</td>\n",
       "    </tr>\n",
       "  </tbody>\n",
       "</table>\n",
       "<p>5000 rows × 18 columns</p>\n",
       "</div>"
      ],
      "text/plain": [
       "      duration_min  explicit  popularity_percent  danceability  energy  key  \\\n",
       "0         3.447100     False                0.32         0.383  0.9510    0   \n",
       "1         5.495550     False                0.41         0.464  0.5790    5   \n",
       "2         2.266667     False                0.40         0.611  0.7780    9   \n",
       "3         4.117333     False                0.25         0.500  0.9580    0   \n",
       "4         3.468667     False                0.00         0.802  0.6840    1   \n",
       "...            ...       ...                 ...           ...     ...  ...   \n",
       "4995      1.346883     False                0.17         0.217  0.0754   11   \n",
       "4996      4.358333     False                0.02         0.467  0.7820   10   \n",
       "4997      4.300000     False                0.19         0.524  0.9730    0   \n",
       "4998      6.741767     False                0.19         0.166  0.9750    2   \n",
       "4999      4.440500     False                0.13         0.450  0.9680   11   \n",
       "\n",
       "      loudness  mode  speechiness  acousticness  instrumentalness  liveness  \\\n",
       "0       -3.743   1.0       0.1040      0.006070          0.000000    0.2610   \n",
       "1       -9.136   1.0       0.0596      0.281000          0.827000    0.0992   \n",
       "2       -4.803   1.0       0.0326      0.094600          0.000005    0.1390   \n",
       "3       -1.695   0.0       0.0350      0.008170          0.318000    0.7320   \n",
       "4       -8.839   1.0       0.1230      0.001810          0.010200    0.2360   \n",
       "...        ...   ...          ...           ...               ...       ...   \n",
       "4995   -16.629   0.0       0.0327      0.901000          0.914000    0.1350   \n",
       "4996    -8.136   1.0       0.0599      0.001810          0.000057    0.0971   \n",
       "4997    -5.214   0.0       0.0469      0.000057          0.005170    0.1070   \n",
       "4998    -3.585   0.0       0.1100      0.000032          0.005520    0.0656   \n",
       "4999    -2.248   0.0       0.1330      0.000100          0.518000    0.2490   \n",
       "\n",
       "      valence    tempo  time_signature  n_beats  n_bars  genre  \n",
       "0       0.668  110.584             4.0    385.0    96.0     15  \n",
       "1       0.140  171.752             4.0    935.0   235.0     19  \n",
       "2       0.285   90.024             4.0    200.0    49.0      6  \n",
       "3       0.955  130.059             4.0    526.0   132.0     14  \n",
       "4       0.637  130.022             4.0    440.0   110.0     19  \n",
       "...       ...      ...             ...      ...     ...    ...  \n",
       "4995    0.201  142.026             5.0    175.0    44.0      8  \n",
       "4996    0.203  145.059             4.0    621.0   158.0      1  \n",
       "4997    0.840  140.029             4.0    594.0   149.0     15  \n",
       "4998    0.233   75.005             4.0    550.0   138.0     18  \n",
       "4999    0.498  175.083             4.0    770.0   191.0     15  \n",
       "\n",
       "[5000 rows x 18 columns]"
      ]
     },
     "execution_count": 13,
     "metadata": {},
     "output_type": "execute_result"
    }
   ],
   "source": [
    "#Creating genre map -> mapping every genre into an int value in order to have correlation values. \n",
    "#Redoing Pearson correlation adding genre category\n",
    "\n",
    "genre_map={\"j-dance\":0,\"iranian\":1,\"brazil\":2,\"chicago-house\":3,\"forro\":4,\"idm\":5,\"indian\":6,\"study\":7,\"disney\":8,\"afrobeat\":9,\"mandopop\":10,\"techno\":11,\"sleep\":12,\"spanish\":13,\"j-idol\":14,\"industrial\":15,\"happy\":16,\"bluegrass\":17,\"black-metal\":18,\"breakbeat\":19}\n",
    "df_train.replace({'genre':genre_map})\n",
    "df_test.replace({'genre':genre_map})"
   ]
  },
  {
   "cell_type": "markdown",
   "id": "6386ecee",
   "metadata": {},
   "source": [
    "NB: here _partitioning_ is not necessary because both train and test sets are already equally partitioned (so,holdout is not performed)."
   ]
  },
  {
   "cell_type": "code",
   "execution_count": 14,
   "id": "63b4e783",
   "metadata": {},
   "outputs": [],
   "source": [
    "y_train = np.array(df_train['genre'])\n",
    "y_test = np.array(df_test['genre'])\n",
    "\n",
    "X_train = df_train.replace({'genre':genre_map})\n",
    "X_test = df_test.replace({'genre':genre_map})"
   ]
  },
  {
   "cell_type": "code",
   "execution_count": 15,
   "id": "39fde07b",
   "metadata": {},
   "outputs": [
    {
     "name": "stdout",
     "output_type": "stream",
     "text": [
      "       duration_min  explicit  popularity_percent  danceability  energy  key  \\\n",
      "0          4.029333     False                0.46         0.690   0.513    5   \n",
      "1          7.400000     False                0.00         0.069   0.196    1   \n",
      "2          5.558433     False                0.03         0.363   0.854    2   \n",
      "3          4.496667     False                0.23         0.523   0.585    5   \n",
      "4          5.127517     False                0.25         0.643   0.687    7   \n",
      "...             ...       ...                 ...           ...     ...  ...   \n",
      "14995      7.200433     False                0.00         0.554   0.657    1   \n",
      "14996      3.045767     False                0.44         0.103   0.860    1   \n",
      "14997      6.668183     False                0.43         0.799   0.535    1   \n",
      "14998      3.287500     False                0.37         0.511   0.970    5   \n",
      "14999      3.306817     False                0.36         0.678   0.518    6   \n",
      "\n",
      "       loudness  mode  speechiness  acousticness  instrumentalness  liveness  \\\n",
      "0       -12.529   1.0       0.0975      0.302000          0.536000    0.2810   \n",
      "1       -24.801   0.0       0.0805      0.283000          0.934000    0.3600   \n",
      "2        -7.445   0.0       0.0397      0.000089          0.800000    0.2620   \n",
      "3        -5.607   1.0       0.0765      0.066400          0.001270    0.1170   \n",
      "4       -11.340   1.0       0.0539      0.000576          0.096900    0.2990   \n",
      "...         ...   ...          ...           ...               ...       ...   \n",
      "14995   -14.232   0.0       0.0558      0.016000          0.615000    0.1320   \n",
      "14996   -19.627   1.0       0.0595      0.548000          0.940000    0.1230   \n",
      "14997    -9.103   1.0       0.0594      0.001830          0.857000    0.0713   \n",
      "14998    -2.299   1.0       0.0531      0.000337          0.000014    0.4020   \n",
      "14999    -7.790   1.0       0.0352      0.463000          0.000000    0.0880   \n",
      "\n",
      "       valence    tempo  time_signature  n_beats  n_bars  genre  \n",
      "0       0.6350  142.221             4.0    567.0   141.0      0  \n",
      "1       0.0336   75.596             4.0    617.0   155.0      1  \n",
      "2       0.4890  116.628             4.0    652.0   162.0     18  \n",
      "3       0.3850  140.880             4.0    619.0   155.0     17  \n",
      "4       0.6370  143.956             4.0    733.0   183.0     16  \n",
      "...        ...      ...             ...      ...     ...    ...  \n",
      "14995   0.0335  117.319             4.0    837.0   212.0      5  \n",
      "14996   0.0016   92.323             3.0    277.0    92.0     12  \n",
      "14997   0.0708  126.000             4.0    837.0   209.0     11  \n",
      "14998   0.2700  160.044             4.0    513.0   130.0     19  \n",
      "14999   0.7840   88.003             4.0    286.0    72.0      6  \n",
      "\n",
      "[15000 rows x 18 columns]\n"
     ]
    }
   ],
   "source": [
    "print(X_train)"
   ]
  },
  {
   "cell_type": "markdown",
   "id": "7f23e192",
   "metadata": {},
   "source": [
    "# Decision tree"
   ]
  },
  {
   "cell_type": "code",
   "execution_count": 16,
   "id": "f7e3094c",
   "metadata": {},
   "outputs": [],
   "source": [
    "from sklearn.tree import DecisionTreeClassifier, plot_tree\n",
    "\n",
    "#class sklearn.tree.DecisionTreeClassifier(*, criterion='gini', splitter='best', \n",
    "#max_depth=None, min_samples_split=2, min_samples_leaf=1, min_weight_fraction_leaf=0.0, \n",
    "#max_features=None, random_state=None, max_leaf_nodes=None, min_impurity_decrease=0.0, \n",
    "#class_weight=None, ccp_alpha=0.0)[source]"
   ]
  },
  {
   "cell_type": "markdown",
   "id": "6b01b651",
   "metadata": {},
   "source": [
    "For now, we work only on _training test set_, in order to tune properly the parameters of the tree.  \n",
    "After that, the test set will be used for computing the performance metrics. "
   ]
  },
  {
   "cell_type": "code",
   "execution_count": 17,
   "id": "f11f0cd1",
   "metadata": {},
   "outputs": [],
   "source": [
    "# Training a not-tuned tree, computing its performance metrics for doing a post-tuning comparison\n",
    "dt = DecisionTreeClassifier()"
   ]
  },
  {
   "cell_type": "code",
   "execution_count": 18,
   "id": "c408ca58",
   "metadata": {},
   "outputs": [
    {
     "name": "stdout",
     "output_type": "stream",
     "text": [
      "CPU times: user 187 ms, sys: 3.56 ms, total: 191 ms\n",
      "Wall time: 189 ms\n"
     ]
    },
    {
     "data": {
      "text/html": [
       "<style>#sk-container-id-1 {color: black;}#sk-container-id-1 pre{padding: 0;}#sk-container-id-1 div.sk-toggleable {background-color: white;}#sk-container-id-1 label.sk-toggleable__label {cursor: pointer;display: block;width: 100%;margin-bottom: 0;padding: 0.3em;box-sizing: border-box;text-align: center;}#sk-container-id-1 label.sk-toggleable__label-arrow:before {content: \"▸\";float: left;margin-right: 0.25em;color: #696969;}#sk-container-id-1 label.sk-toggleable__label-arrow:hover:before {color: black;}#sk-container-id-1 div.sk-estimator:hover label.sk-toggleable__label-arrow:before {color: black;}#sk-container-id-1 div.sk-toggleable__content {max-height: 0;max-width: 0;overflow: hidden;text-align: left;background-color: #f0f8ff;}#sk-container-id-1 div.sk-toggleable__content pre {margin: 0.2em;color: black;border-radius: 0.25em;background-color: #f0f8ff;}#sk-container-id-1 input.sk-toggleable__control:checked~div.sk-toggleable__content {max-height: 200px;max-width: 100%;overflow: auto;}#sk-container-id-1 input.sk-toggleable__control:checked~label.sk-toggleable__label-arrow:before {content: \"▾\";}#sk-container-id-1 div.sk-estimator input.sk-toggleable__control:checked~label.sk-toggleable__label {background-color: #d4ebff;}#sk-container-id-1 div.sk-label input.sk-toggleable__control:checked~label.sk-toggleable__label {background-color: #d4ebff;}#sk-container-id-1 input.sk-hidden--visually {border: 0;clip: rect(1px 1px 1px 1px);clip: rect(1px, 1px, 1px, 1px);height: 1px;margin: -1px;overflow: hidden;padding: 0;position: absolute;width: 1px;}#sk-container-id-1 div.sk-estimator {font-family: monospace;background-color: #f0f8ff;border: 1px dotted black;border-radius: 0.25em;box-sizing: border-box;margin-bottom: 0.5em;}#sk-container-id-1 div.sk-estimator:hover {background-color: #d4ebff;}#sk-container-id-1 div.sk-parallel-item::after {content: \"\";width: 100%;border-bottom: 1px solid gray;flex-grow: 1;}#sk-container-id-1 div.sk-label:hover label.sk-toggleable__label {background-color: #d4ebff;}#sk-container-id-1 div.sk-serial::before {content: \"\";position: absolute;border-left: 1px solid gray;box-sizing: border-box;top: 0;bottom: 0;left: 50%;z-index: 0;}#sk-container-id-1 div.sk-serial {display: flex;flex-direction: column;align-items: center;background-color: white;padding-right: 0.2em;padding-left: 0.2em;position: relative;}#sk-container-id-1 div.sk-item {position: relative;z-index: 1;}#sk-container-id-1 div.sk-parallel {display: flex;align-items: stretch;justify-content: center;background-color: white;position: relative;}#sk-container-id-1 div.sk-item::before, #sk-container-id-1 div.sk-parallel-item::before {content: \"\";position: absolute;border-left: 1px solid gray;box-sizing: border-box;top: 0;bottom: 0;left: 50%;z-index: -1;}#sk-container-id-1 div.sk-parallel-item {display: flex;flex-direction: column;z-index: 1;position: relative;background-color: white;}#sk-container-id-1 div.sk-parallel-item:first-child::after {align-self: flex-end;width: 50%;}#sk-container-id-1 div.sk-parallel-item:last-child::after {align-self: flex-start;width: 50%;}#sk-container-id-1 div.sk-parallel-item:only-child::after {width: 0;}#sk-container-id-1 div.sk-dashed-wrapped {border: 1px dashed gray;margin: 0 0.4em 0.5em 0.4em;box-sizing: border-box;padding-bottom: 0.4em;background-color: white;}#sk-container-id-1 div.sk-label label {font-family: monospace;font-weight: bold;display: inline-block;line-height: 1.2em;}#sk-container-id-1 div.sk-label-container {text-align: center;}#sk-container-id-1 div.sk-container {/* jupyter's `normalize.less` sets `[hidden] { display: none; }` but bootstrap.min.css set `[hidden] { display: none !important; }` so we also need the `!important` here to be able to override the default hidden behavior on the sphinx rendered scikit-learn.org. See: https://github.com/scikit-learn/scikit-learn/issues/21755 */display: inline-block !important;position: relative;}#sk-container-id-1 div.sk-text-repr-fallback {display: none;}</style><div id=\"sk-container-id-1\" class=\"sk-top-container\"><div class=\"sk-text-repr-fallback\"><pre>DecisionTreeClassifier()</pre><b>In a Jupyter environment, please rerun this cell to show the HTML representation or trust the notebook. <br />On GitHub, the HTML representation is unable to render, please try loading this page with nbviewer.org.</b></div><div class=\"sk-container\" hidden><div class=\"sk-item\"><div class=\"sk-estimator sk-toggleable\"><input class=\"sk-toggleable__control sk-hidden--visually\" id=\"sk-estimator-id-1\" type=\"checkbox\" checked><label for=\"sk-estimator-id-1\" class=\"sk-toggleable__label sk-toggleable__label-arrow\">DecisionTreeClassifier</label><div class=\"sk-toggleable__content\"><pre>DecisionTreeClassifier()</pre></div></div></div></div></div>"
      ],
      "text/plain": [
       "DecisionTreeClassifier()"
      ]
     },
     "execution_count": 18,
     "metadata": {},
     "output_type": "execute_result"
    }
   ],
   "source": [
    "%%time\n",
    "dt.fit(X_train, y_train)"
   ]
  },
  {
   "cell_type": "code",
   "execution_count": 19,
   "id": "5f198684",
   "metadata": {},
   "outputs": [],
   "source": [
    "y_train_pred = dt.predict(X_train)"
   ]
  },
  {
   "cell_type": "code",
   "execution_count": 20,
   "id": "857a7813",
   "metadata": {},
   "outputs": [
    {
     "name": "stdout",
     "output_type": "stream",
     "text": [
      "Train Accuracy 1.0\n",
      "Train F1-score [1. 1. 1. 1. 1. 1. 1. 1. 1. 1. 1. 1. 1. 1. 1. 1. 1. 1. 1. 1.]\n"
     ]
    }
   ],
   "source": [
    "print('Train Accuracy %s' % accuracy_score(y_train, y_train_pred))\n",
    "print('Train F1-score %s' % f1_score(y_train, y_train_pred, average=None))"
   ]
  },
  {
   "cell_type": "code",
   "execution_count": null,
   "id": "ccd878cc",
   "metadata": {},
   "outputs": [],
   "source": [
    "print(classification_report(y_train, y_train_pred))"
   ]
  },
  {
   "cell_type": "markdown",
   "id": "68dbb2dc",
   "metadata": {},
   "source": [
    "Okay, something seems wrong... let's keep going and try to understand what happened. "
   ]
  },
  {
   "cell_type": "code",
   "execution_count": null,
   "id": "95c3dd88",
   "metadata": {},
   "outputs": [],
   "source": [
    "zipped = zip(attributes, dt.feature_importances_)\n",
    "zipped = sorted(zipped, key=lambda x: x[1], reverse=True)\n",
    "for col, imp in zipped:\n",
    "    print(col, imp)"
   ]
  },
  {
   "cell_type": "markdown",
   "id": "be88c07c",
   "metadata": {},
   "source": [
    "For some reason, the tree is not computed. Maybe too many categories? "
   ]
  },
  {
   "cell_type": "code",
   "execution_count": null,
   "id": "11dc4b06",
   "metadata": {},
   "outputs": [],
   "source": []
  }
 ],
 "metadata": {
  "kernelspec": {
   "display_name": "Python 3 (ipykernel)",
   "language": "python",
   "name": "python3"
  },
  "language_info": {
   "codemirror_mode": {
    "name": "ipython",
    "version": 3
   },
   "file_extension": ".py",
   "mimetype": "text/x-python",
   "name": "python",
   "nbconvert_exporter": "python",
   "pygments_lexer": "ipython3",
   "version": "3.11.6"
  }
 },
 "nbformat": 4,
 "nbformat_minor": 5
}
