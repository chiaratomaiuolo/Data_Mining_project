{
 "cells": [
  {
   "cell_type": "markdown",
   "id": "f691855b",
   "metadata": {},
   "source": [
    "# Classification for the Spotify dataset\n",
    "In the following, we will perform classification for the given dataset. Goal is _create a model classificator for labelling tracks by `genre`_.  \n",
    "We will perform 3 attempts for this classification:\n",
    "- multiclass classification with n_class = n_genra;\n",
    "- multiclass classification with n_class < n_genra, and in particular we want to regroup consider some sort of 'basic' genra criterion. It has been considered the following classification: https://en.wikipedia.org/wiki/List_of_music_genres_and_styles;\n",
    "- binary classification, not musical tracks vs musical tracks. "
   ]
  },
  {
   "cell_type": "code",
   "execution_count": 2,
   "id": "20838ed4",
   "metadata": {},
   "outputs": [],
   "source": [
    "import numpy as np\n",
    "import matplotlib.pyplot as plt\n",
    "import seaborn as sns\n",
    "import pandas as pd"
   ]
  },
  {
   "cell_type": "markdown",
   "id": "94273e15",
   "metadata": {},
   "source": [
    "## Evaluation metrics\n",
    "Importing the metrics for evaluating performances.  \n",
    "Here reporting some formulas in order to recap everything:  \n",
    "$$Acc = \\frac{TP + TN}{TP + TN + FP + FN} $$  \n",
    "The F1 score can be interpreted as a harmonic mean (harmonic mean is the reciprocal of the aritmetic mean of the reciprocals. It is sometimes appropriate for situations when the average rate is desired) of the precision and recall, where an F1 score reaches its best value at 1 and worst score at 0. The relative contribution of precision and recall to the F1 score are equal. The formula for the F1 score is F1 = 2 * (precision * recall) / (precision + recall):\n",
    "\n",
    "$$F1_{\\text{score}} = \\frac{2TP}{2TP + FN + FP} $$  \n",
    "$$Recall = \\frac{TP}{TP + FN} $$"
   ]
  },
  {
   "cell_type": "code",
   "execution_count": 3,
   "id": "734be5e6",
   "metadata": {},
   "outputs": [],
   "source": [
    "#Importing the performance metrics\n",
    "from sklearn.metrics import (\n",
    "    accuracy_score,\n",
    "    f1_score,\n",
    "    classification_report,\n",
    "    confusion_matrix,\n",
    "    roc_auc_score,\n",
    ")\n",
    "from scikitplot.metrics import plot_roc\n",
    "from scikitplot.metrics import plot_precision_recall"
   ]
  },
  {
   "cell_type": "code",
   "execution_count": 4,
   "id": "79794087",
   "metadata": {},
   "outputs": [],
   "source": [
    "# importing datasets - one will be used for training, one for testing.\n",
    "df_original_copy_training = pd.read_csv(\"dataset (missing + split)/train.csv\", skipinitialspace=True)\n",
    "df_train = pd.read_csv(\"dataset (missing + split)/train.csv\", skipinitialspace=True) #this will be modified\n",
    "\n",
    "df_test = pd.read_csv(\"dataset (missing + split)/test.csv\", skipinitialspace=True)"
   ]
  },
  {
   "cell_type": "markdown",
   "id": "18bd1b53",
   "metadata": {},
   "source": [
    "# Data preparation: transformation and preprocessing\n",
    "This has to be done on both training set and test set. "
   ]
  },
  {
   "cell_type": "markdown",
   "id": "bbd3ef64",
   "metadata": {},
   "source": [
    "### Data transformation"
   ]
  },
  {
   "cell_type": "code",
   "execution_count": 5,
   "id": "be09a72c",
   "metadata": {},
   "outputs": [],
   "source": [
    "#Changing udm to duration_ms and features_duration_ms from ms to min - train\n",
    "df_train['duration_ms'] *= 1/6e4\n",
    "#Changing udm to duration_ms and features_duration_ms from ms to min - test\n",
    "df_test['duration_ms'] *= 1/6e4\n",
    "#Setting popularity as a % - train\n",
    "df_train['popularity'] /= 100\n",
    "df_train.rename(columns = {'duration_ms':'duration_min'}, inplace = True)\n",
    "df_train.rename(columns = {'popularity':'popularity_percent'}, inplace = True)\n",
    "#Setting popularity as a % - test\n",
    "df_test['popularity'] /= 100\n",
    "df_test.rename(columns = {'duration_ms':'duration_min'}, inplace = True)\n",
    "df_test.rename(columns = {'popularity':'popularity_percent'}, inplace = True)"
   ]
  },
  {
   "cell_type": "markdown",
   "id": "3472a111",
   "metadata": {},
   "source": [
    "### Filling of NaN values"
   ]
  },
  {
   "cell_type": "code",
   "execution_count": 6,
   "id": "1ce04e7a",
   "metadata": {},
   "outputs": [],
   "source": [
    "#Dealing with mode attribute missing values - train\n",
    "#Computing p0 and p1 and filling missing values of mode attribute by sampling\n",
    "\n",
    "p0=df_train['mode'].value_counts()[0]/(len(df_train)-df_train['mode'].isnull().sum())\n",
    "p1=df_train['mode'].value_counts()[1]/(len(df_train)-df_train['mode'].isnull().sum())\n",
    "list_of_nan_indexes_train=df_train[df_train['mode'].isnull()].index.tolist()\n",
    "for i in list_of_nan_indexes_train:\n",
    "    if np.random.random() < p1:\n",
    "        df_train.loc[i,'mode'] = 1.0\n",
    "    else:\n",
    "        df_train.loc[i,'mode'] = 0.0\n",
    "        \n",
    "#Dealing with mode attribute missing values - test\n",
    "#Computing p0 and p1 and filling missing values of mode attribute by sampling\n",
    "\n",
    "p0=df_test['mode'].value_counts()[0]/(len(df_test)-df_test['mode'].isnull().sum())\n",
    "p1=df_test['mode'].value_counts()[1]/(len(df_test)-df_test['mode'].isnull().sum())\n",
    "list_of_nan_indexes_test=df_test[df_test['mode'].isnull()].index.tolist()\n",
    "for i in list_of_nan_indexes_test:\n",
    "    if np.random.random() < p1:\n",
    "        df_test.loc[i,'mode'] = 1.0\n",
    "    else:\n",
    "        df_test.loc[i,'mode'] = 0.0"
   ]
  },
  {
   "cell_type": "code",
   "execution_count": 7,
   "id": "ce648e8f",
   "metadata": {},
   "outputs": [],
   "source": [
    "#Dealing with time_signature attribute missing values - train\n",
    "#Computing the array containing the probabilities of every outcome for time_signature\n",
    "outcomes_of_time_signature = len(df_train['time_signature'].value_counts())\n",
    "p_array=np.array(df_train['time_signature'].value_counts().sort_index(ascending=True)/(len(df_train)-df_train['time_signature'].isnull().sum()))\n",
    "#creating a dictionary containing the correspondance between value and sorted index\n",
    "dict_ts = {0: 0.0, 1: 1.0, 2: 3.0, 3 : 4.0, 4 : 5.0}\n",
    "list_of_nan_indexes_ts=df_train[df_train['time_signature'].isnull()].index.tolist()\n",
    "from scipy.stats import multinomial \n",
    "#please forgive the dunb programming here, no real deal of time, only ~3000 points to be evaluated\n",
    "for i in list_of_nan_indexes_ts:\n",
    "    tmp = multinomial.rvs(1, p_array, size=1, random_state=None)\n",
    "    array_tmp=np.where(tmp[0][:]==1)\n",
    "    index=array_tmp[0][0] #implement a dict for the substitution\n",
    "    df_train.loc[i,'time_signature'] = dict_ts[index]\n",
    "    \n",
    "#Dealing with time_signature attribute missing values - test\n",
    "#Computing the array containing the probabilities of every outcome for time_signature\n",
    "outcomes_of_time_signature = len(df_test['time_signature'].value_counts())\n",
    "p_array=np.array(df_test['time_signature'].value_counts().sort_index(ascending=True)/(len(df_test)-df_test['time_signature'].isnull().sum()))\n",
    "#creating a dictionary containing the correspondance between value and sorted index\n",
    "dict_ts = {0: 0.0, 1: 1.0, 2: 3.0, 3 : 4.0, 4 : 5.0}\n",
    "list_of_nan_indexes_ts=df_test[df_test['time_signature'].isnull()].index.tolist()\n",
    "from scipy.stats import multinomial \n",
    "#please forgive the dunb programming here, no real deal of time, only ~3000 points to be evaluated\n",
    "for i in list_of_nan_indexes_ts:\n",
    "    tmp = multinomial.rvs(1, p_array, size=1, random_state=None)\n",
    "    array_tmp=np.where(tmp[0][:]==1)\n",
    "    index=array_tmp[0][0] #implement a dict for the substitution\n",
    "    df_test.loc[i,'time_signature'] = dict_ts[index]"
   ]
  },
  {
   "cell_type": "code",
   "execution_count": 8,
   "id": "6614d0e7",
   "metadata": {},
   "outputs": [
    {
     "data": {
      "text/plain": [
       "genre\n",
       "j-dance          750\n",
       "iranian          750\n",
       "brazil           750\n",
       "chicago-house    750\n",
       "forro            750\n",
       "idm              750\n",
       "indian           750\n",
       "study            750\n",
       "disney           750\n",
       "afrobeat         750\n",
       "mandopop         750\n",
       "techno           750\n",
       "sleep            750\n",
       "spanish          750\n",
       "j-idol           750\n",
       "industrial       750\n",
       "happy            750\n",
       "bluegrass        750\n",
       "black-metal      750\n",
       "breakbeat        750\n",
       "Name: count, dtype: int64"
      ]
     },
     "execution_count": 8,
     "metadata": {},
     "output_type": "execute_result"
    }
   ],
   "source": [
    "df_train['genre'].value_counts()"
   ]
  },
  {
   "cell_type": "code",
   "execution_count": 9,
   "id": "3a16cba9",
   "metadata": {},
   "outputs": [
    {
     "data": {
      "text/plain": [
       "genre\n",
       "industrial       250\n",
       "breakbeat        250\n",
       "happy            250\n",
       "afrobeat         250\n",
       "study            250\n",
       "black-metal      250\n",
       "sleep            250\n",
       "bluegrass        250\n",
       "techno           250\n",
       "brazil           250\n",
       "j-dance          250\n",
       "chicago-house    250\n",
       "disney           250\n",
       "iranian          250\n",
       "mandopop         250\n",
       "idm              250\n",
       "spanish          250\n",
       "j-idol           250\n",
       "indian           250\n",
       "forro            250\n",
       "Name: count, dtype: int64"
      ]
     },
     "execution_count": 9,
     "metadata": {},
     "output_type": "execute_result"
    }
   ],
   "source": [
    "df_test['genre'].value_counts()"
   ]
  },
  {
   "cell_type": "markdown",
   "id": "689dc5dc",
   "metadata": {},
   "source": [
    "Pay attention, in train and test sets, genra does not have same order, it is necessary to use a dictionary map for BOTH. "
   ]
  },
  {
   "cell_type": "markdown",
   "id": "0ae790d6",
   "metadata": {},
   "source": [
    "### Outlier criteria\n",
    "For now, we do not consider any point as outlier because none of them miss the classification label and considering that this time one of our tasks is to distinguish between musical genra and not-musical genra. "
   ]
  },
  {
   "cell_type": "markdown",
   "id": "433c32c3",
   "metadata": {},
   "source": [
    "### Eliminating redundant features"
   ]
  },
  {
   "cell_type": "code",
   "execution_count": 10,
   "id": "6b4e4a36",
   "metadata": {},
   "outputs": [
    {
     "data": {
      "text/plain": [
       "name                      object\n",
       "duration_min             float64\n",
       "explicit                    bool\n",
       "popularity_percent       float64\n",
       "artists                   object\n",
       "album_name                object\n",
       "danceability             float64\n",
       "energy                   float64\n",
       "key                        int64\n",
       "loudness                 float64\n",
       "mode                     float64\n",
       "speechiness              float64\n",
       "acousticness             float64\n",
       "instrumentalness         float64\n",
       "liveness                 float64\n",
       "valence                  float64\n",
       "tempo                    float64\n",
       "features_duration_ms       int64\n",
       "time_signature           float64\n",
       "n_beats                  float64\n",
       "n_bars                   float64\n",
       "popularity_confidence    float64\n",
       "processing               float64\n",
       "genre                     object\n",
       "dtype: object"
      ]
     },
     "execution_count": 10,
     "metadata": {},
     "output_type": "execute_result"
    }
   ],
   "source": [
    "df_train.dtypes"
   ]
  },
  {
   "cell_type": "code",
   "execution_count": 11,
   "id": "a5b0042d",
   "metadata": {},
   "outputs": [],
   "source": [
    "column2drop = ['features_duration_ms', 'popularity_confidence', 'processing', 'name', 'artists','album_name'] #cols that gives max complexity\n",
    "df_train.drop(column2drop, axis=1, inplace=True)\n",
    "df_test.drop(column2drop, axis=1, inplace=True)"
   ]
  },
  {
   "cell_type": "code",
   "execution_count": 12,
   "id": "8e4e4173",
   "metadata": {},
   "outputs": [],
   "source": [
    "#Saving a variable containing all non-classification attributes\n",
    "attributes = [col for col in df_train.columns if col != 'genre']"
   ]
  },
  {
   "cell_type": "markdown",
   "id": "e188cb5c",
   "metadata": {},
   "source": [
    "### Encoding `str` values - creating the various `genre` maps\n",
    "- first map: 20 classes, one for every genre;\n",
    "- second map: regrouping per macro genre with the following labels:  \n",
    "\n",
    "| Label | Macro genre | `genre` list |\n",
    "| ----------- | ----------- | -----------------------------------------------|\n",
    "| 0 | Electronic | `breakbeat`, `chicago house`, `techno`, `afrobeat`, `idm` |\n",
    "| 1 | Asian |`indian`|\n",
    "| 2 | Pop| `mandopop`,`j-idol`,`happy`,`disney`,`j-dance`|\n",
    "| 3 | Latin | `forro`,`brazil`,`spanish`|\n",
    "| 4 | Country | `bluegrass`|\n",
    "| 5 | Metal | `black metal`|\n",
    "| 6 | Iranian | `iranian`|\n",
    "| 7 | Others | `sleep`, `study`|"
   ]
  },
  {
   "cell_type": "code",
   "execution_count": 13,
   "id": "e350f7ee",
   "metadata": {},
   "outputs": [],
   "source": [
    "#Creating genre map I -> mapping every genre into an int value in order to have correlation values. \n",
    "genre_map={\"j-dance\":0,\"iranian\":1,\"brazil\":2,\"chicago-house\":3,\"forro\":4,\"idm\":5,\"indian\":6,\"study\":7,\"disney\":8,\"afrobeat\":9,\"mandopop\":10,\"techno\":11,\"sleep\":12,\"spanish\":13,\"j-idol\":14,\"industrial\":15,\"happy\":16,\"bluegrass\":17,\"black-metal\":18,\"breakbeat\":19}\n",
    "#Creating genre map II -> mapping in macro-categories as described above\n",
    "macrogenre_map={\"j-dance\":2,\"iranian\":6,\"brazil\":3,\"chicago-house\":0,\"forro\":3,\"idm\":0,\"indian\":1,\"study\":7,\"disney\":2,\"afrobeat\":0,\"mandopop\":2,\"techno\":0,\"sleep\":7,\"spanish\":3,\"j-idol\":2,\"industrial\":0,\"happy\":2,\"bluegrass\":4,\"black-metal\":5,\"breakbeat\":0}"
   ]
  },
  {
   "cell_type": "markdown",
   "id": "f42cc15f",
   "metadata": {},
   "source": [
    "NB: here _partitioning_ is not necessary because both train and test sets are already equally partitioned (so,holdout is not performed)."
   ]
  },
  {
   "cell_type": "markdown",
   "id": "970c0a30",
   "metadata": {},
   "source": [
    "## First `genre` map - all genra in a different category"
   ]
  },
  {
   "cell_type": "code",
   "execution_count": 14,
   "id": "3d65d542",
   "metadata": {},
   "outputs": [
    {
     "data": {
      "text/html": [
       "<div>\n",
       "<style scoped>\n",
       "    .dataframe tbody tr th:only-of-type {\n",
       "        vertical-align: middle;\n",
       "    }\n",
       "\n",
       "    .dataframe tbody tr th {\n",
       "        vertical-align: top;\n",
       "    }\n",
       "\n",
       "    .dataframe thead th {\n",
       "        text-align: right;\n",
       "    }\n",
       "</style>\n",
       "<table border=\"1\" class=\"dataframe\">\n",
       "  <thead>\n",
       "    <tr style=\"text-align: right;\">\n",
       "      <th></th>\n",
       "      <th>duration_min</th>\n",
       "      <th>explicit</th>\n",
       "      <th>popularity_percent</th>\n",
       "      <th>danceability</th>\n",
       "      <th>energy</th>\n",
       "      <th>key</th>\n",
       "      <th>loudness</th>\n",
       "      <th>mode</th>\n",
       "      <th>speechiness</th>\n",
       "      <th>acousticness</th>\n",
       "      <th>instrumentalness</th>\n",
       "      <th>liveness</th>\n",
       "      <th>valence</th>\n",
       "      <th>tempo</th>\n",
       "      <th>time_signature</th>\n",
       "      <th>n_beats</th>\n",
       "      <th>n_bars</th>\n",
       "      <th>genre</th>\n",
       "    </tr>\n",
       "  </thead>\n",
       "  <tbody>\n",
       "    <tr>\n",
       "      <th>0</th>\n",
       "      <td>4.029333</td>\n",
       "      <td>False</td>\n",
       "      <td>0.46</td>\n",
       "      <td>0.690</td>\n",
       "      <td>0.513</td>\n",
       "      <td>5</td>\n",
       "      <td>-12.529</td>\n",
       "      <td>1.0</td>\n",
       "      <td>0.0975</td>\n",
       "      <td>0.302000</td>\n",
       "      <td>0.536000</td>\n",
       "      <td>0.2810</td>\n",
       "      <td>0.6350</td>\n",
       "      <td>142.221</td>\n",
       "      <td>4.0</td>\n",
       "      <td>567.0</td>\n",
       "      <td>141.0</td>\n",
       "      <td>0</td>\n",
       "    </tr>\n",
       "    <tr>\n",
       "      <th>1</th>\n",
       "      <td>7.400000</td>\n",
       "      <td>False</td>\n",
       "      <td>0.00</td>\n",
       "      <td>0.069</td>\n",
       "      <td>0.196</td>\n",
       "      <td>1</td>\n",
       "      <td>-24.801</td>\n",
       "      <td>0.0</td>\n",
       "      <td>0.0805</td>\n",
       "      <td>0.283000</td>\n",
       "      <td>0.934000</td>\n",
       "      <td>0.3600</td>\n",
       "      <td>0.0336</td>\n",
       "      <td>75.596</td>\n",
       "      <td>4.0</td>\n",
       "      <td>617.0</td>\n",
       "      <td>155.0</td>\n",
       "      <td>1</td>\n",
       "    </tr>\n",
       "    <tr>\n",
       "      <th>2</th>\n",
       "      <td>5.558433</td>\n",
       "      <td>False</td>\n",
       "      <td>0.03</td>\n",
       "      <td>0.363</td>\n",
       "      <td>0.854</td>\n",
       "      <td>2</td>\n",
       "      <td>-7.445</td>\n",
       "      <td>1.0</td>\n",
       "      <td>0.0397</td>\n",
       "      <td>0.000089</td>\n",
       "      <td>0.800000</td>\n",
       "      <td>0.2620</td>\n",
       "      <td>0.4890</td>\n",
       "      <td>116.628</td>\n",
       "      <td>4.0</td>\n",
       "      <td>652.0</td>\n",
       "      <td>162.0</td>\n",
       "      <td>18</td>\n",
       "    </tr>\n",
       "    <tr>\n",
       "      <th>3</th>\n",
       "      <td>4.496667</td>\n",
       "      <td>False</td>\n",
       "      <td>0.23</td>\n",
       "      <td>0.523</td>\n",
       "      <td>0.585</td>\n",
       "      <td>5</td>\n",
       "      <td>-5.607</td>\n",
       "      <td>1.0</td>\n",
       "      <td>0.0765</td>\n",
       "      <td>0.066400</td>\n",
       "      <td>0.001270</td>\n",
       "      <td>0.1170</td>\n",
       "      <td>0.3850</td>\n",
       "      <td>140.880</td>\n",
       "      <td>4.0</td>\n",
       "      <td>619.0</td>\n",
       "      <td>155.0</td>\n",
       "      <td>17</td>\n",
       "    </tr>\n",
       "    <tr>\n",
       "      <th>4</th>\n",
       "      <td>5.127517</td>\n",
       "      <td>False</td>\n",
       "      <td>0.25</td>\n",
       "      <td>0.643</td>\n",
       "      <td>0.687</td>\n",
       "      <td>7</td>\n",
       "      <td>-11.340</td>\n",
       "      <td>1.0</td>\n",
       "      <td>0.0539</td>\n",
       "      <td>0.000576</td>\n",
       "      <td>0.096900</td>\n",
       "      <td>0.2990</td>\n",
       "      <td>0.6370</td>\n",
       "      <td>143.956</td>\n",
       "      <td>4.0</td>\n",
       "      <td>733.0</td>\n",
       "      <td>183.0</td>\n",
       "      <td>16</td>\n",
       "    </tr>\n",
       "    <tr>\n",
       "      <th>...</th>\n",
       "      <td>...</td>\n",
       "      <td>...</td>\n",
       "      <td>...</td>\n",
       "      <td>...</td>\n",
       "      <td>...</td>\n",
       "      <td>...</td>\n",
       "      <td>...</td>\n",
       "      <td>...</td>\n",
       "      <td>...</td>\n",
       "      <td>...</td>\n",
       "      <td>...</td>\n",
       "      <td>...</td>\n",
       "      <td>...</td>\n",
       "      <td>...</td>\n",
       "      <td>...</td>\n",
       "      <td>...</td>\n",
       "      <td>...</td>\n",
       "      <td>...</td>\n",
       "    </tr>\n",
       "    <tr>\n",
       "      <th>14995</th>\n",
       "      <td>7.200433</td>\n",
       "      <td>False</td>\n",
       "      <td>0.00</td>\n",
       "      <td>0.554</td>\n",
       "      <td>0.657</td>\n",
       "      <td>1</td>\n",
       "      <td>-14.232</td>\n",
       "      <td>1.0</td>\n",
       "      <td>0.0558</td>\n",
       "      <td>0.016000</td>\n",
       "      <td>0.615000</td>\n",
       "      <td>0.1320</td>\n",
       "      <td>0.0335</td>\n",
       "      <td>117.319</td>\n",
       "      <td>4.0</td>\n",
       "      <td>837.0</td>\n",
       "      <td>212.0</td>\n",
       "      <td>5</td>\n",
       "    </tr>\n",
       "    <tr>\n",
       "      <th>14996</th>\n",
       "      <td>3.045767</td>\n",
       "      <td>False</td>\n",
       "      <td>0.44</td>\n",
       "      <td>0.103</td>\n",
       "      <td>0.860</td>\n",
       "      <td>1</td>\n",
       "      <td>-19.627</td>\n",
       "      <td>1.0</td>\n",
       "      <td>0.0595</td>\n",
       "      <td>0.548000</td>\n",
       "      <td>0.940000</td>\n",
       "      <td>0.1230</td>\n",
       "      <td>0.0016</td>\n",
       "      <td>92.323</td>\n",
       "      <td>3.0</td>\n",
       "      <td>277.0</td>\n",
       "      <td>92.0</td>\n",
       "      <td>12</td>\n",
       "    </tr>\n",
       "    <tr>\n",
       "      <th>14997</th>\n",
       "      <td>6.668183</td>\n",
       "      <td>False</td>\n",
       "      <td>0.43</td>\n",
       "      <td>0.799</td>\n",
       "      <td>0.535</td>\n",
       "      <td>1</td>\n",
       "      <td>-9.103</td>\n",
       "      <td>0.0</td>\n",
       "      <td>0.0594</td>\n",
       "      <td>0.001830</td>\n",
       "      <td>0.857000</td>\n",
       "      <td>0.0713</td>\n",
       "      <td>0.0708</td>\n",
       "      <td>126.000</td>\n",
       "      <td>4.0</td>\n",
       "      <td>837.0</td>\n",
       "      <td>209.0</td>\n",
       "      <td>11</td>\n",
       "    </tr>\n",
       "    <tr>\n",
       "      <th>14998</th>\n",
       "      <td>3.287500</td>\n",
       "      <td>False</td>\n",
       "      <td>0.37</td>\n",
       "      <td>0.511</td>\n",
       "      <td>0.970</td>\n",
       "      <td>5</td>\n",
       "      <td>-2.299</td>\n",
       "      <td>1.0</td>\n",
       "      <td>0.0531</td>\n",
       "      <td>0.000337</td>\n",
       "      <td>0.000014</td>\n",
       "      <td>0.4020</td>\n",
       "      <td>0.2700</td>\n",
       "      <td>160.044</td>\n",
       "      <td>4.0</td>\n",
       "      <td>513.0</td>\n",
       "      <td>130.0</td>\n",
       "      <td>19</td>\n",
       "    </tr>\n",
       "    <tr>\n",
       "      <th>14999</th>\n",
       "      <td>3.306817</td>\n",
       "      <td>False</td>\n",
       "      <td>0.36</td>\n",
       "      <td>0.678</td>\n",
       "      <td>0.518</td>\n",
       "      <td>6</td>\n",
       "      <td>-7.790</td>\n",
       "      <td>1.0</td>\n",
       "      <td>0.0352</td>\n",
       "      <td>0.463000</td>\n",
       "      <td>0.000000</td>\n",
       "      <td>0.0880</td>\n",
       "      <td>0.7840</td>\n",
       "      <td>88.003</td>\n",
       "      <td>4.0</td>\n",
       "      <td>286.0</td>\n",
       "      <td>72.0</td>\n",
       "      <td>6</td>\n",
       "    </tr>\n",
       "  </tbody>\n",
       "</table>\n",
       "<p>15000 rows × 18 columns</p>\n",
       "</div>"
      ],
      "text/plain": [
       "       duration_min  explicit  popularity_percent  danceability  energy  key  \\\n",
       "0          4.029333     False                0.46         0.690   0.513    5   \n",
       "1          7.400000     False                0.00         0.069   0.196    1   \n",
       "2          5.558433     False                0.03         0.363   0.854    2   \n",
       "3          4.496667     False                0.23         0.523   0.585    5   \n",
       "4          5.127517     False                0.25         0.643   0.687    7   \n",
       "...             ...       ...                 ...           ...     ...  ...   \n",
       "14995      7.200433     False                0.00         0.554   0.657    1   \n",
       "14996      3.045767     False                0.44         0.103   0.860    1   \n",
       "14997      6.668183     False                0.43         0.799   0.535    1   \n",
       "14998      3.287500     False                0.37         0.511   0.970    5   \n",
       "14999      3.306817     False                0.36         0.678   0.518    6   \n",
       "\n",
       "       loudness  mode  speechiness  acousticness  instrumentalness  liveness  \\\n",
       "0       -12.529   1.0       0.0975      0.302000          0.536000    0.2810   \n",
       "1       -24.801   0.0       0.0805      0.283000          0.934000    0.3600   \n",
       "2        -7.445   1.0       0.0397      0.000089          0.800000    0.2620   \n",
       "3        -5.607   1.0       0.0765      0.066400          0.001270    0.1170   \n",
       "4       -11.340   1.0       0.0539      0.000576          0.096900    0.2990   \n",
       "...         ...   ...          ...           ...               ...       ...   \n",
       "14995   -14.232   1.0       0.0558      0.016000          0.615000    0.1320   \n",
       "14996   -19.627   1.0       0.0595      0.548000          0.940000    0.1230   \n",
       "14997    -9.103   0.0       0.0594      0.001830          0.857000    0.0713   \n",
       "14998    -2.299   1.0       0.0531      0.000337          0.000014    0.4020   \n",
       "14999    -7.790   1.0       0.0352      0.463000          0.000000    0.0880   \n",
       "\n",
       "       valence    tempo  time_signature  n_beats  n_bars  genre  \n",
       "0       0.6350  142.221             4.0    567.0   141.0      0  \n",
       "1       0.0336   75.596             4.0    617.0   155.0      1  \n",
       "2       0.4890  116.628             4.0    652.0   162.0     18  \n",
       "3       0.3850  140.880             4.0    619.0   155.0     17  \n",
       "4       0.6370  143.956             4.0    733.0   183.0     16  \n",
       "...        ...      ...             ...      ...     ...    ...  \n",
       "14995   0.0335  117.319             4.0    837.0   212.0      5  \n",
       "14996   0.0016   92.323             3.0    277.0    92.0     12  \n",
       "14997   0.0708  126.000             4.0    837.0   209.0     11  \n",
       "14998   0.2700  160.044             4.0    513.0   130.0     19  \n",
       "14999   0.7840   88.003             4.0    286.0    72.0      6  \n",
       "\n",
       "[15000 rows x 18 columns]"
      ]
     },
     "execution_count": 14,
     "metadata": {},
     "output_type": "execute_result"
    }
   ],
   "source": [
    "df_train.replace({'genre':genre_map})"
   ]
  },
  {
   "cell_type": "markdown",
   "id": "2b53b935",
   "metadata": {},
   "source": [
    "### Encoding the bool attribute `explicit`"
   ]
  },
  {
   "cell_type": "code",
   "execution_count": 15,
   "id": "d513d6fd",
   "metadata": {},
   "outputs": [],
   "source": [
    "from sklearn.preprocessing import LabelEncoder"
   ]
  },
  {
   "cell_type": "code",
   "execution_count": 16,
   "id": "66de42f6",
   "metadata": {},
   "outputs": [],
   "source": [
    "#just a trial, encoding the bool attribute `explicit`\n",
    "# label encoding explicit feature\n",
    "le = LabelEncoder()\n",
    "df_train['explicit'] = le.fit_transform(df_train['explicit'])\n",
    "df_test['explicit'] = le.fit_transform(df_test['explicit'])"
   ]
  },
  {
   "cell_type": "code",
   "execution_count": 17,
   "id": "6f3bc30b",
   "metadata": {},
   "outputs": [],
   "source": [
    "y_train = df_train.replace({'genre':genre_map})['genre']\n",
    "y_test = df_test.replace({'genre':genre_map})['genre']\n",
    "\n",
    "X_train = np.array(df_train.replace({'genre':genre_map})[attributes])\n",
    "X_test = np.array(df_test.replace({'genre':genre_map})[attributes])"
   ]
  },
  {
   "cell_type": "code",
   "execution_count": 18,
   "id": "7ebb1d98",
   "metadata": {},
   "outputs": [
    {
     "data": {
      "text/plain": [
       "array([[4.02933333e+00, 0.00000000e+00, 4.60000000e-01, ...,\n",
       "        4.00000000e+00, 5.67000000e+02, 1.41000000e+02],\n",
       "       [7.40000000e+00, 0.00000000e+00, 0.00000000e+00, ...,\n",
       "        4.00000000e+00, 6.17000000e+02, 1.55000000e+02],\n",
       "       [5.55843333e+00, 0.00000000e+00, 3.00000000e-02, ...,\n",
       "        4.00000000e+00, 6.52000000e+02, 1.62000000e+02],\n",
       "       ...,\n",
       "       [6.66818333e+00, 0.00000000e+00, 4.30000000e-01, ...,\n",
       "        4.00000000e+00, 8.37000000e+02, 2.09000000e+02],\n",
       "       [3.28750000e+00, 0.00000000e+00, 3.70000000e-01, ...,\n",
       "        4.00000000e+00, 5.13000000e+02, 1.30000000e+02],\n",
       "       [3.30681667e+00, 0.00000000e+00, 3.60000000e-01, ...,\n",
       "        4.00000000e+00, 2.86000000e+02, 7.20000000e+01]])"
      ]
     },
     "execution_count": 18,
     "metadata": {},
     "output_type": "execute_result"
    }
   ],
   "source": [
    "X_train"
   ]
  },
  {
   "cell_type": "code",
   "execution_count": 19,
   "id": "aefa1d02",
   "metadata": {},
   "outputs": [
    {
     "name": "stdout",
     "output_type": "stream",
     "text": [
      "0         0\n",
      "1         1\n",
      "2        18\n",
      "3        17\n",
      "4        16\n",
      "         ..\n",
      "14995     5\n",
      "14996    12\n",
      "14997    11\n",
      "14998    19\n",
      "14999     6\n",
      "Name: genre, Length: 15000, dtype: int64\n"
     ]
    }
   ],
   "source": [
    "print(y_train)"
   ]
  },
  {
   "cell_type": "code",
   "execution_count": 20,
   "id": "a659bc22",
   "metadata": {},
   "outputs": [
    {
     "name": "stdout",
     "output_type": "stream",
     "text": [
      "[[4.02933333e+00 0.00000000e+00 4.60000000e-01 ... 4.00000000e+00\n",
      "  5.67000000e+02 1.41000000e+02]\n",
      " [7.40000000e+00 0.00000000e+00 0.00000000e+00 ... 4.00000000e+00\n",
      "  6.17000000e+02 1.55000000e+02]\n",
      " [5.55843333e+00 0.00000000e+00 3.00000000e-02 ... 4.00000000e+00\n",
      "  6.52000000e+02 1.62000000e+02]\n",
      " ...\n",
      " [6.66818333e+00 0.00000000e+00 4.30000000e-01 ... 4.00000000e+00\n",
      "  8.37000000e+02 2.09000000e+02]\n",
      " [3.28750000e+00 0.00000000e+00 3.70000000e-01 ... 4.00000000e+00\n",
      "  5.13000000e+02 1.30000000e+02]\n",
      " [3.30681667e+00 0.00000000e+00 3.60000000e-01 ... 4.00000000e+00\n",
      "  2.86000000e+02 7.20000000e+01]]\n"
     ]
    }
   ],
   "source": [
    "print(X_train)"
   ]
  },
  {
   "cell_type": "markdown",
   "id": "beff78cb",
   "metadata": {},
   "source": [
    "# Decision tree"
   ]
  },
  {
   "cell_type": "code",
   "execution_count": 21,
   "id": "6eb7b13c",
   "metadata": {},
   "outputs": [],
   "source": [
    "from sklearn.tree import DecisionTreeClassifier, plot_tree\n",
    "\n",
    "#class sklearn.tree.DecisionTreeClassifier(*, criterion='gini', splitter='best', \n",
    "#max_depth=None, min_samples_split=2, min_samples_leaf=1, min_weight_fraction_leaf=0.0, \n",
    "#max_features=None, random_state=None, max_leaf_nodes=None, min_impurity_decrease=0.0, \n",
    "#class_weight=None, ccp_alpha=0.0)[source]"
   ]
  },
  {
   "cell_type": "markdown",
   "id": "bb1c1e13",
   "metadata": {},
   "source": [
    "For now, we work only on _training test set_, in order to tune properly the parameters of the tree.  \n",
    "After that, the test set will be used for computing the performance metrics. "
   ]
  },
  {
   "cell_type": "code",
   "execution_count": 35,
   "id": "76245ca0",
   "metadata": {},
   "outputs": [],
   "source": [
    "# Training a not-tuned tree, computing its performance metrics for doing a post-tuning comparison\n",
    "dt = DecisionTreeClassifier()"
   ]
  },
  {
   "cell_type": "code",
   "execution_count": 36,
   "id": "3b898d20",
   "metadata": {},
   "outputs": [
    {
     "name": "stdout",
     "output_type": "stream",
     "text": [
      "CPU times: user 205 ms, sys: 1.07 ms, total: 206 ms\n",
      "Wall time: 205 ms\n"
     ]
    },
    {
     "data": {
      "text/html": [
       "<style>#sk-container-id-2 {color: black;}#sk-container-id-2 pre{padding: 0;}#sk-container-id-2 div.sk-toggleable {background-color: white;}#sk-container-id-2 label.sk-toggleable__label {cursor: pointer;display: block;width: 100%;margin-bottom: 0;padding: 0.3em;box-sizing: border-box;text-align: center;}#sk-container-id-2 label.sk-toggleable__label-arrow:before {content: \"▸\";float: left;margin-right: 0.25em;color: #696969;}#sk-container-id-2 label.sk-toggleable__label-arrow:hover:before {color: black;}#sk-container-id-2 div.sk-estimator:hover label.sk-toggleable__label-arrow:before {color: black;}#sk-container-id-2 div.sk-toggleable__content {max-height: 0;max-width: 0;overflow: hidden;text-align: left;background-color: #f0f8ff;}#sk-container-id-2 div.sk-toggleable__content pre {margin: 0.2em;color: black;border-radius: 0.25em;background-color: #f0f8ff;}#sk-container-id-2 input.sk-toggleable__control:checked~div.sk-toggleable__content {max-height: 200px;max-width: 100%;overflow: auto;}#sk-container-id-2 input.sk-toggleable__control:checked~label.sk-toggleable__label-arrow:before {content: \"▾\";}#sk-container-id-2 div.sk-estimator input.sk-toggleable__control:checked~label.sk-toggleable__label {background-color: #d4ebff;}#sk-container-id-2 div.sk-label input.sk-toggleable__control:checked~label.sk-toggleable__label {background-color: #d4ebff;}#sk-container-id-2 input.sk-hidden--visually {border: 0;clip: rect(1px 1px 1px 1px);clip: rect(1px, 1px, 1px, 1px);height: 1px;margin: -1px;overflow: hidden;padding: 0;position: absolute;width: 1px;}#sk-container-id-2 div.sk-estimator {font-family: monospace;background-color: #f0f8ff;border: 1px dotted black;border-radius: 0.25em;box-sizing: border-box;margin-bottom: 0.5em;}#sk-container-id-2 div.sk-estimator:hover {background-color: #d4ebff;}#sk-container-id-2 div.sk-parallel-item::after {content: \"\";width: 100%;border-bottom: 1px solid gray;flex-grow: 1;}#sk-container-id-2 div.sk-label:hover label.sk-toggleable__label {background-color: #d4ebff;}#sk-container-id-2 div.sk-serial::before {content: \"\";position: absolute;border-left: 1px solid gray;box-sizing: border-box;top: 0;bottom: 0;left: 50%;z-index: 0;}#sk-container-id-2 div.sk-serial {display: flex;flex-direction: column;align-items: center;background-color: white;padding-right: 0.2em;padding-left: 0.2em;position: relative;}#sk-container-id-2 div.sk-item {position: relative;z-index: 1;}#sk-container-id-2 div.sk-parallel {display: flex;align-items: stretch;justify-content: center;background-color: white;position: relative;}#sk-container-id-2 div.sk-item::before, #sk-container-id-2 div.sk-parallel-item::before {content: \"\";position: absolute;border-left: 1px solid gray;box-sizing: border-box;top: 0;bottom: 0;left: 50%;z-index: -1;}#sk-container-id-2 div.sk-parallel-item {display: flex;flex-direction: column;z-index: 1;position: relative;background-color: white;}#sk-container-id-2 div.sk-parallel-item:first-child::after {align-self: flex-end;width: 50%;}#sk-container-id-2 div.sk-parallel-item:last-child::after {align-self: flex-start;width: 50%;}#sk-container-id-2 div.sk-parallel-item:only-child::after {width: 0;}#sk-container-id-2 div.sk-dashed-wrapped {border: 1px dashed gray;margin: 0 0.4em 0.5em 0.4em;box-sizing: border-box;padding-bottom: 0.4em;background-color: white;}#sk-container-id-2 div.sk-label label {font-family: monospace;font-weight: bold;display: inline-block;line-height: 1.2em;}#sk-container-id-2 div.sk-label-container {text-align: center;}#sk-container-id-2 div.sk-container {/* jupyter's `normalize.less` sets `[hidden] { display: none; }` but bootstrap.min.css set `[hidden] { display: none !important; }` so we also need the `!important` here to be able to override the default hidden behavior on the sphinx rendered scikit-learn.org. See: https://github.com/scikit-learn/scikit-learn/issues/21755 */display: inline-block !important;position: relative;}#sk-container-id-2 div.sk-text-repr-fallback {display: none;}</style><div id=\"sk-container-id-2\" class=\"sk-top-container\"><div class=\"sk-text-repr-fallback\"><pre>DecisionTreeClassifier()</pre><b>In a Jupyter environment, please rerun this cell to show the HTML representation or trust the notebook. <br />On GitHub, the HTML representation is unable to render, please try loading this page with nbviewer.org.</b></div><div class=\"sk-container\" hidden><div class=\"sk-item\"><div class=\"sk-estimator sk-toggleable\"><input class=\"sk-toggleable__control sk-hidden--visually\" id=\"sk-estimator-id-2\" type=\"checkbox\" checked><label for=\"sk-estimator-id-2\" class=\"sk-toggleable__label sk-toggleable__label-arrow\">DecisionTreeClassifier</label><div class=\"sk-toggleable__content\"><pre>DecisionTreeClassifier()</pre></div></div></div></div></div>"
      ],
      "text/plain": [
       "DecisionTreeClassifier()"
      ]
     },
     "execution_count": 36,
     "metadata": {},
     "output_type": "execute_result"
    }
   ],
   "source": [
    "%%time\n",
    "dt.fit(X_train, y_train)"
   ]
  },
  {
   "cell_type": "code",
   "execution_count": 37,
   "id": "14e06727",
   "metadata": {},
   "outputs": [
    {
     "data": {
      "text/plain": [
       "17"
      ]
     },
     "execution_count": 37,
     "metadata": {},
     "output_type": "execute_result"
    }
   ],
   "source": [
    "dt.max_features_"
   ]
  },
  {
   "cell_type": "code",
   "execution_count": 38,
   "id": "d91298a6",
   "metadata": {},
   "outputs": [],
   "source": [
    "y_train_pred = dt.predict(X_train)"
   ]
  },
  {
   "cell_type": "code",
   "execution_count": 39,
   "id": "29402c8c",
   "metadata": {},
   "outputs": [
    {
     "data": {
      "text/plain": [
       "0         0\n",
       "1         1\n",
       "2        18\n",
       "3        17\n",
       "4        16\n",
       "         ..\n",
       "14995     5\n",
       "14996    12\n",
       "14997    11\n",
       "14998    19\n",
       "14999     6\n",
       "Name: genre, Length: 15000, dtype: int64"
      ]
     },
     "execution_count": 39,
     "metadata": {},
     "output_type": "execute_result"
    }
   ],
   "source": [
    "y_train\n"
   ]
  },
  {
   "cell_type": "code",
   "execution_count": 40,
   "id": "fbc220df",
   "metadata": {},
   "outputs": [
    {
     "data": {
      "text/plain": [
       "array([ 0,  1, 18, ..., 11, 19,  6])"
      ]
     },
     "execution_count": 40,
     "metadata": {},
     "output_type": "execute_result"
    }
   ],
   "source": [
    "y_train_pred"
   ]
  },
  {
   "cell_type": "code",
   "execution_count": 41,
   "id": "54a10630",
   "metadata": {},
   "outputs": [
    {
     "name": "stdout",
     "output_type": "stream",
     "text": [
      "Train Accuracy 1.0\n",
      "Train F1-score [1. 1. 1. 1. 1. 1. 1. 1. 1. 1. 1. 1. 1. 1. 1. 1. 1. 1. 1. 1.]\n"
     ]
    }
   ],
   "source": [
    "print('Train Accuracy %s' % accuracy_score(y_train, y_train_pred))\n",
    "print('Train F1-score %s' % f1_score(y_train, y_train_pred, average=None))"
   ]
  },
  {
   "cell_type": "code",
   "execution_count": 29,
   "id": "46e80b53",
   "metadata": {},
   "outputs": [
    {
     "name": "stdout",
     "output_type": "stream",
     "text": [
      "              precision    recall  f1-score   support\n",
      "\n",
      "           0       1.00      1.00      1.00       750\n",
      "           1       1.00      1.00      1.00       750\n",
      "           2       1.00      1.00      1.00       750\n",
      "           3       1.00      1.00      1.00       750\n",
      "           4       1.00      1.00      1.00       750\n",
      "           5       1.00      1.00      1.00       750\n",
      "           6       1.00      1.00      1.00       750\n",
      "           7       1.00      1.00      1.00       750\n",
      "           8       1.00      1.00      1.00       750\n",
      "           9       1.00      1.00      1.00       750\n",
      "          10       1.00      1.00      1.00       750\n",
      "          11       1.00      1.00      1.00       750\n",
      "          12       1.00      1.00      1.00       750\n",
      "          13       1.00      1.00      1.00       750\n",
      "          14       1.00      1.00      1.00       750\n",
      "          15       1.00      1.00      1.00       750\n",
      "          16       1.00      1.00      1.00       750\n",
      "          17       1.00      1.00      1.00       750\n",
      "          18       1.00      1.00      1.00       750\n",
      "          19       1.00      1.00      1.00       750\n",
      "\n",
      "    accuracy                           1.00     15000\n",
      "   macro avg       1.00      1.00      1.00     15000\n",
      "weighted avg       1.00      1.00      1.00     15000\n",
      "\n"
     ]
    }
   ],
   "source": [
    "print(classification_report(y_train, y_train_pred))"
   ]
  },
  {
   "cell_type": "markdown",
   "id": "a1c44223",
   "metadata": {},
   "source": [
    "Okay, something seems wrong... let's keep going and try to understand what happened. "
   ]
  },
  {
   "cell_type": "code",
   "execution_count": 49,
   "id": "0fda9bee",
   "metadata": {},
   "outputs": [
    {
     "name": "stdout",
     "output_type": "stream",
     "text": [
      "Train Accuracy, no cross validation: 1.0\n",
      "Train Accuracy, cross validation with 5 layers: [0.43533333 0.427      0.432      0.43033333 0.41833333]\n"
     ]
    }
   ],
   "source": [
    "print('Train Accuracy, no cross validation: %s' % accuracy_score(y_train, y_train_pred))\n",
    "print('Train Accuracy, cross validation with 5 layers: %s' % cross_val_score(dt, X_train, y_train, cv=5, scoring='accuracy'))"
   ]
  },
  {
   "cell_type": "markdown",
   "id": "a4235e7b",
   "metadata": {},
   "source": [
    "#### What is happening:\n",
    "It is evident the _overfitting_. The tree is computed considering the whole train test, being the tree overfitted, it gives perfect behaviour. When only a part of the training is used and the rest has to be predicted, the performances drastically worsen, because the model is adapted only to the training specific instances. "
   ]
  },
  {
   "cell_type": "code",
   "execution_count": 30,
   "id": "a8af6a07",
   "metadata": {},
   "outputs": [
    {
     "name": "stdout",
     "output_type": "stream",
     "text": [
      "popularity_percent 0.14031927738114514\n",
      "danceability 0.09667375054361055\n",
      "duration_min 0.09598123461097471\n",
      "acousticness 0.09597478784962127\n",
      "loudness 0.08435541813145274\n",
      "valence 0.07701052091876108\n",
      "speechiness 0.06791166844013082\n",
      "tempo 0.06534132829604349\n",
      "instrumentalness 0.06363914102968331\n",
      "energy 0.06251299354157593\n",
      "liveness 0.04693705622203728\n",
      "n_beats 0.03149802109349989\n",
      "n_bars 0.02781846618829398\n",
      "key 0.02622710527777561\n",
      "mode 0.00806064428182524\n",
      "explicit 0.005085645615409365\n",
      "time_signature 0.004652940578159697\n"
     ]
    }
   ],
   "source": [
    "zipped = zip(attributes, dt.feature_importances_)\n",
    "zipped = sorted(zipped, key=lambda x: x[1], reverse=True)\n",
    "for col, imp in zipped:\n",
    "    print(col, imp)"
   ]
  },
  {
   "cell_type": "markdown",
   "id": "b0b87241",
   "metadata": {},
   "source": [
    "Overfitting issue, seems like we have \"perfect\" performances."
   ]
  },
  {
   "cell_type": "code",
   "execution_count": 31,
   "id": "0b2b5f52",
   "metadata": {},
   "outputs": [
    {
     "data": {
      "image/png": "[encoded data removed]",
      "text/plain": [
       "<Figure size 640x480 with 2 Axes>"
      ]
     },
     "metadata": {},
     "output_type": "display_data"
    }
   ],
   "source": [
    "cf = confusion_matrix(y_train, y_train_pred)\n",
    "sns.heatmap(cf, annot=True, cmap=\"Greens\")\n",
    "plt.xlabel(\"True\")\n",
    "plt.ylabel(\"Predicted\")\n",
    "plt.show()"
   ]
  },
  {
   "cell_type": "code",
   "execution_count": 32,
   "id": "14b6c1ee",
   "metadata": {},
   "outputs": [
    {
     "ename": "KeyboardInterrupt",
     "evalue": "",
     "output_type": "error",
     "traceback": [
      "\u001b[0;31m---------------------------------------------------------------------------\u001b[0m",
      "\u001b[0;31mKeyboardInterrupt\u001b[0m                         Traceback (most recent call last)",
      "Cell \u001b[0;32mIn[32], line 3\u001b[0m\n\u001b[1;32m      1\u001b[0m plt\u001b[38;5;241m.\u001b[39mfigure(figsize\u001b[38;5;241m=\u001b[39m(\u001b[38;5;241m20\u001b[39m, \u001b[38;5;241m4\u001b[39m), dpi\u001b[38;5;241m=\u001b[39m\u001b[38;5;241m300\u001b[39m)\n\u001b[1;32m      2\u001b[0m plot_tree(dt, feature_names\u001b[38;5;241m=\u001b[39mattributes, filled\u001b[38;5;241m=\u001b[39m\u001b[38;5;28;01mTrue\u001b[39;00m)\n\u001b[0;32m----> 3\u001b[0m \u001b[43mplt\u001b[49m\u001b[38;5;241;43m.\u001b[39;49m\u001b[43mshow\u001b[49m\u001b[43m(\u001b[49m\u001b[43m)\u001b[49m\n",
      "File \u001b[0;32m/opt/homebrew/lib/python3.11/site-packages/matplotlib/pyplot.py:445\u001b[0m, in \u001b[0;36mshow\u001b[0;34m(*args, **kwargs)\u001b[0m\n\u001b[1;32m    401\u001b[0m \u001b[38;5;250m\u001b[39m\u001b[38;5;124;03m\"\"\"\u001b[39;00m\n\u001b[1;32m    402\u001b[0m \u001b[38;5;124;03mDisplay all open figures.\u001b[39;00m\n\u001b[1;32m    403\u001b[0m \n\u001b[0;32m   (...)\u001b[0m\n\u001b[1;32m    442\u001b[0m \u001b[38;5;124;03mexplicitly there.\u001b[39;00m\n\u001b[1;32m    443\u001b[0m \u001b[38;5;124;03m\"\"\"\u001b[39;00m\n\u001b[1;32m    444\u001b[0m _warn_if_gui_out_of_main_thread()\n\u001b[0;32m--> 445\u001b[0m \u001b[38;5;28;01mreturn\u001b[39;00m \u001b[43m_get_backend_mod\u001b[49m\u001b[43m(\u001b[49m\u001b[43m)\u001b[49m\u001b[38;5;241;43m.\u001b[39;49m\u001b[43mshow\u001b[49m\u001b[43m(\u001b[49m\u001b[38;5;241;43m*\u001b[39;49m\u001b[43margs\u001b[49m\u001b[43m,\u001b[49m\u001b[43m \u001b[49m\u001b[38;5;241;43m*\u001b[39;49m\u001b[38;5;241;43m*\u001b[39;49m\u001b[43mkwargs\u001b[49m\u001b[43m)\u001b[49m\n",
      "File \u001b[0;32m/opt/homebrew/lib/python3.11/site-packages/matplotlib_inline/backend_inline.py:90\u001b[0m, in \u001b[0;36mshow\u001b[0;34m(close, block)\u001b[0m\n\u001b[1;32m     88\u001b[0m \u001b[38;5;28;01mtry\u001b[39;00m:\n\u001b[1;32m     89\u001b[0m     \u001b[38;5;28;01mfor\u001b[39;00m figure_manager \u001b[38;5;129;01min\u001b[39;00m Gcf\u001b[38;5;241m.\u001b[39mget_all_fig_managers():\n\u001b[0;32m---> 90\u001b[0m         \u001b[43mdisplay\u001b[49m\u001b[43m(\u001b[49m\n\u001b[1;32m     91\u001b[0m \u001b[43m            \u001b[49m\u001b[43mfigure_manager\u001b[49m\u001b[38;5;241;43m.\u001b[39;49m\u001b[43mcanvas\u001b[49m\u001b[38;5;241;43m.\u001b[39;49m\u001b[43mfigure\u001b[49m\u001b[43m,\u001b[49m\n\u001b[1;32m     92\u001b[0m \u001b[43m            \u001b[49m\u001b[43mmetadata\u001b[49m\u001b[38;5;241;43m=\u001b[39;49m\u001b[43m_fetch_figure_metadata\u001b[49m\u001b[43m(\u001b[49m\u001b[43mfigure_manager\u001b[49m\u001b[38;5;241;43m.\u001b[39;49m\u001b[43mcanvas\u001b[49m\u001b[38;5;241;43m.\u001b[39;49m\u001b[43mfigure\u001b[49m\u001b[43m)\u001b[49m\n\u001b[1;32m     93\u001b[0m \u001b[43m        \u001b[49m\u001b[43m)\u001b[49m\n\u001b[1;32m     94\u001b[0m \u001b[38;5;28;01mfinally\u001b[39;00m:\n\u001b[1;32m     95\u001b[0m     show\u001b[38;5;241m.\u001b[39m_to_draw \u001b[38;5;241m=\u001b[39m []\n",
      "File \u001b[0;32m/opt/homebrew/lib/python3.11/site-packages/IPython/core/display_functions.py:298\u001b[0m, in \u001b[0;36mdisplay\u001b[0;34m(include, exclude, metadata, transient, display_id, raw, clear, *objs, **kwargs)\u001b[0m\n\u001b[1;32m    296\u001b[0m     publish_display_data(data\u001b[38;5;241m=\u001b[39mobj, metadata\u001b[38;5;241m=\u001b[39mmetadata, \u001b[38;5;241m*\u001b[39m\u001b[38;5;241m*\u001b[39mkwargs)\n\u001b[1;32m    297\u001b[0m \u001b[38;5;28;01melse\u001b[39;00m:\n\u001b[0;32m--> 298\u001b[0m     format_dict, md_dict \u001b[38;5;241m=\u001b[39m \u001b[38;5;28;43mformat\u001b[39;49m\u001b[43m(\u001b[49m\u001b[43mobj\u001b[49m\u001b[43m,\u001b[49m\u001b[43m \u001b[49m\u001b[43minclude\u001b[49m\u001b[38;5;241;43m=\u001b[39;49m\u001b[43minclude\u001b[49m\u001b[43m,\u001b[49m\u001b[43m \u001b[49m\u001b[43mexclude\u001b[49m\u001b[38;5;241;43m=\u001b[39;49m\u001b[43mexclude\u001b[49m\u001b[43m)\u001b[49m\n\u001b[1;32m    299\u001b[0m     \u001b[38;5;28;01mif\u001b[39;00m \u001b[38;5;129;01mnot\u001b[39;00m format_dict:\n\u001b[1;32m    300\u001b[0m         \u001b[38;5;66;03m# nothing to display (e.g. _ipython_display_ took over)\u001b[39;00m\n\u001b[1;32m    301\u001b[0m         \u001b[38;5;28;01mcontinue\u001b[39;00m\n",
      "File \u001b[0;32m/opt/homebrew/lib/python3.11/site-packages/IPython/core/formatters.py:179\u001b[0m, in \u001b[0;36mDisplayFormatter.format\u001b[0;34m(self, obj, include, exclude)\u001b[0m\n\u001b[1;32m    177\u001b[0m md \u001b[38;5;241m=\u001b[39m \u001b[38;5;28;01mNone\u001b[39;00m\n\u001b[1;32m    178\u001b[0m \u001b[38;5;28;01mtry\u001b[39;00m:\n\u001b[0;32m--> 179\u001b[0m     data \u001b[38;5;241m=\u001b[39m \u001b[43mformatter\u001b[49m\u001b[43m(\u001b[49m\u001b[43mobj\u001b[49m\u001b[43m)\u001b[49m\n\u001b[1;32m    180\u001b[0m \u001b[38;5;28;01mexcept\u001b[39;00m:\n\u001b[1;32m    181\u001b[0m     \u001b[38;5;66;03m# FIXME: log the exception\u001b[39;00m\n\u001b[1;32m    182\u001b[0m     \u001b[38;5;28;01mraise\u001b[39;00m\n",
      "File \u001b[0;32m/opt/homebrew/lib/python3.11/site-packages/decorator.py:232\u001b[0m, in \u001b[0;36mdecorate.<locals>.fun\u001b[0;34m(*args, **kw)\u001b[0m\n\u001b[1;32m    230\u001b[0m \u001b[38;5;28;01mif\u001b[39;00m \u001b[38;5;129;01mnot\u001b[39;00m kwsyntax:\n\u001b[1;32m    231\u001b[0m     args, kw \u001b[38;5;241m=\u001b[39m fix(args, kw, sig)\n\u001b[0;32m--> 232\u001b[0m \u001b[38;5;28;01mreturn\u001b[39;00m \u001b[43mcaller\u001b[49m\u001b[43m(\u001b[49m\u001b[43mfunc\u001b[49m\u001b[43m,\u001b[49m\u001b[43m \u001b[49m\u001b[38;5;241;43m*\u001b[39;49m\u001b[43m(\u001b[49m\u001b[43mextras\u001b[49m\u001b[43m \u001b[49m\u001b[38;5;241;43m+\u001b[39;49m\u001b[43m \u001b[49m\u001b[43margs\u001b[49m\u001b[43m)\u001b[49m\u001b[43m,\u001b[49m\u001b[43m \u001b[49m\u001b[38;5;241;43m*\u001b[39;49m\u001b[38;5;241;43m*\u001b[39;49m\u001b[43mkw\u001b[49m\u001b[43m)\u001b[49m\n",
      "File \u001b[0;32m/opt/homebrew/lib/python3.11/site-packages/IPython/core/formatters.py:223\u001b[0m, in \u001b[0;36mcatch_format_error\u001b[0;34m(method, self, *args, **kwargs)\u001b[0m\n\u001b[1;32m    221\u001b[0m \u001b[38;5;250m\u001b[39m\u001b[38;5;124;03m\"\"\"show traceback on failed format call\"\"\"\u001b[39;00m\n\u001b[1;32m    222\u001b[0m \u001b[38;5;28;01mtry\u001b[39;00m:\n\u001b[0;32m--> 223\u001b[0m     r \u001b[38;5;241m=\u001b[39m \u001b[43mmethod\u001b[49m\u001b[43m(\u001b[49m\u001b[38;5;28;43mself\u001b[39;49m\u001b[43m,\u001b[49m\u001b[43m \u001b[49m\u001b[38;5;241;43m*\u001b[39;49m\u001b[43margs\u001b[49m\u001b[43m,\u001b[49m\u001b[43m \u001b[49m\u001b[38;5;241;43m*\u001b[39;49m\u001b[38;5;241;43m*\u001b[39;49m\u001b[43mkwargs\u001b[49m\u001b[43m)\u001b[49m\n\u001b[1;32m    224\u001b[0m \u001b[38;5;28;01mexcept\u001b[39;00m \u001b[38;5;167;01mNotImplementedError\u001b[39;00m:\n\u001b[1;32m    225\u001b[0m     \u001b[38;5;66;03m# don't warn on NotImplementedErrors\u001b[39;00m\n\u001b[1;32m    226\u001b[0m     \u001b[38;5;28;01mreturn\u001b[39;00m \u001b[38;5;28mself\u001b[39m\u001b[38;5;241m.\u001b[39m_check_return(\u001b[38;5;28;01mNone\u001b[39;00m, args[\u001b[38;5;241m0\u001b[39m])\n",
      "File \u001b[0;32m/opt/homebrew/lib/python3.11/site-packages/IPython/core/formatters.py:340\u001b[0m, in \u001b[0;36mBaseFormatter.__call__\u001b[0;34m(self, obj)\u001b[0m\n\u001b[1;32m    338\u001b[0m     \u001b[38;5;28;01mpass\u001b[39;00m\n\u001b[1;32m    339\u001b[0m \u001b[38;5;28;01melse\u001b[39;00m:\n\u001b[0;32m--> 340\u001b[0m     \u001b[38;5;28;01mreturn\u001b[39;00m \u001b[43mprinter\u001b[49m\u001b[43m(\u001b[49m\u001b[43mobj\u001b[49m\u001b[43m)\u001b[49m\n\u001b[1;32m    341\u001b[0m \u001b[38;5;66;03m# Finally look for special method names\u001b[39;00m\n\u001b[1;32m    342\u001b[0m method \u001b[38;5;241m=\u001b[39m get_real_method(obj, \u001b[38;5;28mself\u001b[39m\u001b[38;5;241m.\u001b[39mprint_method)\n",
      "File \u001b[0;32m/opt/homebrew/lib/python3.11/site-packages/IPython/core/pylabtools.py:152\u001b[0m, in \u001b[0;36mprint_figure\u001b[0;34m(fig, fmt, bbox_inches, base64, **kwargs)\u001b[0m\n\u001b[1;32m    149\u001b[0m     \u001b[38;5;28;01mfrom\u001b[39;00m \u001b[38;5;21;01mmatplotlib\u001b[39;00m\u001b[38;5;21;01m.\u001b[39;00m\u001b[38;5;21;01mbackend_bases\u001b[39;00m \u001b[38;5;28;01mimport\u001b[39;00m FigureCanvasBase\n\u001b[1;32m    150\u001b[0m     FigureCanvasBase(fig)\n\u001b[0;32m--> 152\u001b[0m \u001b[43mfig\u001b[49m\u001b[38;5;241;43m.\u001b[39;49m\u001b[43mcanvas\u001b[49m\u001b[38;5;241;43m.\u001b[39;49m\u001b[43mprint_figure\u001b[49m\u001b[43m(\u001b[49m\u001b[43mbytes_io\u001b[49m\u001b[43m,\u001b[49m\u001b[43m \u001b[49m\u001b[38;5;241;43m*\u001b[39;49m\u001b[38;5;241;43m*\u001b[39;49m\u001b[43mkw\u001b[49m\u001b[43m)\u001b[49m\n\u001b[1;32m    153\u001b[0m data \u001b[38;5;241m=\u001b[39m bytes_io\u001b[38;5;241m.\u001b[39mgetvalue()\n\u001b[1;32m    154\u001b[0m \u001b[38;5;28;01mif\u001b[39;00m fmt \u001b[38;5;241m==\u001b[39m \u001b[38;5;124m'\u001b[39m\u001b[38;5;124msvg\u001b[39m\u001b[38;5;124m'\u001b[39m:\n",
      "File \u001b[0;32m/opt/homebrew/lib/python3.11/site-packages/matplotlib/backend_bases.py:2338\u001b[0m, in \u001b[0;36mFigureCanvasBase.print_figure\u001b[0;34m(self, filename, dpi, facecolor, edgecolor, orientation, format, bbox_inches, pad_inches, bbox_extra_artists, backend, **kwargs)\u001b[0m\n\u001b[1;32m   2332\u001b[0m     renderer \u001b[38;5;241m=\u001b[39m _get_renderer(\n\u001b[1;32m   2333\u001b[0m         \u001b[38;5;28mself\u001b[39m\u001b[38;5;241m.\u001b[39mfigure,\n\u001b[1;32m   2334\u001b[0m         functools\u001b[38;5;241m.\u001b[39mpartial(\n\u001b[1;32m   2335\u001b[0m             print_method, orientation\u001b[38;5;241m=\u001b[39morientation)\n\u001b[1;32m   2336\u001b[0m     )\n\u001b[1;32m   2337\u001b[0m     \u001b[38;5;28;01mwith\u001b[39;00m \u001b[38;5;28mgetattr\u001b[39m(renderer, \u001b[38;5;124m\"\u001b[39m\u001b[38;5;124m_draw_disabled\u001b[39m\u001b[38;5;124m\"\u001b[39m, nullcontext)():\n\u001b[0;32m-> 2338\u001b[0m         \u001b[38;5;28;43mself\u001b[39;49m\u001b[38;5;241;43m.\u001b[39;49m\u001b[43mfigure\u001b[49m\u001b[38;5;241;43m.\u001b[39;49m\u001b[43mdraw\u001b[49m\u001b[43m(\u001b[49m\u001b[43mrenderer\u001b[49m\u001b[43m)\u001b[49m\n\u001b[1;32m   2340\u001b[0m \u001b[38;5;28;01mif\u001b[39;00m bbox_inches:\n\u001b[1;32m   2341\u001b[0m     \u001b[38;5;28;01mif\u001b[39;00m bbox_inches \u001b[38;5;241m==\u001b[39m \u001b[38;5;124m\"\u001b[39m\u001b[38;5;124mtight\u001b[39m\u001b[38;5;124m\"\u001b[39m:\n",
      "File \u001b[0;32m/opt/homebrew/lib/python3.11/site-packages/matplotlib/artist.py:95\u001b[0m, in \u001b[0;36m_finalize_rasterization.<locals>.draw_wrapper\u001b[0;34m(artist, renderer, *args, **kwargs)\u001b[0m\n\u001b[1;32m     93\u001b[0m \u001b[38;5;129m@wraps\u001b[39m(draw)\n\u001b[1;32m     94\u001b[0m \u001b[38;5;28;01mdef\u001b[39;00m \u001b[38;5;21mdraw_wrapper\u001b[39m(artist, renderer, \u001b[38;5;241m*\u001b[39margs, \u001b[38;5;241m*\u001b[39m\u001b[38;5;241m*\u001b[39mkwargs):\n\u001b[0;32m---> 95\u001b[0m     result \u001b[38;5;241m=\u001b[39m \u001b[43mdraw\u001b[49m\u001b[43m(\u001b[49m\u001b[43martist\u001b[49m\u001b[43m,\u001b[49m\u001b[43m \u001b[49m\u001b[43mrenderer\u001b[49m\u001b[43m,\u001b[49m\u001b[43m \u001b[49m\u001b[38;5;241;43m*\u001b[39;49m\u001b[43margs\u001b[49m\u001b[43m,\u001b[49m\u001b[43m \u001b[49m\u001b[38;5;241;43m*\u001b[39;49m\u001b[38;5;241;43m*\u001b[39;49m\u001b[43mkwargs\u001b[49m\u001b[43m)\u001b[49m\n\u001b[1;32m     96\u001b[0m     \u001b[38;5;28;01mif\u001b[39;00m renderer\u001b[38;5;241m.\u001b[39m_rasterizing:\n\u001b[1;32m     97\u001b[0m         renderer\u001b[38;5;241m.\u001b[39mstop_rasterizing()\n",
      "File \u001b[0;32m/opt/homebrew/lib/python3.11/site-packages/matplotlib/artist.py:72\u001b[0m, in \u001b[0;36mallow_rasterization.<locals>.draw_wrapper\u001b[0;34m(artist, renderer)\u001b[0m\n\u001b[1;32m     69\u001b[0m     \u001b[38;5;28;01mif\u001b[39;00m artist\u001b[38;5;241m.\u001b[39mget_agg_filter() \u001b[38;5;129;01mis\u001b[39;00m \u001b[38;5;129;01mnot\u001b[39;00m \u001b[38;5;28;01mNone\u001b[39;00m:\n\u001b[1;32m     70\u001b[0m         renderer\u001b[38;5;241m.\u001b[39mstart_filter()\n\u001b[0;32m---> 72\u001b[0m     \u001b[38;5;28;01mreturn\u001b[39;00m \u001b[43mdraw\u001b[49m\u001b[43m(\u001b[49m\u001b[43martist\u001b[49m\u001b[43m,\u001b[49m\u001b[43m \u001b[49m\u001b[43mrenderer\u001b[49m\u001b[43m)\u001b[49m\n\u001b[1;32m     73\u001b[0m \u001b[38;5;28;01mfinally\u001b[39;00m:\n\u001b[1;32m     74\u001b[0m     \u001b[38;5;28;01mif\u001b[39;00m artist\u001b[38;5;241m.\u001b[39mget_agg_filter() \u001b[38;5;129;01mis\u001b[39;00m \u001b[38;5;129;01mnot\u001b[39;00m \u001b[38;5;28;01mNone\u001b[39;00m:\n",
      "File \u001b[0;32m/opt/homebrew/lib/python3.11/site-packages/matplotlib/figure.py:3125\u001b[0m, in \u001b[0;36mFigure.draw\u001b[0;34m(self, renderer)\u001b[0m\n\u001b[1;32m   3122\u001b[0m         \u001b[38;5;66;03m# ValueError can occur when resizing a window.\u001b[39;00m\n\u001b[1;32m   3124\u001b[0m \u001b[38;5;28mself\u001b[39m\u001b[38;5;241m.\u001b[39mpatch\u001b[38;5;241m.\u001b[39mdraw(renderer)\n\u001b[0;32m-> 3125\u001b[0m \u001b[43mmimage\u001b[49m\u001b[38;5;241;43m.\u001b[39;49m\u001b[43m_draw_list_compositing_images\u001b[49m\u001b[43m(\u001b[49m\n\u001b[1;32m   3126\u001b[0m \u001b[43m    \u001b[49m\u001b[43mrenderer\u001b[49m\u001b[43m,\u001b[49m\u001b[43m \u001b[49m\u001b[38;5;28;43mself\u001b[39;49m\u001b[43m,\u001b[49m\u001b[43m \u001b[49m\u001b[43martists\u001b[49m\u001b[43m,\u001b[49m\u001b[43m \u001b[49m\u001b[38;5;28;43mself\u001b[39;49m\u001b[38;5;241;43m.\u001b[39;49m\u001b[43msuppressComposite\u001b[49m\u001b[43m)\u001b[49m\n\u001b[1;32m   3128\u001b[0m \u001b[38;5;28;01mfor\u001b[39;00m sfig \u001b[38;5;129;01min\u001b[39;00m \u001b[38;5;28mself\u001b[39m\u001b[38;5;241m.\u001b[39msubfigs:\n\u001b[1;32m   3129\u001b[0m     sfig\u001b[38;5;241m.\u001b[39mdraw(renderer)\n",
      "File \u001b[0;32m/opt/homebrew/lib/python3.11/site-packages/matplotlib/image.py:131\u001b[0m, in \u001b[0;36m_draw_list_compositing_images\u001b[0;34m(renderer, parent, artists, suppress_composite)\u001b[0m\n\u001b[1;32m    129\u001b[0m \u001b[38;5;28;01mif\u001b[39;00m not_composite \u001b[38;5;129;01mor\u001b[39;00m \u001b[38;5;129;01mnot\u001b[39;00m has_images:\n\u001b[1;32m    130\u001b[0m     \u001b[38;5;28;01mfor\u001b[39;00m a \u001b[38;5;129;01min\u001b[39;00m artists:\n\u001b[0;32m--> 131\u001b[0m         \u001b[43ma\u001b[49m\u001b[38;5;241;43m.\u001b[39;49m\u001b[43mdraw\u001b[49m\u001b[43m(\u001b[49m\u001b[43mrenderer\u001b[49m\u001b[43m)\u001b[49m\n\u001b[1;32m    132\u001b[0m \u001b[38;5;28;01melse\u001b[39;00m:\n\u001b[1;32m    133\u001b[0m     \u001b[38;5;66;03m# Composite any adjacent images together\u001b[39;00m\n\u001b[1;32m    134\u001b[0m     image_group \u001b[38;5;241m=\u001b[39m []\n",
      "File \u001b[0;32m/opt/homebrew/lib/python3.11/site-packages/matplotlib/artist.py:72\u001b[0m, in \u001b[0;36mallow_rasterization.<locals>.draw_wrapper\u001b[0;34m(artist, renderer)\u001b[0m\n\u001b[1;32m     69\u001b[0m     \u001b[38;5;28;01mif\u001b[39;00m artist\u001b[38;5;241m.\u001b[39mget_agg_filter() \u001b[38;5;129;01mis\u001b[39;00m \u001b[38;5;129;01mnot\u001b[39;00m \u001b[38;5;28;01mNone\u001b[39;00m:\n\u001b[1;32m     70\u001b[0m         renderer\u001b[38;5;241m.\u001b[39mstart_filter()\n\u001b[0;32m---> 72\u001b[0m     \u001b[38;5;28;01mreturn\u001b[39;00m \u001b[43mdraw\u001b[49m\u001b[43m(\u001b[49m\u001b[43martist\u001b[49m\u001b[43m,\u001b[49m\u001b[43m \u001b[49m\u001b[43mrenderer\u001b[49m\u001b[43m)\u001b[49m\n\u001b[1;32m     73\u001b[0m \u001b[38;5;28;01mfinally\u001b[39;00m:\n\u001b[1;32m     74\u001b[0m     \u001b[38;5;28;01mif\u001b[39;00m artist\u001b[38;5;241m.\u001b[39mget_agg_filter() \u001b[38;5;129;01mis\u001b[39;00m \u001b[38;5;129;01mnot\u001b[39;00m \u001b[38;5;28;01mNone\u001b[39;00m:\n",
      "File \u001b[0;32m/opt/homebrew/lib/python3.11/site-packages/matplotlib/axes/_base.py:3066\u001b[0m, in \u001b[0;36m_AxesBase.draw\u001b[0;34m(self, renderer)\u001b[0m\n\u001b[1;32m   3063\u001b[0m \u001b[38;5;28;01mif\u001b[39;00m artists_rasterized:\n\u001b[1;32m   3064\u001b[0m     _draw_rasterized(\u001b[38;5;28mself\u001b[39m\u001b[38;5;241m.\u001b[39mfigure, artists_rasterized, renderer)\n\u001b[0;32m-> 3066\u001b[0m \u001b[43mmimage\u001b[49m\u001b[38;5;241;43m.\u001b[39;49m\u001b[43m_draw_list_compositing_images\u001b[49m\u001b[43m(\u001b[49m\n\u001b[1;32m   3067\u001b[0m \u001b[43m    \u001b[49m\u001b[43mrenderer\u001b[49m\u001b[43m,\u001b[49m\u001b[43m \u001b[49m\u001b[38;5;28;43mself\u001b[39;49m\u001b[43m,\u001b[49m\u001b[43m \u001b[49m\u001b[43martists\u001b[49m\u001b[43m,\u001b[49m\u001b[43m \u001b[49m\u001b[38;5;28;43mself\u001b[39;49m\u001b[38;5;241;43m.\u001b[39;49m\u001b[43mfigure\u001b[49m\u001b[38;5;241;43m.\u001b[39;49m\u001b[43msuppressComposite\u001b[49m\u001b[43m)\u001b[49m\n\u001b[1;32m   3069\u001b[0m renderer\u001b[38;5;241m.\u001b[39mclose_group(\u001b[38;5;124m'\u001b[39m\u001b[38;5;124maxes\u001b[39m\u001b[38;5;124m'\u001b[39m)\n\u001b[1;32m   3070\u001b[0m \u001b[38;5;28mself\u001b[39m\u001b[38;5;241m.\u001b[39mstale \u001b[38;5;241m=\u001b[39m \u001b[38;5;28;01mFalse\u001b[39;00m\n",
      "File \u001b[0;32m/opt/homebrew/lib/python3.11/site-packages/matplotlib/image.py:131\u001b[0m, in \u001b[0;36m_draw_list_compositing_images\u001b[0;34m(renderer, parent, artists, suppress_composite)\u001b[0m\n\u001b[1;32m    129\u001b[0m \u001b[38;5;28;01mif\u001b[39;00m not_composite \u001b[38;5;129;01mor\u001b[39;00m \u001b[38;5;129;01mnot\u001b[39;00m has_images:\n\u001b[1;32m    130\u001b[0m     \u001b[38;5;28;01mfor\u001b[39;00m a \u001b[38;5;129;01min\u001b[39;00m artists:\n\u001b[0;32m--> 131\u001b[0m         \u001b[43ma\u001b[49m\u001b[38;5;241;43m.\u001b[39;49m\u001b[43mdraw\u001b[49m\u001b[43m(\u001b[49m\u001b[43mrenderer\u001b[49m\u001b[43m)\u001b[49m\n\u001b[1;32m    132\u001b[0m \u001b[38;5;28;01melse\u001b[39;00m:\n\u001b[1;32m    133\u001b[0m     \u001b[38;5;66;03m# Composite any adjacent images together\u001b[39;00m\n\u001b[1;32m    134\u001b[0m     image_group \u001b[38;5;241m=\u001b[39m []\n",
      "File \u001b[0;32m/opt/homebrew/lib/python3.11/site-packages/matplotlib/artist.py:72\u001b[0m, in \u001b[0;36mallow_rasterization.<locals>.draw_wrapper\u001b[0;34m(artist, renderer)\u001b[0m\n\u001b[1;32m     69\u001b[0m     \u001b[38;5;28;01mif\u001b[39;00m artist\u001b[38;5;241m.\u001b[39mget_agg_filter() \u001b[38;5;129;01mis\u001b[39;00m \u001b[38;5;129;01mnot\u001b[39;00m \u001b[38;5;28;01mNone\u001b[39;00m:\n\u001b[1;32m     70\u001b[0m         renderer\u001b[38;5;241m.\u001b[39mstart_filter()\n\u001b[0;32m---> 72\u001b[0m     \u001b[38;5;28;01mreturn\u001b[39;00m \u001b[43mdraw\u001b[49m\u001b[43m(\u001b[49m\u001b[43martist\u001b[49m\u001b[43m,\u001b[49m\u001b[43m \u001b[49m\u001b[43mrenderer\u001b[49m\u001b[43m)\u001b[49m\n\u001b[1;32m     73\u001b[0m \u001b[38;5;28;01mfinally\u001b[39;00m:\n\u001b[1;32m     74\u001b[0m     \u001b[38;5;28;01mif\u001b[39;00m artist\u001b[38;5;241m.\u001b[39mget_agg_filter() \u001b[38;5;129;01mis\u001b[39;00m \u001b[38;5;129;01mnot\u001b[39;00m \u001b[38;5;28;01mNone\u001b[39;00m:\n",
      "File \u001b[0;32m/opt/homebrew/lib/python3.11/site-packages/matplotlib/text.py:2024\u001b[0m, in \u001b[0;36mAnnotation.draw\u001b[0;34m(self, renderer)\u001b[0m\n\u001b[1;32m   2021\u001b[0m     \u001b[38;5;28;01mreturn\u001b[39;00m\n\u001b[1;32m   2022\u001b[0m \u001b[38;5;66;03m# Update text positions before `Text.draw` would, so that the\u001b[39;00m\n\u001b[1;32m   2023\u001b[0m \u001b[38;5;66;03m# FancyArrowPatch is correctly positioned.\u001b[39;00m\n\u001b[0;32m-> 2024\u001b[0m \u001b[38;5;28;43mself\u001b[39;49m\u001b[38;5;241;43m.\u001b[39;49m\u001b[43mupdate_positions\u001b[49m\u001b[43m(\u001b[49m\u001b[43mrenderer\u001b[49m\u001b[43m)\u001b[49m\n\u001b[1;32m   2025\u001b[0m \u001b[38;5;28mself\u001b[39m\u001b[38;5;241m.\u001b[39mupdate_bbox_position_size(renderer)\n\u001b[1;32m   2026\u001b[0m \u001b[38;5;28;01mif\u001b[39;00m \u001b[38;5;28mself\u001b[39m\u001b[38;5;241m.\u001b[39marrow_patch \u001b[38;5;129;01mis\u001b[39;00m \u001b[38;5;129;01mnot\u001b[39;00m \u001b[38;5;28;01mNone\u001b[39;00m:  \u001b[38;5;66;03m# FancyArrowPatch\u001b[39;00m\n",
      "File \u001b[0;32m/opt/homebrew/lib/python3.11/site-packages/matplotlib/text.py:1957\u001b[0m, in \u001b[0;36mAnnotation.update_positions\u001b[0;34m(self, renderer)\u001b[0m\n\u001b[1;32m   1954\u001b[0m \u001b[38;5;28;01mif\u001b[39;00m arrowprops \u001b[38;5;129;01mis\u001b[39;00m \u001b[38;5;28;01mNone\u001b[39;00m:\n\u001b[1;32m   1955\u001b[0m     \u001b[38;5;28;01mreturn\u001b[39;00m\n\u001b[0;32m-> 1957\u001b[0m bbox \u001b[38;5;241m=\u001b[39m \u001b[43mText\u001b[49m\u001b[38;5;241;43m.\u001b[39;49m\u001b[43mget_window_extent\u001b[49m\u001b[43m(\u001b[49m\u001b[38;5;28;43mself\u001b[39;49m\u001b[43m,\u001b[49m\u001b[43m \u001b[49m\u001b[43mrenderer\u001b[49m\u001b[43m)\u001b[49m\n\u001b[1;32m   1959\u001b[0m arrow_end \u001b[38;5;241m=\u001b[39m x1, y1 \u001b[38;5;241m=\u001b[39m \u001b[38;5;28mself\u001b[39m\u001b[38;5;241m.\u001b[39m_get_position_xy(renderer)  \u001b[38;5;66;03m# Annotated pos.\u001b[39;00m\n\u001b[1;32m   1961\u001b[0m ms \u001b[38;5;241m=\u001b[39m arrowprops\u001b[38;5;241m.\u001b[39mget(\u001b[38;5;124m\"\u001b[39m\u001b[38;5;124mmutation_scale\u001b[39m\u001b[38;5;124m\"\u001b[39m, \u001b[38;5;28mself\u001b[39m\u001b[38;5;241m.\u001b[39mget_size())\n",
      "File \u001b[0;32m/opt/homebrew/lib/python3.11/site-packages/matplotlib/text.py:959\u001b[0m, in \u001b[0;36mText.get_window_extent\u001b[0;34m(self, renderer, dpi)\u001b[0m\n\u001b[1;32m    954\u001b[0m     \u001b[38;5;28;01mraise\u001b[39;00m \u001b[38;5;167;01mRuntimeError\u001b[39;00m(\n\u001b[1;32m    955\u001b[0m         \u001b[38;5;124m\"\u001b[39m\u001b[38;5;124mCannot get window extent of text w/o renderer. You likely \u001b[39m\u001b[38;5;124m\"\u001b[39m\n\u001b[1;32m    956\u001b[0m         \u001b[38;5;124m\"\u001b[39m\u001b[38;5;124mwant to call \u001b[39m\u001b[38;5;124m'\u001b[39m\u001b[38;5;124mfigure.draw_without_rendering()\u001b[39m\u001b[38;5;124m'\u001b[39m\u001b[38;5;124m first.\u001b[39m\u001b[38;5;124m\"\u001b[39m)\n\u001b[1;32m    958\u001b[0m \u001b[38;5;28;01mwith\u001b[39;00m cbook\u001b[38;5;241m.\u001b[39m_setattr_cm(\u001b[38;5;28mself\u001b[39m\u001b[38;5;241m.\u001b[39mfigure, dpi\u001b[38;5;241m=\u001b[39mdpi):\n\u001b[0;32m--> 959\u001b[0m     bbox, info, descent \u001b[38;5;241m=\u001b[39m \u001b[38;5;28;43mself\u001b[39;49m\u001b[38;5;241;43m.\u001b[39;49m\u001b[43m_get_layout\u001b[49m\u001b[43m(\u001b[49m\u001b[38;5;28;43mself\u001b[39;49m\u001b[38;5;241;43m.\u001b[39;49m\u001b[43m_renderer\u001b[49m\u001b[43m)\u001b[49m\n\u001b[1;32m    960\u001b[0m     x, y \u001b[38;5;241m=\u001b[39m \u001b[38;5;28mself\u001b[39m\u001b[38;5;241m.\u001b[39mget_unitless_position()\n\u001b[1;32m    961\u001b[0m     x, y \u001b[38;5;241m=\u001b[39m \u001b[38;5;28mself\u001b[39m\u001b[38;5;241m.\u001b[39mget_transform()\u001b[38;5;241m.\u001b[39mtransform((x, y))\n",
      "File \u001b[0;32m/opt/homebrew/lib/python3.11/site-packages/matplotlib/text.py:386\u001b[0m, in \u001b[0;36mText._get_layout\u001b[0;34m(self, renderer)\u001b[0m\n\u001b[1;32m    384\u001b[0m clean_line, ismath \u001b[38;5;241m=\u001b[39m \u001b[38;5;28mself\u001b[39m\u001b[38;5;241m.\u001b[39m_preprocess_math(line)\n\u001b[1;32m    385\u001b[0m \u001b[38;5;28;01mif\u001b[39;00m clean_line:\n\u001b[0;32m--> 386\u001b[0m     w, h, d \u001b[38;5;241m=\u001b[39m \u001b[43m_get_text_metrics_with_cache\u001b[49m\u001b[43m(\u001b[49m\n\u001b[1;32m    387\u001b[0m \u001b[43m        \u001b[49m\u001b[43mrenderer\u001b[49m\u001b[43m,\u001b[49m\u001b[43m \u001b[49m\u001b[43mclean_line\u001b[49m\u001b[43m,\u001b[49m\u001b[43m \u001b[49m\u001b[38;5;28;43mself\u001b[39;49m\u001b[38;5;241;43m.\u001b[39;49m\u001b[43m_fontproperties\u001b[49m\u001b[43m,\u001b[49m\n\u001b[1;32m    388\u001b[0m \u001b[43m        \u001b[49m\u001b[43mismath\u001b[49m\u001b[38;5;241;43m=\u001b[39;49m\u001b[43mismath\u001b[49m\u001b[43m,\u001b[49m\u001b[43m \u001b[49m\u001b[43mdpi\u001b[49m\u001b[38;5;241;43m=\u001b[39;49m\u001b[38;5;28;43mself\u001b[39;49m\u001b[38;5;241;43m.\u001b[39;49m\u001b[43mfigure\u001b[49m\u001b[38;5;241;43m.\u001b[39;49m\u001b[43mdpi\u001b[49m\u001b[43m)\u001b[49m\n\u001b[1;32m    389\u001b[0m \u001b[38;5;28;01melse\u001b[39;00m:\n\u001b[1;32m    390\u001b[0m     w \u001b[38;5;241m=\u001b[39m h \u001b[38;5;241m=\u001b[39m d \u001b[38;5;241m=\u001b[39m \u001b[38;5;241m0\u001b[39m\n",
      "File \u001b[0;32m/opt/homebrew/lib/python3.11/site-packages/matplotlib/text.py:97\u001b[0m, in \u001b[0;36m_get_text_metrics_with_cache\u001b[0;34m(renderer, text, fontprop, ismath, dpi)\u001b[0m\n\u001b[1;32m     94\u001b[0m \u001b[38;5;250m\u001b[39m\u001b[38;5;124;03m\"\"\"Call ``renderer.get_text_width_height_descent``, caching the results.\"\"\"\u001b[39;00m\n\u001b[1;32m     95\u001b[0m \u001b[38;5;66;03m# Cached based on a copy of fontprop so that later in-place mutations of\u001b[39;00m\n\u001b[1;32m     96\u001b[0m \u001b[38;5;66;03m# the passed-in argument do not mess up the cache.\u001b[39;00m\n\u001b[0;32m---> 97\u001b[0m \u001b[38;5;28;01mreturn\u001b[39;00m \u001b[43m_get_text_metrics_with_cache_impl\u001b[49m\u001b[43m(\u001b[49m\n\u001b[1;32m     98\u001b[0m \u001b[43m    \u001b[49m\u001b[43mweakref\u001b[49m\u001b[38;5;241;43m.\u001b[39;49m\u001b[43mref\u001b[49m\u001b[43m(\u001b[49m\u001b[43mrenderer\u001b[49m\u001b[43m)\u001b[49m\u001b[43m,\u001b[49m\u001b[43m \u001b[49m\u001b[43mtext\u001b[49m\u001b[43m,\u001b[49m\u001b[43m \u001b[49m\u001b[43mfontprop\u001b[49m\u001b[38;5;241;43m.\u001b[39;49m\u001b[43mcopy\u001b[49m\u001b[43m(\u001b[49m\u001b[43m)\u001b[49m\u001b[43m,\u001b[49m\u001b[43m \u001b[49m\u001b[43mismath\u001b[49m\u001b[43m,\u001b[49m\u001b[43m \u001b[49m\u001b[43mdpi\u001b[49m\u001b[43m)\u001b[49m\n",
      "File \u001b[0;32m/opt/homebrew/lib/python3.11/site-packages/matplotlib/text.py:105\u001b[0m, in \u001b[0;36m_get_text_metrics_with_cache_impl\u001b[0;34m(renderer_ref, text, fontprop, ismath, dpi)\u001b[0m\n\u001b[1;32m    101\u001b[0m \u001b[38;5;129m@functools\u001b[39m\u001b[38;5;241m.\u001b[39mlru_cache(\u001b[38;5;241m4096\u001b[39m)\n\u001b[1;32m    102\u001b[0m \u001b[38;5;28;01mdef\u001b[39;00m \u001b[38;5;21m_get_text_metrics_with_cache_impl\u001b[39m(\n\u001b[1;32m    103\u001b[0m         renderer_ref, text, fontprop, ismath, dpi):\n\u001b[1;32m    104\u001b[0m     \u001b[38;5;66;03m# dpi is unused, but participates in cache invalidation (via the renderer).\u001b[39;00m\n\u001b[0;32m--> 105\u001b[0m     \u001b[38;5;28;01mreturn\u001b[39;00m \u001b[43mrenderer_ref\u001b[49m\u001b[43m(\u001b[49m\u001b[43m)\u001b[49m\u001b[38;5;241;43m.\u001b[39;49m\u001b[43mget_text_width_height_descent\u001b[49m\u001b[43m(\u001b[49m\u001b[43mtext\u001b[49m\u001b[43m,\u001b[49m\u001b[43m \u001b[49m\u001b[43mfontprop\u001b[49m\u001b[43m,\u001b[49m\u001b[43m \u001b[49m\u001b[43mismath\u001b[49m\u001b[43m)\u001b[49m\n",
      "File \u001b[0;32m/opt/homebrew/lib/python3.11/site-packages/matplotlib/backends/backend_agg.py:234\u001b[0m, in \u001b[0;36mRendererAgg.get_text_width_height_descent\u001b[0;34m(self, s, prop, ismath)\u001b[0m\n\u001b[1;32m    231\u001b[0m     \u001b[38;5;28;01mreturn\u001b[39;00m width, height, descent\n\u001b[1;32m    233\u001b[0m font \u001b[38;5;241m=\u001b[39m \u001b[38;5;28mself\u001b[39m\u001b[38;5;241m.\u001b[39m_prepare_font(prop)\n\u001b[0;32m--> 234\u001b[0m \u001b[43mfont\u001b[49m\u001b[38;5;241;43m.\u001b[39;49m\u001b[43mset_text\u001b[49m\u001b[43m(\u001b[49m\u001b[43ms\u001b[49m\u001b[43m,\u001b[49m\u001b[43m \u001b[49m\u001b[38;5;241;43m0.0\u001b[39;49m\u001b[43m,\u001b[49m\u001b[43m \u001b[49m\u001b[43mflags\u001b[49m\u001b[38;5;241;43m=\u001b[39;49m\u001b[43mget_hinting_flag\u001b[49m\u001b[43m(\u001b[49m\u001b[43m)\u001b[49m\u001b[43m)\u001b[49m\n\u001b[1;32m    235\u001b[0m w, h \u001b[38;5;241m=\u001b[39m font\u001b[38;5;241m.\u001b[39mget_width_height()  \u001b[38;5;66;03m# width and height of unrotated string\u001b[39;00m\n\u001b[1;32m    236\u001b[0m d \u001b[38;5;241m=\u001b[39m font\u001b[38;5;241m.\u001b[39mget_descent()\n",
      "\u001b[0;31mKeyboardInterrupt\u001b[0m: "
     ]
    }
   ],
   "source": [
    "plt.figure(figsize=(20, 4), dpi=300)\n",
    "plot_tree(dt, feature_names=attributes, filled=True)\n",
    "plt.show()"
   ]
  },
  {
   "cell_type": "markdown",
   "id": "ab4a865a",
   "metadata": {},
   "source": [
    "### Parameter tuning - I map\n",
    "#### Randomized Search\n",
    "See: https://scikit-learn.org/stable/modules/generated/sklearn.model_selection.RandomizedSearchCV.html\n",
    "Here the difference between this an `GridSearchCV()`:   \n",
    "\"_In contrast to GridSearchCV, not all parameter values are tried out, but rather a fixed number of parameter settings is sampled from the specified distributions. The number of parameter settings that are tried is given by $n_{iter}$._\""
   ]
  },
  {
   "cell_type": "code",
   "execution_count": 33,
   "id": "542f1a74",
   "metadata": {},
   "outputs": [],
   "source": [
    "from sklearn.model_selection import cross_val_score\n",
    "# For metric choice with cross_val_score see: https://scikit-learn.org/0.15/modules/model_evaluation.html\n",
    "from sklearn.model_selection import RandomizedSearchCV\n",
    "from sklearn.model_selection import RepeatedStratifiedKFold"
   ]
  },
  {
   "cell_type": "code",
   "execution_count": 34,
   "id": "0442c1bd",
   "metadata": {},
   "outputs": [
    {
     "name": "stdout",
     "output_type": "stream",
     "text": [
      "[0.43866667 0.42733333 0.43       0.432      0.423     ]\n"
     ]
    }
   ],
   "source": [
    "scores = cross_val_score(dt, X_train, y_train, cv=5)\n",
    "print(scores)"
   ]
  },
  {
   "cell_type": "markdown",
   "id": "d0b41ef6",
   "metadata": {},
   "source": [
    "Before exploring a randomized search, we want to have an idea of what kind of values are reasonable for the most interesting parameters of the tree. "
   ]
  },
  {
   "cell_type": "code",
   "execution_count": 68,
   "id": "75cd6d80",
   "metadata": {},
   "outputs": [
    {
     "name": "stdout",
     "output_type": "stream",
     "text": [
      "Train Accuracy for max_depth=None :1.0\n",
      "Train Accuracy for max_depth=50 :1.0\n",
      "Train Accuracy for max_depth=51 :1.0\n",
      "Train Accuracy for max_depth=52 :1.0\n",
      "Train Accuracy for max_depth=53 :1.0\n",
      "Train Accuracy for max_depth=54 :1.0\n",
      "Train Accuracy for max_depth=55 :1.0\n",
      "Train Accuracy for max_depth=56 :1.0\n",
      "Train Accuracy for max_depth=57 :1.0\n",
      "Train Accuracy for max_depth=58 :1.0\n",
      "Train Accuracy for max_depth=59 :1.0\n",
      "Train Accuracy for max_depth=60 :1.0\n",
      "Train Accuracy for max_depth=61 :1.0\n",
      "Train Accuracy for max_depth=62 :1.0\n",
      "Train Accuracy for max_depth=63 :1.0\n",
      "Train Accuracy for max_depth=64 :1.0\n",
      "Train Accuracy for max_depth=65 :1.0\n",
      "Train Accuracy for max_depth=66 :1.0\n",
      "Train Accuracy for max_depth=67 :1.0\n",
      "Train Accuracy for max_depth=68 :1.0\n",
      "Train Accuracy for max_depth=69 :1.0\n",
      "Train Accuracy for max_depth=70 :1.0\n",
      "Train Accuracy for max_depth=71 :1.0\n",
      "Train Accuracy for max_depth=72 :1.0\n",
      "Train Accuracy for max_depth=73 :1.0\n",
      "Train Accuracy for max_depth=74 :1.0\n",
      "Train Accuracy for max_depth=75 :1.0\n",
      "Train Accuracy for max_depth=76 :1.0\n",
      "Train Accuracy for max_depth=77 :1.0\n",
      "Train Accuracy for max_depth=78 :1.0\n",
      "Train Accuracy for max_depth=79 :1.0\n",
      "Train Accuracy for max_depth=80 :1.0\n",
      "Train Accuracy for max_depth=81 :1.0\n",
      "Train Accuracy for max_depth=82 :1.0\n",
      "Train Accuracy for max_depth=83 :1.0\n",
      "Train Accuracy for max_depth=84 :1.0\n",
      "Train Accuracy for max_depth=85 :1.0\n",
      "Train Accuracy for max_depth=86 :1.0\n",
      "Train Accuracy for max_depth=87 :1.0\n",
      "Train Accuracy for max_depth=88 :1.0\n",
      "Train Accuracy for max_depth=89 :1.0\n",
      "Train Accuracy for max_depth=90 :1.0\n",
      "Train Accuracy for max_depth=91 :1.0\n",
      "Train Accuracy for max_depth=92 :1.0\n",
      "Train Accuracy for max_depth=93 :1.0\n",
      "Train Accuracy for max_depth=94 :1.0\n",
      "Train Accuracy for max_depth=95 :1.0\n",
      "Train Accuracy for max_depth=96 :1.0\n",
      "Train Accuracy for max_depth=97 :1.0\n",
      "Train Accuracy for max_depth=98 :1.0\n",
      "Train Accuracy for max_depth=99 :1.0\n"
     ]
    },
    {
     "data": {
      "image/png": "[encoded data removed]",
      "text/plain": [
       "<Figure size 640x480 with 1 Axes>"
      ]
     },
     "metadata": {},
     "output_type": "display_data"
    }
   ],
   "source": [
    "# considering max_depth\n",
    "max_depths = [None] + list(np.arange(50, 100))\n",
    "avg_scores = list()\n",
    "std_scores = list()\n",
    "\n",
    "for max_depth in max_depths:\n",
    "    dt = DecisionTreeClassifier(max_depth=max_depth)\n",
    "    scores = cross_val_score(dt, X_train, y_train, cv=5,scoring='accuracy')\n",
    "    print(f'Train Accuracy for max_depth={max_depth} :{accuracy_score(y_train, y_train_pred)}')\n",
    "    avg_scores.append(np.mean(scores))\n",
    "    std_scores.append(np.std(scores))\n",
    "\n",
    "plt.errorbar(range(len(max_depths)), y=avg_scores, yerr=std_scores, marker='o')\n",
    "plt.xticks(range(len(max_depths)), max_depths)\n",
    "plt.xlabel(\"max_depths\")\n",
    "plt.ylabel(\"accuracy\")\n",
    "plt.show()"
   ]
  },
  {
   "cell_type": "code",
   "execution_count": null,
   "id": "972a57f8",
   "metadata": {},
   "outputs": [],
   "source": [
    "%%time\n",
    "param_list = {\n",
    "    'max_depth': [None] + list(np.arange(2, 20)),\n",
    "    'min_samples_split': [2, 5, 10, 20, 30, 50, 100],\n",
    "    'min_samples_leaf': [1, 5, 10, 20, 30, 50, 100],\n",
    "    'criterion': ['gini', 'entropy']\n",
    "}\n",
    "\n",
    "#param_distributions : dict or list of dicts\n",
    "#Dictionary with parameters names (str) as keys and distributions or \n",
    "#lists of parameters to try. Distributions must provide a rvs method \n",
    "#for sampling (such as those from scipy.stats.distributions). \n",
    "#If a list is given, it is sampled uniformly. If a list of dicts is given,\n",
    "#first a dict is sampled uniformly, and then a parameter is sampled using that dict as above.\n",
    "\n",
    "clf = DecisionTreeClassifier(criterion='gini', max_depth=None, min_samples_split=2, min_samples_leaf=1)\n",
    "\n",
    "random_search = RandomizedSearchCV(\n",
    "    DecisionTreeClassifier(),\n",
    "    param_distributions=param_list,\n",
    "    cv=RepeatedStratifiedKFold(random_state=0),\n",
    "    n_jobs=-1,\n",
    "    refit=True,\n",
    "    n_iter=200,\n",
    "    #verbose=2\n",
    ")\n",
    "\n",
    "random_search.fit(X_train, y_train)\n",
    "clf = random_search.best_estimator_"
   ]
  }
 ],
 "metadata": {
  "kernelspec": {
   "display_name": "Python 3 (ipykernel)",
   "language": "python",
   "name": "python3"
  },
  "language_info": {
   "codemirror_mode": {
    "name": "ipython",
    "version": 3
   },
   "file_extension": ".py",
   "mimetype": "text/x-python",
   "name": "python",
   "nbconvert_exporter": "python",
   "pygments_lexer": "ipython3",
   "version": "3.11.6"
  }
 },
 "nbformat": 4,
 "nbformat_minor": 5
}
