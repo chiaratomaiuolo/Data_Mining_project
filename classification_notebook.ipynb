{
 "cells": [
  {
   "cell_type": "markdown",
   "id": "b564a938",
   "metadata": {},
   "source": [
    "# Classification for the Spotify dataset\n",
    "In the following, we will perform classification for the given dataset. Goal is _create a model classificator for labelling tracks by `genre`_.  \n",
    "We will perform 3 attempts for this classification:\n",
    "- multiclass classification with n_class = n_genra;\n",
    "- multiclass classification with n_class < n_genra, and in particular we want to regroup consider some sort of 'basic' genra criterion. It has been considered the following classification: https://en.wikipedia.org/wiki/List_of_music_genres_and_styles;\n",
    "- binary classification, not musical tracks vs musical tracks. "
   ]
  },
  {
   "cell_type": "code",
   "execution_count": 1,
   "id": "2a0d2f24",
   "metadata": {},
   "outputs": [],
   "source": [
    "import numpy as np\n",
    "import matplotlib.pyplot as plt\n",
    "import seaborn as sns\n",
    "import pandas as pd"
   ]
  },
  {
   "cell_type": "markdown",
   "id": "c6c81a7a",
   "metadata": {},
   "source": [
    "## Evaluation metrics\n",
    "Importing the metrics for evaluating performances.  \n",
    "Here reporting some formulas in order to recap everything:  \n",
    "$$Acc = \\frac{TP + TN}{TP + TN + FP + FN} $$  \n",
    "The F1 score can be interpreted as a harmonic mean (harmonic mean is the reciprocal of the aritmetic mean of the reciprocals. It is sometimes appropriate for situations when the average rate is desired) of the precision and recall, where an F1 score reaches its best value at 1 and worst score at 0. The relative contribution of precision and recall to the F1 score are equal. The formula for the F1 score is F1 = 2 * (precision * recall) / (precision + recall):\n",
    "\n",
    "$$F1_{\\text{score}} = \\frac{2TP}{2TP + FN + FP} $$  \n",
    "$$Recall = \\frac{TP}{TP + FN} $$"
   ]
  },
  {
   "cell_type": "code",
   "execution_count": 2,
   "id": "c60028cf",
   "metadata": {},
   "outputs": [],
   "source": [
    "#Importing the performance metrics\n",
    "from sklearn.metrics import (\n",
    "    accuracy_score,\n",
    "    f1_score,\n",
    "    classification_report,\n",
    "    confusion_matrix,\n",
    "    roc_auc_score,\n",
    ")\n",
    "from scikitplot.metrics import plot_roc\n",
    "from scikitplot.metrics import plot_precision_recall"
   ]
  },
  {
   "cell_type": "code",
   "execution_count": 3,
   "id": "8d5940ff",
   "metadata": {},
   "outputs": [],
   "source": [
    "# importing datasets - one will be used for training, one for testing.\n",
    "df_original_copy_training = pd.read_csv(\"dataset (missing + split)/train.csv\", skipinitialspace=True)\n",
    "df_train = pd.read_csv(\"dataset (missing + split)/train.csv\", skipinitialspace=True) #this will be modified\n",
    "\n",
    "df_test = pd.read_csv(\"dataset (missing + split)/test.csv\", skipinitialspace=True)"
   ]
  },
  {
   "cell_type": "markdown",
   "id": "509289d4",
   "metadata": {},
   "source": [
    "# Data preparation: transformation and preprocessing\n",
    "This has to be done on both training set and test set. "
   ]
  },
  {
   "cell_type": "markdown",
   "id": "28fdc334",
   "metadata": {},
   "source": [
    "### Data transformation"
   ]
  },
  {
   "cell_type": "code",
   "execution_count": 4,
   "id": "2d3c086d",
   "metadata": {},
   "outputs": [],
   "source": [
    "#Changing udm to duration_ms and features_duration_ms from ms to min - train\n",
    "df_train['duration_ms'] *= 1/6e4\n",
    "#Changing udm to duration_ms and features_duration_ms from ms to min - test\n",
    "df_test['duration_ms'] *= 1/6e4\n",
    "#Setting popularity as a % - train\n",
    "df_train['popularity'] /= 100\n",
    "df_train.rename(columns = {'duration_ms':'duration_min'}, inplace = True)\n",
    "df_train.rename(columns = {'popularity':'popularity_percent'}, inplace = True)\n",
    "#Setting popularity as a % - test\n",
    "df_test['popularity'] /= 100\n",
    "df_test.rename(columns = {'duration_ms':'duration_min'}, inplace = True)\n",
    "df_test.rename(columns = {'popularity':'popularity_percent'}, inplace = True)"
   ]
  },
  {
   "cell_type": "markdown",
   "id": "28d5f926",
   "metadata": {},
   "source": [
    "### Filling of NaN values"
   ]
  },
  {
   "cell_type": "code",
   "execution_count": 5,
   "id": "cc435281",
   "metadata": {},
   "outputs": [],
   "source": [
    "#Dealing with mode attribute missing values - train\n",
    "#Computing p0 and p1 and filling missing values of mode attribute by sampling\n",
    "\n",
    "p0=df_train['mode'].value_counts()[0]/(len(df_train)-df_train['mode'].isnull().sum())\n",
    "p1=df_train['mode'].value_counts()[1]/(len(df_train)-df_train['mode'].isnull().sum())\n",
    "list_of_nan_indexes_train=df_train[df_train['mode'].isnull()].index.tolist()\n",
    "for i in list_of_nan_indexes_train:\n",
    "    if np.random.random() < p1:\n",
    "        df_train.loc[i,'mode'] = 1.0\n",
    "    else:\n",
    "        df_train.loc[i,'mode'] = 0.0\n",
    "        \n",
    "#Dealing with mode attribute missing values - test\n",
    "#Computing p0 and p1 and filling missing values of mode attribute by sampling\n",
    "\n",
    "p0=df_test['mode'].value_counts()[0]/(len(df_test)-df_test['mode'].isnull().sum())\n",
    "p1=df_test['mode'].value_counts()[1]/(len(df_test)-df_test['mode'].isnull().sum())\n",
    "list_of_nan_indexes_test=df_test[df_test['mode'].isnull()].index.tolist()\n",
    "for i in list_of_nan_indexes_test:\n",
    "    if np.random.random() < p1:\n",
    "        df_test.loc[i,'mode'] = 1.0\n",
    "    else:\n",
    "        df_test.loc[i,'mode'] = 0.0"
   ]
  },
  {
   "cell_type": "code",
   "execution_count": 6,
   "id": "3dce60cc",
   "metadata": {},
   "outputs": [],
   "source": [
    "#Dealing with time_signature attribute missing values - train\n",
    "#Computing the array containing the probabilities of every outcome for time_signature\n",
    "outcomes_of_time_signature = len(df_train['time_signature'].value_counts())\n",
    "p_array=np.array(df_train['time_signature'].value_counts().sort_index(ascending=True)/(len(df_train)-df_train['time_signature'].isnull().sum()))\n",
    "#creating a dictionary containing the correspondance between value and sorted index\n",
    "dict_ts = {0: 0.0, 1: 1.0, 2: 3.0, 3 : 4.0, 4 : 5.0}\n",
    "list_of_nan_indexes_ts=df_train[df_train['time_signature'].isnull()].index.tolist()\n",
    "from scipy.stats import multinomial \n",
    "#please forgive the dunb programming here, no real deal of time, only ~3000 points to be evaluated\n",
    "for i in list_of_nan_indexes_ts:\n",
    "    tmp = multinomial.rvs(1, p_array, size=1, random_state=None)\n",
    "    array_tmp=np.where(tmp[0][:]==1)\n",
    "    index=array_tmp[0][0] #implement a dict for the substitution\n",
    "    df_train.loc[i,'time_signature'] = dict_ts[index]\n",
    "    \n",
    "#Dealing with time_signature attribute missing values - test\n",
    "#Computing the array containing the probabilities of every outcome for time_signature\n",
    "outcomes_of_time_signature = len(df_test['time_signature'].value_counts())\n",
    "p_array=np.array(df_test['time_signature'].value_counts().sort_index(ascending=True)/(len(df_test)-df_test['time_signature'].isnull().sum()))\n",
    "#creating a dictionary containing the correspondance between value and sorted index\n",
    "dict_ts = {0: 0.0, 1: 1.0, 2: 3.0, 3 : 4.0, 4 : 5.0}\n",
    "list_of_nan_indexes_ts=df_test[df_test['time_signature'].isnull()].index.tolist()\n",
    "from scipy.stats import multinomial \n",
    "#please forgive the dunb programming here, no real deal of time, only ~3000 points to be evaluated\n",
    "for i in list_of_nan_indexes_ts:\n",
    "    tmp = multinomial.rvs(1, p_array, size=1, random_state=None)\n",
    "    array_tmp=np.where(tmp[0][:]==1)\n",
    "    index=array_tmp[0][0] #implement a dict for the substitution\n",
    "    df_test.loc[i,'time_signature'] = dict_ts[index]"
   ]
  },
  {
   "cell_type": "code",
   "execution_count": 7,
   "id": "accdcc2c",
   "metadata": {},
   "outputs": [
    {
     "data": {
      "text/plain": [
       "genre\n",
       "j-dance          750\n",
       "iranian          750\n",
       "brazil           750\n",
       "chicago-house    750\n",
       "forro            750\n",
       "idm              750\n",
       "indian           750\n",
       "study            750\n",
       "disney           750\n",
       "afrobeat         750\n",
       "mandopop         750\n",
       "techno           750\n",
       "sleep            750\n",
       "spanish          750\n",
       "j-idol           750\n",
       "industrial       750\n",
       "happy            750\n",
       "bluegrass        750\n",
       "black-metal      750\n",
       "breakbeat        750\n",
       "Name: count, dtype: int64"
      ]
     },
     "execution_count": 7,
     "metadata": {},
     "output_type": "execute_result"
    }
   ],
   "source": [
    "df_train['genre'].value_counts()"
   ]
  },
  {
   "cell_type": "code",
   "execution_count": 8,
   "id": "604f4d75",
   "metadata": {},
   "outputs": [
    {
     "data": {
      "text/plain": [
       "genre\n",
       "industrial       250\n",
       "breakbeat        250\n",
       "happy            250\n",
       "afrobeat         250\n",
       "study            250\n",
       "black-metal      250\n",
       "sleep            250\n",
       "bluegrass        250\n",
       "techno           250\n",
       "brazil           250\n",
       "j-dance          250\n",
       "chicago-house    250\n",
       "disney           250\n",
       "iranian          250\n",
       "mandopop         250\n",
       "idm              250\n",
       "spanish          250\n",
       "j-idol           250\n",
       "indian           250\n",
       "forro            250\n",
       "Name: count, dtype: int64"
      ]
     },
     "execution_count": 8,
     "metadata": {},
     "output_type": "execute_result"
    }
   ],
   "source": [
    "df_test['genre'].value_counts()"
   ]
  },
  {
   "cell_type": "markdown",
   "id": "613740a7",
   "metadata": {},
   "source": [
    "Pay attention, in train and test sets, genra does not have same order, it is necessary to use a dictionary map for BOTH. "
   ]
  },
  {
   "cell_type": "markdown",
   "id": "87b64ce5",
   "metadata": {},
   "source": [
    "### Outlier criteria\n",
    "For now, we do not consider any point as outlier because none of them miss the classification label and considering that this time one of our tasks is to distinguish between musical genra and not-musical genra. "
   ]
  },
  {
   "cell_type": "markdown",
   "id": "0b4dcfa2",
   "metadata": {},
   "source": [
    "### Eliminating redundant features"
   ]
  },
  {
   "cell_type": "code",
   "execution_count": 9,
   "id": "143aa013",
   "metadata": {},
   "outputs": [
    {
     "data": {
      "text/plain": [
       "name                      object\n",
       "duration_min             float64\n",
       "explicit                    bool\n",
       "popularity_percent       float64\n",
       "artists                   object\n",
       "album_name                object\n",
       "danceability             float64\n",
       "energy                   float64\n",
       "key                        int64\n",
       "loudness                 float64\n",
       "mode                     float64\n",
       "speechiness              float64\n",
       "acousticness             float64\n",
       "instrumentalness         float64\n",
       "liveness                 float64\n",
       "valence                  float64\n",
       "tempo                    float64\n",
       "features_duration_ms       int64\n",
       "time_signature           float64\n",
       "n_beats                  float64\n",
       "n_bars                   float64\n",
       "popularity_confidence    float64\n",
       "processing               float64\n",
       "genre                     object\n",
       "dtype: object"
      ]
     },
     "execution_count": 9,
     "metadata": {},
     "output_type": "execute_result"
    }
   ],
   "source": [
    "df_train.dtypes"
   ]
  },
  {
   "cell_type": "code",
   "execution_count": 10,
   "id": "3375cde4",
   "metadata": {},
   "outputs": [],
   "source": [
    "column2drop = ['features_duration_ms', 'popularity_confidence', 'processing', 'name', 'artists','album_name'] #cols that gives max complexity\n",
    "df_train.drop(column2drop, axis=1, inplace=True)\n",
    "df_test.drop(column2drop, axis=1, inplace=True)"
   ]
  },
  {
   "cell_type": "code",
   "execution_count": 137,
   "id": "456fddca",
   "metadata": {},
   "outputs": [],
   "source": [
    "#Saving a variable containing all non-classification attributes\n",
    "attributes = [col for col in df_train.columns if col != 'genre']"
   ]
  },
  {
   "cell_type": "markdown",
   "id": "eca02f0b",
   "metadata": {},
   "source": [
    "### Encoding `str` values - creating the various `genre` maps\n",
    "- first map: 20 classes, one for every genre;\n",
    "- second map: regrouping per macro genre with the following labels:  \n",
    "\n",
    "| Label | Macro genre | `genre` list |\n",
    "| ----------- | ----------- | -----------------------------------------------|\n",
    "| 0 | Electronic | `breakbeat`, `chicago house`, `techno`, `afrobeat`, `idm` |\n",
    "| 1 | Asian |`indian`|\n",
    "| 2 | Pop| `mandopop`,`j-idol`,`happy`,`disney`,`j-dance`|\n",
    "| 3 | Latin | `forro`,`brazil`,`spanish`|\n",
    "| 4 | Country | `bluegrass`|\n",
    "| 5 | Metal | `black metal`|\n",
    "| 6 | Iranian | `iranian`|\n",
    "| 7 | Others | `sleep`, `study`|"
   ]
  },
  {
   "cell_type": "code",
   "execution_count": 84,
   "id": "3cea28a8",
   "metadata": {},
   "outputs": [],
   "source": [
    "#Creating genre map I -> mapping every genre into an int value in order to have correlation values. \n",
    "genre_map={\"j-dance\":0,\"iranian\":1,\"brazil\":2,\"chicago-house\":3,\"forro\":4,\"idm\":5,\"indian\":6,\"study\":7,\"disney\":8,\"afrobeat\":9,\"mandopop\":10,\"techno\":11,\"sleep\":12,\"spanish\":13,\"j-idol\":14,\"industrial\":15,\"happy\":16,\"bluegrass\":17,\"black-metal\":18,\"breakbeat\":19}\n",
    "#Creating genre map II -> mapping in macro-categories as described above\n",
    "macrogenre_map={\"j-dance\":2,\"iranian\":6,\"brazil\":3,\"chicago-house\":0,\"forro\":3,\"idm\":0,\"indian\":1,\"study\":7,\"disney\":2,\"afrobeat\":0,\"mandopop\":2,\"techno\":0,\"sleep\":7,\"spanish\":3,\"j-idol\":2,\"industrial\":0,\"happy\":2,\"bluegrass\":4,\"black-metal\":5,\"breakbeat\":0}"
   ]
  },
  {
   "cell_type": "markdown",
   "id": "3c66e48b",
   "metadata": {},
   "source": [
    "NB: here _partitioning_ is not necessary because both train and test sets are already equally partitioned (so,holdout is not performed)."
   ]
  },
  {
   "cell_type": "code",
   "execution_count": 85,
   "id": "3fc96016",
   "metadata": {},
   "outputs": [
    {
     "data": {
      "text/html": [
       "<div>\n",
       "<style scoped>\n",
       "    .dataframe tbody tr th:only-of-type {\n",
       "        vertical-align: middle;\n",
       "    }\n",
       "\n",
       "    .dataframe tbody tr th {\n",
       "        vertical-align: top;\n",
       "    }\n",
       "\n",
       "    .dataframe thead th {\n",
       "        text-align: right;\n",
       "    }\n",
       "</style>\n",
       "<table border=\"1\" class=\"dataframe\">\n",
       "  <thead>\n",
       "    <tr style=\"text-align: right;\">\n",
       "      <th></th>\n",
       "      <th>duration_min</th>\n",
       "      <th>explicit</th>\n",
       "      <th>popularity_percent</th>\n",
       "      <th>danceability</th>\n",
       "      <th>energy</th>\n",
       "      <th>key</th>\n",
       "      <th>loudness</th>\n",
       "      <th>mode</th>\n",
       "      <th>speechiness</th>\n",
       "      <th>acousticness</th>\n",
       "      <th>instrumentalness</th>\n",
       "      <th>liveness</th>\n",
       "      <th>valence</th>\n",
       "      <th>tempo</th>\n",
       "      <th>time_signature</th>\n",
       "      <th>n_beats</th>\n",
       "      <th>n_bars</th>\n",
       "      <th>genre</th>\n",
       "    </tr>\n",
       "  </thead>\n",
       "  <tbody>\n",
       "    <tr>\n",
       "      <th>0</th>\n",
       "      <td>4.029333</td>\n",
       "      <td>0</td>\n",
       "      <td>0.46</td>\n",
       "      <td>0.690</td>\n",
       "      <td>0.513</td>\n",
       "      <td>5</td>\n",
       "      <td>-12.529</td>\n",
       "      <td>1.0</td>\n",
       "      <td>0.0975</td>\n",
       "      <td>0.302000</td>\n",
       "      <td>0.536000</td>\n",
       "      <td>0.2810</td>\n",
       "      <td>0.6350</td>\n",
       "      <td>142.221</td>\n",
       "      <td>4.0</td>\n",
       "      <td>567.0</td>\n",
       "      <td>141.0</td>\n",
       "      <td>2</td>\n",
       "    </tr>\n",
       "    <tr>\n",
       "      <th>1</th>\n",
       "      <td>7.400000</td>\n",
       "      <td>0</td>\n",
       "      <td>0.00</td>\n",
       "      <td>0.069</td>\n",
       "      <td>0.196</td>\n",
       "      <td>1</td>\n",
       "      <td>-24.801</td>\n",
       "      <td>0.0</td>\n",
       "      <td>0.0805</td>\n",
       "      <td>0.283000</td>\n",
       "      <td>0.934000</td>\n",
       "      <td>0.3600</td>\n",
       "      <td>0.0336</td>\n",
       "      <td>75.596</td>\n",
       "      <td>4.0</td>\n",
       "      <td>617.0</td>\n",
       "      <td>155.0</td>\n",
       "      <td>6</td>\n",
       "    </tr>\n",
       "    <tr>\n",
       "      <th>2</th>\n",
       "      <td>5.558433</td>\n",
       "      <td>0</td>\n",
       "      <td>0.03</td>\n",
       "      <td>0.363</td>\n",
       "      <td>0.854</td>\n",
       "      <td>2</td>\n",
       "      <td>-7.445</td>\n",
       "      <td>1.0</td>\n",
       "      <td>0.0397</td>\n",
       "      <td>0.000089</td>\n",
       "      <td>0.800000</td>\n",
       "      <td>0.2620</td>\n",
       "      <td>0.4890</td>\n",
       "      <td>116.628</td>\n",
       "      <td>4.0</td>\n",
       "      <td>652.0</td>\n",
       "      <td>162.0</td>\n",
       "      <td>5</td>\n",
       "    </tr>\n",
       "    <tr>\n",
       "      <th>3</th>\n",
       "      <td>4.496667</td>\n",
       "      <td>0</td>\n",
       "      <td>0.23</td>\n",
       "      <td>0.523</td>\n",
       "      <td>0.585</td>\n",
       "      <td>5</td>\n",
       "      <td>-5.607</td>\n",
       "      <td>1.0</td>\n",
       "      <td>0.0765</td>\n",
       "      <td>0.066400</td>\n",
       "      <td>0.001270</td>\n",
       "      <td>0.1170</td>\n",
       "      <td>0.3850</td>\n",
       "      <td>140.880</td>\n",
       "      <td>4.0</td>\n",
       "      <td>619.0</td>\n",
       "      <td>155.0</td>\n",
       "      <td>4</td>\n",
       "    </tr>\n",
       "    <tr>\n",
       "      <th>4</th>\n",
       "      <td>5.127517</td>\n",
       "      <td>0</td>\n",
       "      <td>0.25</td>\n",
       "      <td>0.643</td>\n",
       "      <td>0.687</td>\n",
       "      <td>7</td>\n",
       "      <td>-11.340</td>\n",
       "      <td>1.0</td>\n",
       "      <td>0.0539</td>\n",
       "      <td>0.000576</td>\n",
       "      <td>0.096900</td>\n",
       "      <td>0.2990</td>\n",
       "      <td>0.6370</td>\n",
       "      <td>143.956</td>\n",
       "      <td>4.0</td>\n",
       "      <td>733.0</td>\n",
       "      <td>183.0</td>\n",
       "      <td>2</td>\n",
       "    </tr>\n",
       "    <tr>\n",
       "      <th>...</th>\n",
       "      <td>...</td>\n",
       "      <td>...</td>\n",
       "      <td>...</td>\n",
       "      <td>...</td>\n",
       "      <td>...</td>\n",
       "      <td>...</td>\n",
       "      <td>...</td>\n",
       "      <td>...</td>\n",
       "      <td>...</td>\n",
       "      <td>...</td>\n",
       "      <td>...</td>\n",
       "      <td>...</td>\n",
       "      <td>...</td>\n",
       "      <td>...</td>\n",
       "      <td>...</td>\n",
       "      <td>...</td>\n",
       "      <td>...</td>\n",
       "      <td>...</td>\n",
       "    </tr>\n",
       "    <tr>\n",
       "      <th>14995</th>\n",
       "      <td>7.200433</td>\n",
       "      <td>0</td>\n",
       "      <td>0.00</td>\n",
       "      <td>0.554</td>\n",
       "      <td>0.657</td>\n",
       "      <td>1</td>\n",
       "      <td>-14.232</td>\n",
       "      <td>1.0</td>\n",
       "      <td>0.0558</td>\n",
       "      <td>0.016000</td>\n",
       "      <td>0.615000</td>\n",
       "      <td>0.1320</td>\n",
       "      <td>0.0335</td>\n",
       "      <td>117.319</td>\n",
       "      <td>4.0</td>\n",
       "      <td>837.0</td>\n",
       "      <td>212.0</td>\n",
       "      <td>0</td>\n",
       "    </tr>\n",
       "    <tr>\n",
       "      <th>14996</th>\n",
       "      <td>3.045767</td>\n",
       "      <td>0</td>\n",
       "      <td>0.44</td>\n",
       "      <td>0.103</td>\n",
       "      <td>0.860</td>\n",
       "      <td>1</td>\n",
       "      <td>-19.627</td>\n",
       "      <td>1.0</td>\n",
       "      <td>0.0595</td>\n",
       "      <td>0.548000</td>\n",
       "      <td>0.940000</td>\n",
       "      <td>0.1230</td>\n",
       "      <td>0.0016</td>\n",
       "      <td>92.323</td>\n",
       "      <td>3.0</td>\n",
       "      <td>277.0</td>\n",
       "      <td>92.0</td>\n",
       "      <td>7</td>\n",
       "    </tr>\n",
       "    <tr>\n",
       "      <th>14997</th>\n",
       "      <td>6.668183</td>\n",
       "      <td>0</td>\n",
       "      <td>0.43</td>\n",
       "      <td>0.799</td>\n",
       "      <td>0.535</td>\n",
       "      <td>1</td>\n",
       "      <td>-9.103</td>\n",
       "      <td>1.0</td>\n",
       "      <td>0.0594</td>\n",
       "      <td>0.001830</td>\n",
       "      <td>0.857000</td>\n",
       "      <td>0.0713</td>\n",
       "      <td>0.0708</td>\n",
       "      <td>126.000</td>\n",
       "      <td>4.0</td>\n",
       "      <td>837.0</td>\n",
       "      <td>209.0</td>\n",
       "      <td>0</td>\n",
       "    </tr>\n",
       "    <tr>\n",
       "      <th>14998</th>\n",
       "      <td>3.287500</td>\n",
       "      <td>0</td>\n",
       "      <td>0.37</td>\n",
       "      <td>0.511</td>\n",
       "      <td>0.970</td>\n",
       "      <td>5</td>\n",
       "      <td>-2.299</td>\n",
       "      <td>1.0</td>\n",
       "      <td>0.0531</td>\n",
       "      <td>0.000337</td>\n",
       "      <td>0.000014</td>\n",
       "      <td>0.4020</td>\n",
       "      <td>0.2700</td>\n",
       "      <td>160.044</td>\n",
       "      <td>4.0</td>\n",
       "      <td>513.0</td>\n",
       "      <td>130.0</td>\n",
       "      <td>0</td>\n",
       "    </tr>\n",
       "    <tr>\n",
       "      <th>14999</th>\n",
       "      <td>3.306817</td>\n",
       "      <td>0</td>\n",
       "      <td>0.36</td>\n",
       "      <td>0.678</td>\n",
       "      <td>0.518</td>\n",
       "      <td>6</td>\n",
       "      <td>-7.790</td>\n",
       "      <td>1.0</td>\n",
       "      <td>0.0352</td>\n",
       "      <td>0.463000</td>\n",
       "      <td>0.000000</td>\n",
       "      <td>0.0880</td>\n",
       "      <td>0.7840</td>\n",
       "      <td>88.003</td>\n",
       "      <td>4.0</td>\n",
       "      <td>286.0</td>\n",
       "      <td>72.0</td>\n",
       "      <td>1</td>\n",
       "    </tr>\n",
       "  </tbody>\n",
       "</table>\n",
       "<p>15000 rows × 18 columns</p>\n",
       "</div>"
      ],
      "text/plain": [
       "       duration_min  explicit  popularity_percent  danceability  energy  key  \\\n",
       "0          4.029333         0                0.46         0.690   0.513    5   \n",
       "1          7.400000         0                0.00         0.069   0.196    1   \n",
       "2          5.558433         0                0.03         0.363   0.854    2   \n",
       "3          4.496667         0                0.23         0.523   0.585    5   \n",
       "4          5.127517         0                0.25         0.643   0.687    7   \n",
       "...             ...       ...                 ...           ...     ...  ...   \n",
       "14995      7.200433         0                0.00         0.554   0.657    1   \n",
       "14996      3.045767         0                0.44         0.103   0.860    1   \n",
       "14997      6.668183         0                0.43         0.799   0.535    1   \n",
       "14998      3.287500         0                0.37         0.511   0.970    5   \n",
       "14999      3.306817         0                0.36         0.678   0.518    6   \n",
       "\n",
       "       loudness  mode  speechiness  acousticness  instrumentalness  liveness  \\\n",
       "0       -12.529   1.0       0.0975      0.302000          0.536000    0.2810   \n",
       "1       -24.801   0.0       0.0805      0.283000          0.934000    0.3600   \n",
       "2        -7.445   1.0       0.0397      0.000089          0.800000    0.2620   \n",
       "3        -5.607   1.0       0.0765      0.066400          0.001270    0.1170   \n",
       "4       -11.340   1.0       0.0539      0.000576          0.096900    0.2990   \n",
       "...         ...   ...          ...           ...               ...       ...   \n",
       "14995   -14.232   1.0       0.0558      0.016000          0.615000    0.1320   \n",
       "14996   -19.627   1.0       0.0595      0.548000          0.940000    0.1230   \n",
       "14997    -9.103   1.0       0.0594      0.001830          0.857000    0.0713   \n",
       "14998    -2.299   1.0       0.0531      0.000337          0.000014    0.4020   \n",
       "14999    -7.790   1.0       0.0352      0.463000          0.000000    0.0880   \n",
       "\n",
       "       valence    tempo  time_signature  n_beats  n_bars  genre  \n",
       "0       0.6350  142.221             4.0    567.0   141.0      2  \n",
       "1       0.0336   75.596             4.0    617.0   155.0      6  \n",
       "2       0.4890  116.628             4.0    652.0   162.0      5  \n",
       "3       0.3850  140.880             4.0    619.0   155.0      4  \n",
       "4       0.6370  143.956             4.0    733.0   183.0      2  \n",
       "...        ...      ...             ...      ...     ...    ...  \n",
       "14995   0.0335  117.319             4.0    837.0   212.0      0  \n",
       "14996   0.0016   92.323             3.0    277.0    92.0      7  \n",
       "14997   0.0708  126.000             4.0    837.0   209.0      0  \n",
       "14998   0.2700  160.044             4.0    513.0   130.0      0  \n",
       "14999   0.7840   88.003             4.0    286.0    72.0      1  \n",
       "\n",
       "[15000 rows x 18 columns]"
      ]
     },
     "execution_count": 85,
     "metadata": {},
     "output_type": "execute_result"
    }
   ],
   "source": [
    "df_train.replace({'genre':macrogenre_map})"
   ]
  },
  {
   "cell_type": "markdown",
   "id": "bdcaa12b",
   "metadata": {},
   "source": [
    "### Encoding the bool attribute `explicit`"
   ]
  },
  {
   "cell_type": "code",
   "execution_count": 15,
   "id": "f7011cce",
   "metadata": {},
   "outputs": [],
   "source": [
    "from sklearn.preprocessing import LabelEncoder"
   ]
  },
  {
   "cell_type": "code",
   "execution_count": 138,
   "id": "bfed48ac",
   "metadata": {},
   "outputs": [],
   "source": [
    "#just a trial, encoding the bool attribute `explicit`\n",
    "# label encoding explicit feature\n",
    "le = LabelEncoder()\n",
    "df_train['explicit'] = le.fit_transform(df_train['explicit'])\n",
    "df_test['explicit'] = le.fit_transform(df_test['explicit'])"
   ]
  },
  {
   "cell_type": "code",
   "execution_count": 152,
   "id": "8d167da1",
   "metadata": {},
   "outputs": [],
   "source": [
    "y_train = df_train.replace({'genre':macrogenre_map})['genre']\n",
    "y_test = df_test.replace({'genre':macrogenre_map})['genre']\n",
    "\n",
    "X_train = np.array(df_train.replace({'genre':macrogenre_map})[attributes])\n",
    "X_test = np.array(df_test.replace({'genre':macrogenre_map})[attributes])"
   ]
  },
  {
   "cell_type": "code",
   "execution_count": 153,
   "id": "7c883148",
   "metadata": {},
   "outputs": [
    {
     "data": {
      "text/plain": [
       "array([[4.02933333e+00, 0.00000000e+00, 4.60000000e-01, ...,\n",
       "        4.00000000e+00, 5.67000000e+02, 1.41000000e+02],\n",
       "       [7.40000000e+00, 0.00000000e+00, 0.00000000e+00, ...,\n",
       "        4.00000000e+00, 6.17000000e+02, 1.55000000e+02],\n",
       "       [5.55843333e+00, 0.00000000e+00, 3.00000000e-02, ...,\n",
       "        4.00000000e+00, 6.52000000e+02, 1.62000000e+02],\n",
       "       ...,\n",
       "       [6.66818333e+00, 0.00000000e+00, 4.30000000e-01, ...,\n",
       "        4.00000000e+00, 8.37000000e+02, 2.09000000e+02],\n",
       "       [3.28750000e+00, 0.00000000e+00, 3.70000000e-01, ...,\n",
       "        4.00000000e+00, 5.13000000e+02, 1.30000000e+02],\n",
       "       [3.30681667e+00, 0.00000000e+00, 3.60000000e-01, ...,\n",
       "        4.00000000e+00, 2.86000000e+02, 7.20000000e+01]])"
      ]
     },
     "execution_count": 153,
     "metadata": {},
     "output_type": "execute_result"
    }
   ],
   "source": [
    "X_train"
   ]
  },
  {
   "cell_type": "code",
   "execution_count": 154,
   "id": "9759393c",
   "metadata": {},
   "outputs": [
    {
     "name": "stdout",
     "output_type": "stream",
     "text": [
      "0        2\n",
      "1        6\n",
      "2        5\n",
      "3        4\n",
      "4        2\n",
      "        ..\n",
      "14995    0\n",
      "14996    7\n",
      "14997    0\n",
      "14998    0\n",
      "14999    1\n",
      "Name: genre, Length: 15000, dtype: int64\n"
     ]
    }
   ],
   "source": [
    "print(y_train)"
   ]
  },
  {
   "cell_type": "code",
   "execution_count": 155,
   "id": "94a963e7",
   "metadata": {},
   "outputs": [
    {
     "name": "stdout",
     "output_type": "stream",
     "text": [
      "[[4.02933333e+00 0.00000000e+00 4.60000000e-01 ... 4.00000000e+00\n",
      "  5.67000000e+02 1.41000000e+02]\n",
      " [7.40000000e+00 0.00000000e+00 0.00000000e+00 ... 4.00000000e+00\n",
      "  6.17000000e+02 1.55000000e+02]\n",
      " [5.55843333e+00 0.00000000e+00 3.00000000e-02 ... 4.00000000e+00\n",
      "  6.52000000e+02 1.62000000e+02]\n",
      " ...\n",
      " [6.66818333e+00 0.00000000e+00 4.30000000e-01 ... 4.00000000e+00\n",
      "  8.37000000e+02 2.09000000e+02]\n",
      " [3.28750000e+00 0.00000000e+00 3.70000000e-01 ... 4.00000000e+00\n",
      "  5.13000000e+02 1.30000000e+02]\n",
      " [3.30681667e+00 0.00000000e+00 3.60000000e-01 ... 4.00000000e+00\n",
      "  2.86000000e+02 7.20000000e+01]]\n"
     ]
    }
   ],
   "source": [
    "print(X_train)"
   ]
  },
  {
   "cell_type": "markdown",
   "id": "223334fe",
   "metadata": {},
   "source": [
    "# Decision tree"
   ]
  },
  {
   "cell_type": "code",
   "execution_count": 156,
   "id": "f1989995",
   "metadata": {},
   "outputs": [],
   "source": [
    "from sklearn.tree import DecisionTreeClassifier, plot_tree\n",
    "\n",
    "#class sklearn.tree.DecisionTreeClassifier(*, criterion='gini', splitter='best', \n",
    "#max_depth=None, min_samples_split=2, min_samples_leaf=1, min_weight_fraction_leaf=0.0, \n",
    "#max_features=None, random_state=None, max_leaf_nodes=None, min_impurity_decrease=0.0, \n",
    "#class_weight=None, ccp_alpha=0.0)[source]"
   ]
  },
  {
   "cell_type": "markdown",
   "id": "363c7fe4",
   "metadata": {},
   "source": [
    "For now, we work only on _training test set_, in order to tune properly the parameters of the tree.  \n",
    "After that, the test set will be used for computing the performance metrics. "
   ]
  },
  {
   "cell_type": "code",
   "execution_count": 157,
   "id": "27bc8c52",
   "metadata": {},
   "outputs": [],
   "source": [
    "# Training a not-tuned tree, computing its performance metrics for doing a post-tuning comparison\n",
    "dt = DecisionTreeClassifier(min_samples_split=0.01, max_depth=5)"
   ]
  },
  {
   "cell_type": "code",
   "execution_count": 158,
   "id": "bafdf039",
   "metadata": {},
   "outputs": [
    {
     "name": "stdout",
     "output_type": "stream",
     "text": [
      "CPU times: user 105 ms, sys: 2.08 ms, total: 107 ms\n",
      "Wall time: 105 ms\n"
     ]
    },
    {
     "data": {
      "text/html": [
       "<style>#sk-container-id-14 {color: black;}#sk-container-id-14 pre{padding: 0;}#sk-container-id-14 div.sk-toggleable {background-color: white;}#sk-container-id-14 label.sk-toggleable__label {cursor: pointer;display: block;width: 100%;margin-bottom: 0;padding: 0.3em;box-sizing: border-box;text-align: center;}#sk-container-id-14 label.sk-toggleable__label-arrow:before {content: \"▸\";float: left;margin-right: 0.25em;color: #696969;}#sk-container-id-14 label.sk-toggleable__label-arrow:hover:before {color: black;}#sk-container-id-14 div.sk-estimator:hover label.sk-toggleable__label-arrow:before {color: black;}#sk-container-id-14 div.sk-toggleable__content {max-height: 0;max-width: 0;overflow: hidden;text-align: left;background-color: #f0f8ff;}#sk-container-id-14 div.sk-toggleable__content pre {margin: 0.2em;color: black;border-radius: 0.25em;background-color: #f0f8ff;}#sk-container-id-14 input.sk-toggleable__control:checked~div.sk-toggleable__content {max-height: 200px;max-width: 100%;overflow: auto;}#sk-container-id-14 input.sk-toggleable__control:checked~label.sk-toggleable__label-arrow:before {content: \"▾\";}#sk-container-id-14 div.sk-estimator input.sk-toggleable__control:checked~label.sk-toggleable__label {background-color: #d4ebff;}#sk-container-id-14 div.sk-label input.sk-toggleable__control:checked~label.sk-toggleable__label {background-color: #d4ebff;}#sk-container-id-14 input.sk-hidden--visually {border: 0;clip: rect(1px 1px 1px 1px);clip: rect(1px, 1px, 1px, 1px);height: 1px;margin: -1px;overflow: hidden;padding: 0;position: absolute;width: 1px;}#sk-container-id-14 div.sk-estimator {font-family: monospace;background-color: #f0f8ff;border: 1px dotted black;border-radius: 0.25em;box-sizing: border-box;margin-bottom: 0.5em;}#sk-container-id-14 div.sk-estimator:hover {background-color: #d4ebff;}#sk-container-id-14 div.sk-parallel-item::after {content: \"\";width: 100%;border-bottom: 1px solid gray;flex-grow: 1;}#sk-container-id-14 div.sk-label:hover label.sk-toggleable__label {background-color: #d4ebff;}#sk-container-id-14 div.sk-serial::before {content: \"\";position: absolute;border-left: 1px solid gray;box-sizing: border-box;top: 0;bottom: 0;left: 50%;z-index: 0;}#sk-container-id-14 div.sk-serial {display: flex;flex-direction: column;align-items: center;background-color: white;padding-right: 0.2em;padding-left: 0.2em;position: relative;}#sk-container-id-14 div.sk-item {position: relative;z-index: 1;}#sk-container-id-14 div.sk-parallel {display: flex;align-items: stretch;justify-content: center;background-color: white;position: relative;}#sk-container-id-14 div.sk-item::before, #sk-container-id-14 div.sk-parallel-item::before {content: \"\";position: absolute;border-left: 1px solid gray;box-sizing: border-box;top: 0;bottom: 0;left: 50%;z-index: -1;}#sk-container-id-14 div.sk-parallel-item {display: flex;flex-direction: column;z-index: 1;position: relative;background-color: white;}#sk-container-id-14 div.sk-parallel-item:first-child::after {align-self: flex-end;width: 50%;}#sk-container-id-14 div.sk-parallel-item:last-child::after {align-self: flex-start;width: 50%;}#sk-container-id-14 div.sk-parallel-item:only-child::after {width: 0;}#sk-container-id-14 div.sk-dashed-wrapped {border: 1px dashed gray;margin: 0 0.4em 0.5em 0.4em;box-sizing: border-box;padding-bottom: 0.4em;background-color: white;}#sk-container-id-14 div.sk-label label {font-family: monospace;font-weight: bold;display: inline-block;line-height: 1.2em;}#sk-container-id-14 div.sk-label-container {text-align: center;}#sk-container-id-14 div.sk-container {/* jupyter's `normalize.less` sets `[hidden] { display: none; }` but bootstrap.min.css set `[hidden] { display: none !important; }` so we also need the `!important` here to be able to override the default hidden behavior on the sphinx rendered scikit-learn.org. See: https://github.com/scikit-learn/scikit-learn/issues/21755 */display: inline-block !important;position: relative;}#sk-container-id-14 div.sk-text-repr-fallback {display: none;}</style><div id=\"sk-container-id-14\" class=\"sk-top-container\"><div class=\"sk-text-repr-fallback\"><pre>DecisionTreeClassifier(max_depth=5, min_samples_split=0.01)</pre><b>In a Jupyter environment, please rerun this cell to show the HTML representation or trust the notebook. <br />On GitHub, the HTML representation is unable to render, please try loading this page with nbviewer.org.</b></div><div class=\"sk-container\" hidden><div class=\"sk-item\"><div class=\"sk-estimator sk-toggleable\"><input class=\"sk-toggleable__control sk-hidden--visually\" id=\"sk-estimator-id-14\" type=\"checkbox\" checked><label for=\"sk-estimator-id-14\" class=\"sk-toggleable__label sk-toggleable__label-arrow\">DecisionTreeClassifier</label><div class=\"sk-toggleable__content\"><pre>DecisionTreeClassifier(max_depth=5, min_samples_split=0.01)</pre></div></div></div></div></div>"
      ],
      "text/plain": [
       "DecisionTreeClassifier(max_depth=5, min_samples_split=0.01)"
      ]
     },
     "execution_count": 158,
     "metadata": {},
     "output_type": "execute_result"
    }
   ],
   "source": [
    "%%time\n",
    "dt.fit(X_train, y_train)"
   ]
  },
  {
   "cell_type": "code",
   "execution_count": 159,
   "id": "82eef222",
   "metadata": {},
   "outputs": [],
   "source": [
    "y_train_pred = dt.predict(X_train)"
   ]
  },
  {
   "cell_type": "code",
   "execution_count": 160,
   "id": "36f42b2e",
   "metadata": {},
   "outputs": [
    {
     "data": {
      "text/plain": [
       "0        2\n",
       "1        6\n",
       "2        5\n",
       "3        4\n",
       "4        2\n",
       "        ..\n",
       "14995    0\n",
       "14996    7\n",
       "14997    0\n",
       "14998    0\n",
       "14999    1\n",
       "Name: genre, Length: 15000, dtype: int64"
      ]
     },
     "execution_count": 160,
     "metadata": {},
     "output_type": "execute_result"
    }
   ],
   "source": [
    "y_train\n"
   ]
  },
  {
   "cell_type": "code",
   "execution_count": 161,
   "id": "f73ecd69",
   "metadata": {},
   "outputs": [
    {
     "data": {
      "text/plain": [
       "array([0, 6, 6, ..., 0, 0, 2])"
      ]
     },
     "execution_count": 161,
     "metadata": {},
     "output_type": "execute_result"
    }
   ],
   "source": [
    "y_train_pred"
   ]
  },
  {
   "cell_type": "code",
   "execution_count": 162,
   "id": "389090b9",
   "metadata": {},
   "outputs": [
    {
     "name": "stdout",
     "output_type": "stream",
     "text": [
      "Train Accuracy 0.5692666666666667\n",
      "Train F1-score [0.65725683 0.         0.51113413 0.56637168 0.22502629 0.57833333\n",
      " 0.62329213 0.66154384]\n"
     ]
    }
   ],
   "source": [
    "print('Train Accuracy %s' % accuracy_score(y_train, y_train_pred))\n",
    "print('Train F1-score %s' % f1_score(y_train, y_train_pred, average=None))"
   ]
  },
  {
   "cell_type": "code",
   "execution_count": 163,
   "id": "68f61ec2",
   "metadata": {},
   "outputs": [
    {
     "name": "stdout",
     "output_type": "stream",
     "text": [
      "              precision    recall  f1-score   support\n",
      "\n",
      "           0       0.61      0.71      0.66      4500\n",
      "           1       0.00      0.00      0.00       750\n",
      "           2       0.50      0.53      0.51      3750\n",
      "           3       0.50      0.65      0.57      2250\n",
      "           4       0.53      0.14      0.23       750\n",
      "           5       0.77      0.46      0.58       750\n",
      "           6       0.61      0.64      0.62       750\n",
      "           7       0.69      0.63      0.66      1500\n",
      "\n",
      "    accuracy                           0.57     15000\n",
      "   macro avg       0.53      0.47      0.48     15000\n",
      "weighted avg       0.55      0.57      0.55     15000\n",
      "\n"
     ]
    },
    {
     "name": "stderr",
     "output_type": "stream",
     "text": [
      "/opt/homebrew/lib/python3.11/site-packages/sklearn/metrics/_classification.py:1471: UndefinedMetricWarning: Precision and F-score are ill-defined and being set to 0.0 in labels with no predicted samples. Use `zero_division` parameter to control this behavior.\n",
      "  _warn_prf(average, modifier, msg_start, len(result))\n",
      "/opt/homebrew/lib/python3.11/site-packages/sklearn/metrics/_classification.py:1471: UndefinedMetricWarning: Precision and F-score are ill-defined and being set to 0.0 in labels with no predicted samples. Use `zero_division` parameter to control this behavior.\n",
      "  _warn_prf(average, modifier, msg_start, len(result))\n",
      "/opt/homebrew/lib/python3.11/site-packages/sklearn/metrics/_classification.py:1471: UndefinedMetricWarning: Precision and F-score are ill-defined and being set to 0.0 in labels with no predicted samples. Use `zero_division` parameter to control this behavior.\n",
      "  _warn_prf(average, modifier, msg_start, len(result))\n"
     ]
    }
   ],
   "source": [
    "print(classification_report(y_train, y_train_pred))"
   ]
  },
  {
   "cell_type": "markdown",
   "id": "ff91dcd8",
   "metadata": {},
   "source": [
    "Okay, something seems wrong... let's keep going and try to understand what happened. "
   ]
  },
  {
   "cell_type": "code",
   "execution_count": 164,
   "id": "402f1753",
   "metadata": {},
   "outputs": [
    {
     "name": "stdout",
     "output_type": "stream",
     "text": [
      "instrumentalness 0.2768028152413082\n",
      "popularity_percent 0.20673859322618368\n",
      "n_beats 0.14609549564256752\n",
      "danceability 0.1432122631418328\n",
      "acousticness 0.10442624876136751\n",
      "tempo 0.04486615315295954\n",
      "duration_min 0.028891229727815857\n",
      "energy 0.024544101289635405\n",
      "speechiness 0.008725133954201695\n",
      "loudness 0.005843996972926972\n",
      "liveness 0.005393242998190998\n",
      "valence 0.004460725891009689\n",
      "explicit 0.0\n",
      "key 0.0\n",
      "mode 0.0\n",
      "time_signature 0.0\n",
      "n_bars 0.0\n"
     ]
    }
   ],
   "source": [
    "zipped = zip(attributes, dt.feature_importances_)\n",
    "zipped = sorted(zipped, key=lambda x: x[1], reverse=True)\n",
    "for col, imp in zipped:\n",
    "    print(col, imp)"
   ]
  },
  {
   "cell_type": "markdown",
   "id": "1bed9a1b",
   "metadata": {},
   "source": [
    "For some reason, the tree is not computed. Maybe too many categories? "
   ]
  },
  {
   "cell_type": "code",
   "execution_count": 125,
   "id": "e4c568d0",
   "metadata": {},
   "outputs": [
    {
     "ename": "IndexError",
     "evalue": "list index out of range",
     "output_type": "error",
     "traceback": [
      "\u001b[0;31m---------------------------------------------------------------------------\u001b[0m",
      "\u001b[0;31mIndexError\u001b[0m                                Traceback (most recent call last)",
      "Cell \u001b[0;32mIn[125], line 2\u001b[0m\n\u001b[1;32m      1\u001b[0m plt\u001b[38;5;241m.\u001b[39mfigure(figsize\u001b[38;5;241m=\u001b[39m(\u001b[38;5;241m20\u001b[39m, \u001b[38;5;241m4\u001b[39m), dpi\u001b[38;5;241m=\u001b[39m\u001b[38;5;241m300\u001b[39m)\n\u001b[0;32m----> 2\u001b[0m \u001b[43mplot_tree\u001b[49m\u001b[43m(\u001b[49m\u001b[43mdt\u001b[49m\u001b[43m,\u001b[49m\u001b[43m \u001b[49m\u001b[43mfeature_names\u001b[49m\u001b[38;5;241;43m=\u001b[39;49m\u001b[43mattributes\u001b[49m\u001b[43m,\u001b[49m\u001b[43m \u001b[49m\u001b[43mfilled\u001b[49m\u001b[38;5;241;43m=\u001b[39;49m\u001b[38;5;28;43;01mTrue\u001b[39;49;00m\u001b[43m)\u001b[49m\n\u001b[1;32m      3\u001b[0m plt\u001b[38;5;241m.\u001b[39mshow()\n",
      "File \u001b[0;32m/opt/homebrew/lib/python3.11/site-packages/sklearn/utils/_param_validation.py:214\u001b[0m, in \u001b[0;36mvalidate_params.<locals>.decorator.<locals>.wrapper\u001b[0;34m(*args, **kwargs)\u001b[0m\n\u001b[1;32m    208\u001b[0m \u001b[38;5;28;01mtry\u001b[39;00m:\n\u001b[1;32m    209\u001b[0m     \u001b[38;5;28;01mwith\u001b[39;00m config_context(\n\u001b[1;32m    210\u001b[0m         skip_parameter_validation\u001b[38;5;241m=\u001b[39m(\n\u001b[1;32m    211\u001b[0m             prefer_skip_nested_validation \u001b[38;5;129;01mor\u001b[39;00m global_skip_validation\n\u001b[1;32m    212\u001b[0m         )\n\u001b[1;32m    213\u001b[0m     ):\n\u001b[0;32m--> 214\u001b[0m         \u001b[38;5;28;01mreturn\u001b[39;00m \u001b[43mfunc\u001b[49m\u001b[43m(\u001b[49m\u001b[38;5;241;43m*\u001b[39;49m\u001b[43margs\u001b[49m\u001b[43m,\u001b[49m\u001b[43m \u001b[49m\u001b[38;5;241;43m*\u001b[39;49m\u001b[38;5;241;43m*\u001b[39;49m\u001b[43mkwargs\u001b[49m\u001b[43m)\u001b[49m\n\u001b[1;32m    215\u001b[0m \u001b[38;5;28;01mexcept\u001b[39;00m InvalidParameterError \u001b[38;5;28;01mas\u001b[39;00m e:\n\u001b[1;32m    216\u001b[0m     \u001b[38;5;66;03m# When the function is just a wrapper around an estimator, we allow\u001b[39;00m\n\u001b[1;32m    217\u001b[0m     \u001b[38;5;66;03m# the function to delegate validation to the estimator, but we replace\u001b[39;00m\n\u001b[1;32m    218\u001b[0m     \u001b[38;5;66;03m# the name of the estimator by the name of the function in the error\u001b[39;00m\n\u001b[1;32m    219\u001b[0m     \u001b[38;5;66;03m# message to avoid confusion.\u001b[39;00m\n\u001b[1;32m    220\u001b[0m     msg \u001b[38;5;241m=\u001b[39m re\u001b[38;5;241m.\u001b[39msub(\n\u001b[1;32m    221\u001b[0m         \u001b[38;5;124mr\u001b[39m\u001b[38;5;124m\"\u001b[39m\u001b[38;5;124mparameter of \u001b[39m\u001b[38;5;124m\\\u001b[39m\u001b[38;5;124mw+ must be\u001b[39m\u001b[38;5;124m\"\u001b[39m,\n\u001b[1;32m    222\u001b[0m         \u001b[38;5;124mf\u001b[39m\u001b[38;5;124m\"\u001b[39m\u001b[38;5;124mparameter of \u001b[39m\u001b[38;5;132;01m{\u001b[39;00mfunc\u001b[38;5;241m.\u001b[39m\u001b[38;5;18m__qualname__\u001b[39m\u001b[38;5;132;01m}\u001b[39;00m\u001b[38;5;124m must be\u001b[39m\u001b[38;5;124m\"\u001b[39m,\n\u001b[1;32m    223\u001b[0m         \u001b[38;5;28mstr\u001b[39m(e),\n\u001b[1;32m    224\u001b[0m     )\n",
      "File \u001b[0;32m/opt/homebrew/lib/python3.11/site-packages/sklearn/tree/_export.py:211\u001b[0m, in \u001b[0;36mplot_tree\u001b[0;34m(decision_tree, max_depth, feature_names, class_names, label, filled, impurity, node_ids, proportion, rounded, precision, ax, fontsize)\u001b[0m\n\u001b[1;32m    196\u001b[0m check_is_fitted(decision_tree)\n\u001b[1;32m    198\u001b[0m exporter \u001b[38;5;241m=\u001b[39m _MPLTreeExporter(\n\u001b[1;32m    199\u001b[0m     max_depth\u001b[38;5;241m=\u001b[39mmax_depth,\n\u001b[1;32m    200\u001b[0m     feature_names\u001b[38;5;241m=\u001b[39mfeature_names,\n\u001b[0;32m   (...)\u001b[0m\n\u001b[1;32m    209\u001b[0m     fontsize\u001b[38;5;241m=\u001b[39mfontsize,\n\u001b[1;32m    210\u001b[0m )\n\u001b[0;32m--> 211\u001b[0m \u001b[38;5;28;01mreturn\u001b[39;00m \u001b[43mexporter\u001b[49m\u001b[38;5;241;43m.\u001b[39;49m\u001b[43mexport\u001b[49m\u001b[43m(\u001b[49m\u001b[43mdecision_tree\u001b[49m\u001b[43m,\u001b[49m\u001b[43m \u001b[49m\u001b[43max\u001b[49m\u001b[38;5;241;43m=\u001b[39;49m\u001b[43max\u001b[49m\u001b[43m)\u001b[49m\n",
      "File \u001b[0;32m/opt/homebrew/lib/python3.11/site-packages/sklearn/tree/_export.py:643\u001b[0m, in \u001b[0;36m_MPLTreeExporter.export\u001b[0;34m(self, decision_tree, ax)\u001b[0m\n\u001b[1;32m    641\u001b[0m ax\u001b[38;5;241m.\u001b[39mclear()\n\u001b[1;32m    642\u001b[0m ax\u001b[38;5;241m.\u001b[39mset_axis_off()\n\u001b[0;32m--> 643\u001b[0m my_tree \u001b[38;5;241m=\u001b[39m \u001b[38;5;28;43mself\u001b[39;49m\u001b[38;5;241;43m.\u001b[39;49m\u001b[43m_make_tree\u001b[49m\u001b[43m(\u001b[49m\u001b[38;5;241;43m0\u001b[39;49m\u001b[43m,\u001b[49m\u001b[43m \u001b[49m\u001b[43mdecision_tree\u001b[49m\u001b[38;5;241;43m.\u001b[39;49m\u001b[43mtree_\u001b[49m\u001b[43m,\u001b[49m\u001b[43m \u001b[49m\u001b[43mdecision_tree\u001b[49m\u001b[38;5;241;43m.\u001b[39;49m\u001b[43mcriterion\u001b[49m\u001b[43m)\u001b[49m\n\u001b[1;32m    644\u001b[0m draw_tree \u001b[38;5;241m=\u001b[39m buchheim(my_tree)\n\u001b[1;32m    646\u001b[0m \u001b[38;5;66;03m# important to make sure we're still\u001b[39;00m\n\u001b[1;32m    647\u001b[0m \u001b[38;5;66;03m# inside the axis after drawing the box\u001b[39;00m\n\u001b[1;32m    648\u001b[0m \u001b[38;5;66;03m# this makes sense because the width of a box\u001b[39;00m\n\u001b[1;32m    649\u001b[0m \u001b[38;5;66;03m# is about the same as the distance between boxes\u001b[39;00m\n",
      "File \u001b[0;32m/opt/homebrew/lib/python3.11/site-packages/sklearn/tree/_export.py:619\u001b[0m, in \u001b[0;36m_MPLTreeExporter._make_tree\u001b[0;34m(self, node_id, et, criterion, depth)\u001b[0m\n\u001b[1;32m    616\u001b[0m \u001b[38;5;28;01mdef\u001b[39;00m \u001b[38;5;21m_make_tree\u001b[39m(\u001b[38;5;28mself\u001b[39m, node_id, et, criterion, depth\u001b[38;5;241m=\u001b[39m\u001b[38;5;241m0\u001b[39m):\n\u001b[1;32m    617\u001b[0m     \u001b[38;5;66;03m# traverses _tree.Tree recursively, builds intermediate\u001b[39;00m\n\u001b[1;32m    618\u001b[0m     \u001b[38;5;66;03m# \"_reingold_tilford.Tree\" object\u001b[39;00m\n\u001b[0;32m--> 619\u001b[0m     name \u001b[38;5;241m=\u001b[39m \u001b[38;5;28;43mself\u001b[39;49m\u001b[38;5;241;43m.\u001b[39;49m\u001b[43mnode_to_str\u001b[49m\u001b[43m(\u001b[49m\u001b[43met\u001b[49m\u001b[43m,\u001b[49m\u001b[43m \u001b[49m\u001b[43mnode_id\u001b[49m\u001b[43m,\u001b[49m\u001b[43m \u001b[49m\u001b[43mcriterion\u001b[49m\u001b[38;5;241;43m=\u001b[39;49m\u001b[43mcriterion\u001b[49m\u001b[43m)\u001b[49m\n\u001b[1;32m    620\u001b[0m     \u001b[38;5;28;01mif\u001b[39;00m et\u001b[38;5;241m.\u001b[39mchildren_left[node_id] \u001b[38;5;241m!=\u001b[39m _tree\u001b[38;5;241m.\u001b[39mTREE_LEAF \u001b[38;5;129;01mand\u001b[39;00m (\n\u001b[1;32m    621\u001b[0m         \u001b[38;5;28mself\u001b[39m\u001b[38;5;241m.\u001b[39mmax_depth \u001b[38;5;129;01mis\u001b[39;00m \u001b[38;5;28;01mNone\u001b[39;00m \u001b[38;5;129;01mor\u001b[39;00m depth \u001b[38;5;241m<\u001b[39m\u001b[38;5;241m=\u001b[39m \u001b[38;5;28mself\u001b[39m\u001b[38;5;241m.\u001b[39mmax_depth\n\u001b[1;32m    622\u001b[0m     ):\n\u001b[1;32m    623\u001b[0m         children \u001b[38;5;241m=\u001b[39m [\n\u001b[1;32m    624\u001b[0m             \u001b[38;5;28mself\u001b[39m\u001b[38;5;241m.\u001b[39m_make_tree(\n\u001b[1;32m    625\u001b[0m                 et\u001b[38;5;241m.\u001b[39mchildren_left[node_id], et, criterion, depth\u001b[38;5;241m=\u001b[39mdepth \u001b[38;5;241m+\u001b[39m \u001b[38;5;241m1\u001b[39m\n\u001b[0;32m   (...)\u001b[0m\n\u001b[1;32m    629\u001b[0m             ),\n\u001b[1;32m    630\u001b[0m         ]\n",
      "File \u001b[0;32m/opt/homebrew/lib/python3.11/site-packages/sklearn/tree/_export.py:310\u001b[0m, in \u001b[0;36m_BaseTreeExporter.node_to_str\u001b[0;34m(self, tree, node_id, criterion)\u001b[0m\n\u001b[1;32m    307\u001b[0m \u001b[38;5;28;01mif\u001b[39;00m tree\u001b[38;5;241m.\u001b[39mchildren_left[node_id] \u001b[38;5;241m!=\u001b[39m _tree\u001b[38;5;241m.\u001b[39mTREE_LEAF:\n\u001b[1;32m    308\u001b[0m     \u001b[38;5;66;03m# Always write node decision criteria, except for leaves\u001b[39;00m\n\u001b[1;32m    309\u001b[0m     \u001b[38;5;28;01mif\u001b[39;00m \u001b[38;5;28mself\u001b[39m\u001b[38;5;241m.\u001b[39mfeature_names \u001b[38;5;129;01mis\u001b[39;00m \u001b[38;5;129;01mnot\u001b[39;00m \u001b[38;5;28;01mNone\u001b[39;00m:\n\u001b[0;32m--> 310\u001b[0m         feature \u001b[38;5;241m=\u001b[39m \u001b[38;5;28;43mself\u001b[39;49m\u001b[38;5;241;43m.\u001b[39;49m\u001b[43mfeature_names\u001b[49m\u001b[43m[\u001b[49m\u001b[43mtree\u001b[49m\u001b[38;5;241;43m.\u001b[39;49m\u001b[43mfeature\u001b[49m\u001b[43m[\u001b[49m\u001b[43mnode_id\u001b[49m\u001b[43m]\u001b[49m\u001b[43m]\u001b[49m\n\u001b[1;32m    311\u001b[0m     \u001b[38;5;28;01melse\u001b[39;00m:\n\u001b[1;32m    312\u001b[0m         feature \u001b[38;5;241m=\u001b[39m \u001b[38;5;124m\"\u001b[39m\u001b[38;5;124mx\u001b[39m\u001b[38;5;132;01m%s\u001b[39;00m\u001b[38;5;132;01m%s\u001b[39;00m\u001b[38;5;132;01m%s\u001b[39;00m\u001b[38;5;124m\"\u001b[39m \u001b[38;5;241m%\u001b[39m (\n\u001b[1;32m    313\u001b[0m             characters[\u001b[38;5;241m1\u001b[39m],\n\u001b[1;32m    314\u001b[0m             tree\u001b[38;5;241m.\u001b[39mfeature[node_id],\n\u001b[1;32m    315\u001b[0m             characters[\u001b[38;5;241m2\u001b[39m],\n\u001b[1;32m    316\u001b[0m         )\n",
      "\u001b[0;31mIndexError\u001b[0m: list index out of range"
     ]
    },
    {
     "data": {
      "image/png": "[encoded data removed]",
      "text/plain": [
       "<Figure size 6000x1200 with 1 Axes>"
      ]
     },
     "metadata": {},
     "output_type": "display_data"
    }
   ],
   "source": [
    "plt.figure(figsize=(20, 4), dpi=300)\n",
    "plot_tree(dt, feature_names=attributes, filled=True)\n",
    "plt.show()"
   ]
  },
  {
   "cell_type": "code",
   "execution_count": null,
   "id": "e8005a06",
   "metadata": {},
   "outputs": [],
   "source": []
  }
 ],
 "metadata": {
  "kernelspec": {
   "display_name": "Python 3 (ipykernel)",
   "language": "python",
   "name": "python3"
  },
  "language_info": {
   "codemirror_mode": {
    "name": "ipython",
    "version": 3
   },
   "file_extension": ".py",
   "mimetype": "text/x-python",
   "name": "python",
   "nbconvert_exporter": "python",
   "pygments_lexer": "ipython3",
   "version": "3.11.6"
  }
 },
 "nbformat": 4,
 "nbformat_minor": 5
}
