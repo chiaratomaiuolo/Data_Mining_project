{
 "cells": [
  {
   "cell_type": "markdown",
   "metadata": {},
   "source": [
    "## Data transformation\n",
    "Before starting with classification, we will transform data and normalize in order to compute distances. "
   ]
  },
  {
   "cell_type": "code",
   "execution_count": 1,
   "metadata": {},
   "outputs": [],
   "source": [
    "import numpy as np\n",
    "import matplotlib.pyplot as plt\n",
    "import seaborn as sns\n",
    "import pandas as pd"
   ]
  },
  {
   "cell_type": "code",
   "execution_count": 2,
   "metadata": {},
   "outputs": [],
   "source": [
    "#scaling, normalization\n",
    "from sklearn.preprocessing import StandardScaler, MinMaxScaler\n",
    "\n",
    "#distance matrix (dbscan elbow, hierarchical)\n",
    "from scipy.spatial.distance import pdist, squareform"
   ]
  },
  {
   "cell_type": "code",
   "execution_count": 3,
   "metadata": {},
   "outputs": [],
   "source": [
    "from sklearn.metrics import (\n",
    "    accuracy_score,\n",
    "    f1_score,\n",
    "    classification_report,\n",
    "    confusion_matrix,\n",
    "    roc_auc_score,\n",
    ")\n",
    "from scikitplot.metrics import plot_roc\n",
    "from scikitplot.metrics import plot_precision_recall"
   ]
  },
  {
   "cell_type": "code",
   "execution_count": 4,
   "metadata": {},
   "outputs": [],
   "source": [
    "# importing dataset\n",
    "\n",
    "df_train = pd.read_csv(\"dataset (missing + split)/train.csv\", skipinitialspace=True) #this will be modified"
   ]
  },
  {
   "cell_type": "code",
   "execution_count": 5,
   "metadata": {},
   "outputs": [],
   "source": [
    "#Changing udm to duration_ms and features_duration_ms from ms to min - train\n",
    "df_train['duration_ms'] *= 1/6e4\n",
    "\n",
    "#Setting popularity as a % - train\n",
    "df_train['popularity'] /= 100\n",
    "df_train.rename(columns = {'duration_ms':'duration_min'}, inplace = True)\n",
    "df_train.rename(columns = {'popularity':'popularity_percent'}, inplace = True)"
   ]
  },
  {
   "cell_type": "markdown",
   "metadata": {},
   "source": [
    "### Filling of NaN values"
   ]
  },
  {
   "cell_type": "code",
   "execution_count": 6,
   "metadata": {},
   "outputs": [],
   "source": [
    "#Dealing with mode attribute missing values - train\n",
    "#Computing p0 and p1 and filling missing values of mode attribute by sampling\n",
    "\n",
    "p0=df_train['mode'].value_counts()[0]/(len(df_train)-df_train['mode'].isnull().sum())\n",
    "p1=df_train['mode'].value_counts()[1]/(len(df_train)-df_train['mode'].isnull().sum())\n",
    "list_of_nan_indexes_train=df_train[df_train['mode'].isnull()].index.tolist()\n",
    "for i in list_of_nan_indexes_train:\n",
    "    if np.random.random() < p1:\n",
    "        df_train.loc[i,'mode'] = 1.0\n",
    "    else:\n",
    "        df_train.loc[i,'mode'] = 0.0"
   ]
  },
  {
   "cell_type": "code",
   "execution_count": 7,
   "metadata": {},
   "outputs": [],
   "source": [
    "#Dealing with time_signature attribute missing values - train\n",
    "#Computing the array containing the probabilities of every outcome for time_signature\n",
    "outcomes_of_time_signature = len(df_train['time_signature'].value_counts())\n",
    "p_array=np.array(df_train['time_signature'].value_counts().sort_index(ascending=True)/(len(df_train)-df_train['time_signature'].isnull().sum()))\n",
    "#creating a dictionary containing the correspondance between value and sorted index\n",
    "dict_ts = {0: 0.0, 1: 1.0, 2: 3.0, 3 : 4.0, 4 : 5.0}\n",
    "list_of_nan_indexes_ts=df_train[df_train['time_signature'].isnull()].index.tolist()\n",
    "from scipy.stats import multinomial \n",
    "#please forgive the dunb programming here, no real deal of time, only ~3000 points to be evaluated\n",
    "for i in list_of_nan_indexes_ts:\n",
    "    tmp = multinomial.rvs(1, p_array, size=1, random_state=None)\n",
    "    array_tmp=np.where(tmp[0][:]==1)\n",
    "    index=array_tmp[0][0] #implement a dict for the substitution\n",
    "    df_train.loc[i,'time_signature'] = dict_ts[index]"
   ]
  },
  {
   "cell_type": "markdown",
   "metadata": {},
   "source": [
    "Let's check if everything is fine"
   ]
  },
  {
   "cell_type": "code",
   "execution_count": 8,
   "metadata": {},
   "outputs": [
    {
     "data": {
      "text/plain": [
       "name                         0\n",
       "duration_min                 0\n",
       "explicit                     0\n",
       "popularity_percent           0\n",
       "artists                      0\n",
       "album_name                   0\n",
       "danceability                 0\n",
       "energy                       0\n",
       "key                          0\n",
       "loudness                     0\n",
       "mode                         0\n",
       "speechiness                  0\n",
       "acousticness                 0\n",
       "instrumentalness             0\n",
       "liveness                     0\n",
       "valence                      0\n",
       "tempo                        0\n",
       "features_duration_ms         0\n",
       "time_signature               0\n",
       "n_beats                      0\n",
       "n_bars                       0\n",
       "popularity_confidence    12783\n",
       "processing                   0\n",
       "genre                        0\n",
       "dtype: int64"
      ]
     },
     "execution_count": 8,
     "metadata": {},
     "output_type": "execute_result"
    }
   ],
   "source": [
    "df_train.isnull().sum()"
   ]
  },
  {
   "cell_type": "code",
   "execution_count": 9,
   "metadata": {},
   "outputs": [
    {
     "data": {
      "text/plain": [
       "genre\n",
       "j-dance          750\n",
       "iranian          750\n",
       "brazil           750\n",
       "chicago-house    750\n",
       "forro            750\n",
       "idm              750\n",
       "indian           750\n",
       "study            750\n",
       "disney           750\n",
       "afrobeat         750\n",
       "mandopop         750\n",
       "techno           750\n",
       "sleep            750\n",
       "spanish          750\n",
       "j-idol           750\n",
       "industrial       750\n",
       "happy            750\n",
       "bluegrass        750\n",
       "black-metal      750\n",
       "breakbeat        750\n",
       "Name: count, dtype: int64"
      ]
     },
     "execution_count": 9,
     "metadata": {},
     "output_type": "execute_result"
    }
   ],
   "source": [
    "df_train['genre'].value_counts()"
   ]
  },
  {
   "cell_type": "markdown",
   "metadata": {},
   "source": [
    "### Outlier criteria\n",
    "For now, we do not consider any point as outlier because none of them miss the classification label and considering that this time one of our tasks is to distinguish between musical genra and not-musical genra. "
   ]
  },
  {
   "cell_type": "markdown",
   "metadata": {},
   "source": [
    "### Eliminating redundant features"
   ]
  },
  {
   "cell_type": "code",
   "execution_count": 10,
   "metadata": {},
   "outputs": [
    {
     "data": {
      "text/plain": [
       "name                      object\n",
       "duration_min             float64\n",
       "explicit                    bool\n",
       "popularity_percent       float64\n",
       "artists                   object\n",
       "album_name                object\n",
       "danceability             float64\n",
       "energy                   float64\n",
       "key                        int64\n",
       "loudness                 float64\n",
       "mode                     float64\n",
       "speechiness              float64\n",
       "acousticness             float64\n",
       "instrumentalness         float64\n",
       "liveness                 float64\n",
       "valence                  float64\n",
       "tempo                    float64\n",
       "features_duration_ms       int64\n",
       "time_signature           float64\n",
       "n_beats                  float64\n",
       "n_bars                   float64\n",
       "popularity_confidence    float64\n",
       "processing               float64\n",
       "genre                     object\n",
       "dtype: object"
      ]
     },
     "execution_count": 10,
     "metadata": {},
     "output_type": "execute_result"
    }
   ],
   "source": [
    "df_train.dtypes"
   ]
  },
  {
   "cell_type": "code",
   "execution_count": 11,
   "metadata": {},
   "outputs": [],
   "source": [
    "#cols that gives max complexity or that are highly correlated\n",
    "column2drop = ['features_duration_ms', 'popularity_confidence', 'processing', 'name', 'artists','album_name', 'n_bars', 'n_beats'] \n",
    "df_train.drop(column2drop, axis=1, inplace=True)"
   ]
  },
  {
   "cell_type": "code",
   "execution_count": 12,
   "metadata": {},
   "outputs": [
    {
     "data": {
      "text/html": [
       "<div>\n",
       "<style scoped>\n",
       "    .dataframe tbody tr th:only-of-type {\n",
       "        vertical-align: middle;\n",
       "    }\n",
       "\n",
       "    .dataframe tbody tr th {\n",
       "        vertical-align: top;\n",
       "    }\n",
       "\n",
       "    .dataframe thead th {\n",
       "        text-align: right;\n",
       "    }\n",
       "</style>\n",
       "<table border=\"1\" class=\"dataframe\">\n",
       "  <thead>\n",
       "    <tr style=\"text-align: right;\">\n",
       "      <th></th>\n",
       "      <th>duration_min</th>\n",
       "      <th>explicit</th>\n",
       "      <th>popularity_percent</th>\n",
       "      <th>danceability</th>\n",
       "      <th>energy</th>\n",
       "      <th>key</th>\n",
       "      <th>loudness</th>\n",
       "      <th>mode</th>\n",
       "      <th>speechiness</th>\n",
       "      <th>acousticness</th>\n",
       "      <th>instrumentalness</th>\n",
       "      <th>liveness</th>\n",
       "      <th>valence</th>\n",
       "      <th>tempo</th>\n",
       "      <th>time_signature</th>\n",
       "      <th>genre</th>\n",
       "    </tr>\n",
       "  </thead>\n",
       "  <tbody>\n",
       "    <tr>\n",
       "      <th>0</th>\n",
       "      <td>4.029333</td>\n",
       "      <td>False</td>\n",
       "      <td>0.46</td>\n",
       "      <td>0.690</td>\n",
       "      <td>0.513</td>\n",
       "      <td>5</td>\n",
       "      <td>-12.529</td>\n",
       "      <td>1.0</td>\n",
       "      <td>0.0975</td>\n",
       "      <td>0.302000</td>\n",
       "      <td>0.53600</td>\n",
       "      <td>0.281</td>\n",
       "      <td>0.6350</td>\n",
       "      <td>142.221</td>\n",
       "      <td>4.0</td>\n",
       "      <td>j-dance</td>\n",
       "    </tr>\n",
       "    <tr>\n",
       "      <th>1</th>\n",
       "      <td>7.400000</td>\n",
       "      <td>False</td>\n",
       "      <td>0.00</td>\n",
       "      <td>0.069</td>\n",
       "      <td>0.196</td>\n",
       "      <td>1</td>\n",
       "      <td>-24.801</td>\n",
       "      <td>0.0</td>\n",
       "      <td>0.0805</td>\n",
       "      <td>0.283000</td>\n",
       "      <td>0.93400</td>\n",
       "      <td>0.360</td>\n",
       "      <td>0.0336</td>\n",
       "      <td>75.596</td>\n",
       "      <td>4.0</td>\n",
       "      <td>iranian</td>\n",
       "    </tr>\n",
       "    <tr>\n",
       "      <th>2</th>\n",
       "      <td>5.558433</td>\n",
       "      <td>False</td>\n",
       "      <td>0.03</td>\n",
       "      <td>0.363</td>\n",
       "      <td>0.854</td>\n",
       "      <td>2</td>\n",
       "      <td>-7.445</td>\n",
       "      <td>1.0</td>\n",
       "      <td>0.0397</td>\n",
       "      <td>0.000089</td>\n",
       "      <td>0.80000</td>\n",
       "      <td>0.262</td>\n",
       "      <td>0.4890</td>\n",
       "      <td>116.628</td>\n",
       "      <td>4.0</td>\n",
       "      <td>black-metal</td>\n",
       "    </tr>\n",
       "    <tr>\n",
       "      <th>3</th>\n",
       "      <td>4.496667</td>\n",
       "      <td>False</td>\n",
       "      <td>0.23</td>\n",
       "      <td>0.523</td>\n",
       "      <td>0.585</td>\n",
       "      <td>5</td>\n",
       "      <td>-5.607</td>\n",
       "      <td>1.0</td>\n",
       "      <td>0.0765</td>\n",
       "      <td>0.066400</td>\n",
       "      <td>0.00127</td>\n",
       "      <td>0.117</td>\n",
       "      <td>0.3850</td>\n",
       "      <td>140.880</td>\n",
       "      <td>4.0</td>\n",
       "      <td>bluegrass</td>\n",
       "    </tr>\n",
       "    <tr>\n",
       "      <th>4</th>\n",
       "      <td>5.127517</td>\n",
       "      <td>False</td>\n",
       "      <td>0.25</td>\n",
       "      <td>0.643</td>\n",
       "      <td>0.687</td>\n",
       "      <td>7</td>\n",
       "      <td>-11.340</td>\n",
       "      <td>1.0</td>\n",
       "      <td>0.0539</td>\n",
       "      <td>0.000576</td>\n",
       "      <td>0.09690</td>\n",
       "      <td>0.299</td>\n",
       "      <td>0.6370</td>\n",
       "      <td>143.956</td>\n",
       "      <td>4.0</td>\n",
       "      <td>happy</td>\n",
       "    </tr>\n",
       "  </tbody>\n",
       "</table>\n",
       "</div>"
      ],
      "text/plain": [
       "   duration_min  explicit  popularity_percent  danceability  energy  key  \\\n",
       "0      4.029333     False                0.46         0.690   0.513    5   \n",
       "1      7.400000     False                0.00         0.069   0.196    1   \n",
       "2      5.558433     False                0.03         0.363   0.854    2   \n",
       "3      4.496667     False                0.23         0.523   0.585    5   \n",
       "4      5.127517     False                0.25         0.643   0.687    7   \n",
       "\n",
       "   loudness  mode  speechiness  acousticness  instrumentalness  liveness  \\\n",
       "0   -12.529   1.0       0.0975      0.302000           0.53600     0.281   \n",
       "1   -24.801   0.0       0.0805      0.283000           0.93400     0.360   \n",
       "2    -7.445   1.0       0.0397      0.000089           0.80000     0.262   \n",
       "3    -5.607   1.0       0.0765      0.066400           0.00127     0.117   \n",
       "4   -11.340   1.0       0.0539      0.000576           0.09690     0.299   \n",
       "\n",
       "   valence    tempo  time_signature        genre  \n",
       "0   0.6350  142.221             4.0      j-dance  \n",
       "1   0.0336   75.596             4.0      iranian  \n",
       "2   0.4890  116.628             4.0  black-metal  \n",
       "3   0.3850  140.880             4.0    bluegrass  \n",
       "4   0.6370  143.956             4.0        happy  "
      ]
     },
     "execution_count": 12,
     "metadata": {},
     "output_type": "execute_result"
    }
   ],
   "source": [
    "df_train.head()"
   ]
  },
  {
   "cell_type": "markdown",
   "metadata": {},
   "source": [
    "### Encoding `str` values - creating the various `genre` maps\n",
    "- first map: 20 classes, one for every genre;\n",
    "- second map: regrouping per macro genre with the following labels:  \n",
    "\n",
    "| Label | Macro genre | `genre` list |\n",
    "| ----------- | ----------- | -------------------------------------------------------------|\n",
    "| 0 | Electronic | `breakbeat`, `chicago house`, `techno`, `afrobeat`, `idm` , `industrial`|\n",
    "| 1 | Pop + Asian| `mandopop`,`j-idol`,`happy`,`disney`,`j-dance`, `indian`|\n",
    "| 2 | Latin | `forro`,`brazil`,`spanish`|\n",
    "| 3 | Country | `bluegrass`|\n",
    "| 4 | Metal | `black metal`|\n",
    "| 5 | Iranian | `iranian`|\n",
    "| 6 | Others | `sleep`, `study`|"
   ]
  },
  {
   "cell_type": "code",
   "execution_count": 13,
   "metadata": {},
   "outputs": [],
   "source": [
    "#Creating genre map I -> mapping every genre into an int value in order to have correlation values. \n",
    "genre_map={\"j-dance\":0,\"iranian\":1,\"brazil\":2,\"chicago-house\":3,\"forro\":4,\"idm\":5,\"indian\":6,\"study\":7,\"disney\":8,\"afrobeat\":9,\"mandopop\":10,\"techno\":11,\"sleep\":12,\"spanish\":13,\"j-idol\":14,\"industrial\":15,\"happy\":16,\"bluegrass\":17,\"black-metal\":18,\"breakbeat\":19}\n",
    "#Creating genre map II -> mapping in macro-categories as described above\n",
    "macrogenre_map={\"j-dance\":1,\"iranian\":5,\"brazil\":2,\"chicago-house\":0,\"forro\":2,\"idm\":0,\"indian\":1,\"study\":6,\"disney\":1,\"afrobeat\":0,\"mandopop\":1,\"techno\":0,\"sleep\":6,\"spanish\":2,\"j-idol\":1,\"industrial\":0,\"happy\":1,\"bluegrass\":3,\"black-metal\":4,\"breakbeat\":0}\n",
    "\n",
    "#aa"
   ]
  },
  {
   "cell_type": "markdown",
   "metadata": {},
   "source": [
    "#### Encoding attributes for pattern mining "
   ]
  },
  {
   "cell_type": "markdown",
   "metadata": {},
   "source": [
    "Encoding continuous variables using percentiles. "
   ]
  },
  {
   "cell_type": "code",
   "execution_count": 15,
   "metadata": {},
   "outputs": [],
   "source": [
    "#bins the continuous attributes using quartile distribution\n",
    "df_train[\"duration_min_bin\"] = pd.qcut(df_train[\"duration_min\"], 4)\n",
    "df_train[\"popularity_percent_bin\"] = pd.qcut(df_train[\"popularity_percent\"], 4)\n",
    "df_train[\"danceability_bin\"] = pd.qcut(df_train[\"danceability\"], 4)\n",
    "df_train[\"energy_bin\"] = pd.qcut(df_train[\"energy\"], 4)\n",
    "df_train[\"loudness_bin\"] = pd.qcut(df_train[\"loudness\"], 4)\n",
    "df_train[\"speechiness_bin\"] = pd.qcut(df_train[\"speechiness\"], 4)\n",
    "df_train[\"acousticness_bin\"] = pd.qcut(df_train[\"acousticness\"], 4)\n",
    "df_train[\"instrumentalness_bin\"] = pd.qcut(df_train[\"instrumentalness\"], 4, duplicates='drop')\n",
    "df_train[\"liveness_bin\"] = pd.qcut(df_train[\"liveness\"], 4)\n",
    "df_train[\"valence_bin\"] = pd.qcut(df_train[\"valence\"], 4)\n",
    "df_train[\"tempo_bin\"] = pd.qcut(df_train[\"tempo\"], 4)\n",
    "\n",
    "\n",
    "\n",
    "\n",
    "\n",
    "df_train.drop([\"duration_min\", \"popularity_percent\", \"danceability\", \"energy\", \n",
    "               \"loudness\", \"speechiness\", \"acousticness\", \"instrumentalness\", \n",
    "               \"liveness\", \"valence\", \"tempo\"], axis=1, inplace=True)\n"
   ]
  },
  {
   "cell_type": "code",
   "execution_count": 16,
   "metadata": {},
   "outputs": [
    {
     "data": {
      "text/html": [
       "<div>\n",
       "<style scoped>\n",
       "    .dataframe tbody tr th:only-of-type {\n",
       "        vertical-align: middle;\n",
       "    }\n",
       "\n",
       "    .dataframe tbody tr th {\n",
       "        vertical-align: top;\n",
       "    }\n",
       "\n",
       "    .dataframe thead th {\n",
       "        text-align: right;\n",
       "    }\n",
       "</style>\n",
       "<table border=\"1\" class=\"dataframe\">\n",
       "  <thead>\n",
       "    <tr style=\"text-align: right;\">\n",
       "      <th></th>\n",
       "      <th>explicit</th>\n",
       "      <th>key</th>\n",
       "      <th>mode</th>\n",
       "      <th>time_signature</th>\n",
       "      <th>genre</th>\n",
       "      <th>duration_min_bin</th>\n",
       "      <th>popularity_percent_bin</th>\n",
       "      <th>danceability_bin</th>\n",
       "      <th>energy_bin</th>\n",
       "      <th>loudness_bin</th>\n",
       "      <th>speechiness_bin</th>\n",
       "      <th>acousticness_bin</th>\n",
       "      <th>instrumentalness_bin</th>\n",
       "      <th>liveness_bin</th>\n",
       "      <th>valence_bin</th>\n",
       "      <th>tempo_bin</th>\n",
       "    </tr>\n",
       "  </thead>\n",
       "  <tbody>\n",
       "    <tr>\n",
       "      <th>0</th>\n",
       "      <td>False</td>\n",
       "      <td>5</td>\n",
       "      <td>1.0</td>\n",
       "      <td>4.0</td>\n",
       "      <td>j-dance</td>\n",
       "      <td>(3.797, 4.815]</td>\n",
       "      <td>(0.42, 0.94]</td>\n",
       "      <td>(0.58, 0.695]</td>\n",
       "      <td>(0.48, 0.709]</td>\n",
       "      <td>(-49.532, -10.636]</td>\n",
       "      <td>(0.0886, 0.939]</td>\n",
       "      <td>(0.155, 0.573]</td>\n",
       "      <td>(0.00313, 0.744]</td>\n",
       "      <td>(0.28, 0.994]</td>\n",
       "      <td>(0.416, 0.664]</td>\n",
       "      <td>(141.986, 220.525]</td>\n",
       "    </tr>\n",
       "    <tr>\n",
       "      <th>1</th>\n",
       "      <td>False</td>\n",
       "      <td>1</td>\n",
       "      <td>0.0</td>\n",
       "      <td>4.0</td>\n",
       "      <td>iranian</td>\n",
       "      <td>(4.815, 68.671]</td>\n",
       "      <td>(-0.001, 0.14]</td>\n",
       "      <td>(-0.001, 0.441]</td>\n",
       "      <td>(-0.001, 0.48]</td>\n",
       "      <td>(-49.532, -10.636]</td>\n",
       "      <td>(0.051, 0.0886]</td>\n",
       "      <td>(0.155, 0.573]</td>\n",
       "      <td>(0.744, 1.0]</td>\n",
       "      <td>(0.28, 0.994]</td>\n",
       "      <td>(-0.001, 0.196]</td>\n",
       "      <td>(-0.001, 99.939]</td>\n",
       "    </tr>\n",
       "    <tr>\n",
       "      <th>2</th>\n",
       "      <td>False</td>\n",
       "      <td>2</td>\n",
       "      <td>1.0</td>\n",
       "      <td>4.0</td>\n",
       "      <td>black-metal</td>\n",
       "      <td>(4.815, 68.671]</td>\n",
       "      <td>(-0.001, 0.14]</td>\n",
       "      <td>(-0.001, 0.441]</td>\n",
       "      <td>(0.709, 0.884]</td>\n",
       "      <td>(-10.636, -7.303]</td>\n",
       "      <td>(0.0373, 0.051]</td>\n",
       "      <td>(-0.001, 0.00974]</td>\n",
       "      <td>(0.744, 1.0]</td>\n",
       "      <td>(0.131, 0.28]</td>\n",
       "      <td>(0.416, 0.664]</td>\n",
       "      <td>(99.939, 124.188]</td>\n",
       "    </tr>\n",
       "    <tr>\n",
       "      <th>3</th>\n",
       "      <td>False</td>\n",
       "      <td>5</td>\n",
       "      <td>1.0</td>\n",
       "      <td>4.0</td>\n",
       "      <td>bluegrass</td>\n",
       "      <td>(3.797, 4.815]</td>\n",
       "      <td>(0.14, 0.24]</td>\n",
       "      <td>(0.441, 0.58]</td>\n",
       "      <td>(0.48, 0.709]</td>\n",
       "      <td>(-7.303, -5.101]</td>\n",
       "      <td>(0.051, 0.0886]</td>\n",
       "      <td>(0.00974, 0.155]</td>\n",
       "      <td>(-0.001, 0.00313]</td>\n",
       "      <td>(0.0979, 0.131]</td>\n",
       "      <td>(0.196, 0.416]</td>\n",
       "      <td>(124.188, 141.986]</td>\n",
       "    </tr>\n",
       "    <tr>\n",
       "      <th>4</th>\n",
       "      <td>False</td>\n",
       "      <td>7</td>\n",
       "      <td>1.0</td>\n",
       "      <td>4.0</td>\n",
       "      <td>happy</td>\n",
       "      <td>(4.815, 68.671]</td>\n",
       "      <td>(0.24, 0.42]</td>\n",
       "      <td>(0.58, 0.695]</td>\n",
       "      <td>(0.48, 0.709]</td>\n",
       "      <td>(-49.532, -10.636]</td>\n",
       "      <td>(0.051, 0.0886]</td>\n",
       "      <td>(-0.001, 0.00974]</td>\n",
       "      <td>(0.00313, 0.744]</td>\n",
       "      <td>(0.28, 0.994]</td>\n",
       "      <td>(0.416, 0.664]</td>\n",
       "      <td>(141.986, 220.525]</td>\n",
       "    </tr>\n",
       "  </tbody>\n",
       "</table>\n",
       "</div>"
      ],
      "text/plain": [
       "   explicit  key  mode  time_signature        genre duration_min_bin  \\\n",
       "0     False    5   1.0             4.0      j-dance   (3.797, 4.815]   \n",
       "1     False    1   0.0             4.0      iranian  (4.815, 68.671]   \n",
       "2     False    2   1.0             4.0  black-metal  (4.815, 68.671]   \n",
       "3     False    5   1.0             4.0    bluegrass   (3.797, 4.815]   \n",
       "4     False    7   1.0             4.0        happy  (4.815, 68.671]   \n",
       "\n",
       "  popularity_percent_bin danceability_bin      energy_bin        loudness_bin  \\\n",
       "0           (0.42, 0.94]    (0.58, 0.695]   (0.48, 0.709]  (-49.532, -10.636]   \n",
       "1         (-0.001, 0.14]  (-0.001, 0.441]  (-0.001, 0.48]  (-49.532, -10.636]   \n",
       "2         (-0.001, 0.14]  (-0.001, 0.441]  (0.709, 0.884]   (-10.636, -7.303]   \n",
       "3           (0.14, 0.24]    (0.441, 0.58]   (0.48, 0.709]    (-7.303, -5.101]   \n",
       "4           (0.24, 0.42]    (0.58, 0.695]   (0.48, 0.709]  (-49.532, -10.636]   \n",
       "\n",
       "   speechiness_bin   acousticness_bin instrumentalness_bin     liveness_bin  \\\n",
       "0  (0.0886, 0.939]     (0.155, 0.573]     (0.00313, 0.744]    (0.28, 0.994]   \n",
       "1  (0.051, 0.0886]     (0.155, 0.573]         (0.744, 1.0]    (0.28, 0.994]   \n",
       "2  (0.0373, 0.051]  (-0.001, 0.00974]         (0.744, 1.0]    (0.131, 0.28]   \n",
       "3  (0.051, 0.0886]   (0.00974, 0.155]    (-0.001, 0.00313]  (0.0979, 0.131]   \n",
       "4  (0.051, 0.0886]  (-0.001, 0.00974]     (0.00313, 0.744]    (0.28, 0.994]   \n",
       "\n",
       "       valence_bin           tempo_bin  \n",
       "0   (0.416, 0.664]  (141.986, 220.525]  \n",
       "1  (-0.001, 0.196]    (-0.001, 99.939]  \n",
       "2   (0.416, 0.664]   (99.939, 124.188]  \n",
       "3   (0.196, 0.416]  (124.188, 141.986]  \n",
       "4   (0.416, 0.664]  (141.986, 220.525]  "
      ]
     },
     "execution_count": 16,
     "metadata": {},
     "output_type": "execute_result"
    }
   ],
   "source": [
    "df_train.head()"
   ]
  },
  {
   "cell_type": "markdown",
   "metadata": {},
   "source": [
    "Now need to do the label encoder for the nominal categorical attributes. "
   ]
  },
  {
   "cell_type": "markdown",
   "metadata": {},
   "source": []
  }
 ],
 "metadata": {
  "kernelspec": {
   "display_name": "Python 3",
   "language": "python",
   "name": "python3"
  },
  "language_info": {
   "codemirror_mode": {
    "name": "ipython",
    "version": 3
   },
   "file_extension": ".py",
   "mimetype": "text/x-python",
   "name": "python",
   "nbconvert_exporter": "python",
   "pygments_lexer": "ipython3",
   "version": "3.11.6"
  }
 },
 "nbformat": 4,
 "nbformat_minor": 2
}
