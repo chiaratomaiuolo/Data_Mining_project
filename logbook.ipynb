{
 "cells": [
  {
   "cell_type": "markdown",
   "id": "f238d4e2",
   "metadata": {},
   "source": [
    "## Logbook\n",
    "This notebook contains all the 'flying thoughts' to be further analyzed (in order not to forget anything!)"
   ]
  },
  {
   "cell_type": "markdown",
   "id": "3e2da231",
   "metadata": {},
   "source": [
    "### Searching for division between podcasts and songs\n",
    "- ADDING NUMERIC MAP FOR GENRE!!!\n",
    "- Try to see the correlation plot inserting `genre` as `hue`."
   ]
  },
  {
   "cell_type": "markdown",
   "id": "0364f718",
   "metadata": {},
   "source": []
  }
 ],
 "metadata": {
  "kernelspec": {
   "display_name": "Python 3 (ipykernel)",
   "language": "python",
   "name": "python3"
  },
  "language_info": {
   "codemirror_mode": {
    "name": "ipython",
    "version": 3
   },
   "file_extension": ".py",
   "mimetype": "text/x-python",
   "name": "python",
   "nbconvert_exporter": "python",
   "pygments_lexer": "ipython3",
   "version": "3.11.6"
  }
 },
 "nbformat": 4,
 "nbformat_minor": 5
}
