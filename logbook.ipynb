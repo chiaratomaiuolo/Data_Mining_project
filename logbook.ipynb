{
 "cells": [
  {
   "cell_type": "markdown",
   "id": "dd01d3af",
   "metadata": {},
   "source": [
    "## Logbook\n",
    "This notebook contains all the 'flying thoughts' to be further analyzed (in order not to forget anything!)"
   ]
  },
  {
   "cell_type": "markdown",
   "id": "0d234037",
   "metadata": {},
   "source": [
    "### Searching for division between podcasts and songs\n",
    "- ADDING NUMERIC MAP FOR GENRE!!!\n",
    "- Try to see the correlation plot inserting `genre` as `hue`."
   ]
  },
  {
   "cell_type": "markdown",
   "id": "948ff2f7",
   "metadata": {},
   "source": [
    "- Understanding what is `processing` attribute. I think that is some technical value, bc is correlated only with `key` and `mode`.\n",
    "UPDATE: deleting `processing` attribute bc there exists a map one-by-one between the `key` attribute and the `processing` attribute. "
   ]
  },
  {
   "cell_type": "code",
   "execution_count": null,
   "id": "d6ae439c",
   "metadata": {},
   "outputs": [],
   "source": []
  }
 ],
 "metadata": {
  "kernelspec": {
   "display_name": "Python 3 (ipykernel)",
   "language": "python",
   "name": "python3"
  },
  "language_info": {
   "codemirror_mode": {
    "name": "ipython",
    "version": 3
   },
   "file_extension": ".py",
   "mimetype": "text/x-python",
   "name": "python",
   "nbconvert_exporter": "python",
   "pygments_lexer": "ipython3",
   "version": "3.11.6"
  }
 },
 "nbformat": 4,
 "nbformat_minor": 5
}
